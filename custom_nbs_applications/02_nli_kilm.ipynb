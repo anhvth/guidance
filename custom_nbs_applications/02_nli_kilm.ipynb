{
 "cells": [
  {
   "cell_type": "code",
   "execution_count": 2,
   "metadata": {},
   "outputs": [],
   "source": [
    "# %%bash\n",
    "import os\n",
    "os.environ['http_proxy'] = 'http://localhost:8081'\n",
    "os.environ['https_proxy'] = 'http://localhost:8081'\n",
    "os.environ['NCCL_P2P_DISABLE'] = '1'\n",
    "os.environ['CUDA_VISIBLE_DEVICES'] = '0'\n"
   ]
  },
  {
   "cell_type": "code",
   "execution_count": 3,
   "metadata": {},
   "outputs": [
    {
     "name": "stdout",
     "output_type": "stream",
     "text": [
      "/mnt/nfs-data/users/anhvth5/projects/guidance\n"
     ]
    }
   ],
   "source": [
    "%cd '/mnt/nfs-data/users/anhvth5/projects/guidance/'\n",
    "%load_ext autoreload\n",
    "%autoreload 2"
   ]
  },
  {
   "cell_type": "code",
   "execution_count": 3,
   "metadata": {},
   "outputs": [],
   "source": [
    "from speedy import *\n",
    "from guidance import *"
   ]
  },
  {
   "cell_type": "code",
   "execution_count": 4,
   "metadata": {},
   "outputs": [
    {
     "name": "stderr",
     "output_type": "stream",
     "text": [
      "\u001b[32m2024-01-01 05:05:56.983\u001b[0m | \u001b[1mINFO    \u001b[0m | \u001b[36mspeedy.utils\u001b[0m:\u001b[36mmulti_process\u001b[0m:\u001b[36m262\u001b[0m - \u001b[1mMulti processing load_by_ext | Num samples: 6788\u001b[0m\n"
     ]
    },
    {
     "data": {
      "application/vnd.jupyter.widget-view+json": {
       "model_id": "3973dcc196294ffc8d828430df3c26b9",
       "version_major": 2,
       "version_minor": 0
      },
      "text/plain": [
       "  0%|          | 0/6788 [00:00<?, ?it/s]"
      ]
     },
     "metadata": {},
     "output_type": "display_data"
    }
   ],
   "source": [
    "data = load_by_ext('../tvpl_crawler/data/tvpl_qa_short_answer_giaothong/qa_short_answer/*')\n",
    "questions = []\n",
    "for qa in data:\n",
    "    questions.extend(qa['questions'])"
   ]
  },
  {
   "cell_type": "code",
   "execution_count": 8,
   "metadata": {},
   "outputs": [],
   "source": [
    "test_data = load_by_ext('../../data/chat-formated-dataset/tvpl_giaothong_rag_nli_vietnamese_val.json')\n",
    "gemini_data = load_by_ext('../../data/chat-formated-dataset/giaothong_ask_gemini_suports_or_neutral.json')\n",
    "qac_data = load_by_ext('../../data/chat-formated-dataset/qac_to_chat_augmentation.json')"
   ]
  },
  {
   "cell_type": "code",
   "execution_count": 6,
   "metadata": {},
   "outputs": [
    {
     "name": "stderr",
     "output_type": "stream",
     "text": [
      "\u001b[32m2024-01-01 05:06:02.689\u001b[0m | \u001b[1mINFO    \u001b[0m | \u001b[36mllm_lora.load_transformer\u001b[0m:\u001b[36m<module>\u001b[0m:\u001b[36m56\u001b[0m - \u001b[1mUsing interactive mode for `load_transformer_llm`\u001b[0m\n"
     ]
    },
    {
     "data": {
      "application/vnd.jupyter.widget-view+json": {
       "model_id": "deb12f8865da4b0d8f548905f33f2f94",
       "version_major": 2,
       "version_minor": 0
      },
      "text/plain": [
       "Loading checkpoint shards:   0%|          | 0/3 [00:00<?, ?it/s]"
      ]
     },
     "metadata": {},
     "output_type": "display_data"
    },
    {
     "name": "stderr",
     "output_type": "stream",
     "text": [
      "Special tokens have been added in the vocabulary, make sure the associated word embeddings are fine-tuned or trained.\n",
      "Special tokens have been added in the vocabulary, make sure the associated word embeddings are fine-tuned or trained.\n",
      "\u001b[32m2024-01-01 05:06:21.877\u001b[0m | \u001b[1mINFO    \u001b[0m | \u001b[36mllm_lora.kilm_app\u001b[0m:\u001b[36m__init__\u001b[0m:\u001b[36m75\u001b[0m - \u001b[1mTrue id: 14415, False id: 26239\u001b[0m\n",
      "\u001b[32m2024-01-01 05:06:21.880\u001b[0m | \u001b[1mINFO    \u001b[0m | \u001b[36mllm_lora.kilm_app\u001b[0m:\u001b[36m__init__\u001b[0m:\u001b[36m75\u001b[0m - \u001b[1mTrue id: 14415, False id: 26239\u001b[0m\n"
     ]
    }
   ],
   "source": [
    "from llm_lora.kilm_app import KilmForQAC, KilmForNLI\n",
    "kilm_qac = KilmForQAC('../kilm-finetuning/output/kilm/01_qac_nli/')\n",
    "\n",
    "kilm_nli = KilmForNLI('../kilm-finetuning/output/kilm/01_qac_nli/')"
   ]
  },
  {
   "cell_type": "code",
   "execution_count": 9,
   "metadata": {},
   "outputs": [],
   "source": [
    "qac_test = load_by_ext('../../data/qac-data/za_qac/qac_test.jsonl')\n",
    "preds = []\n",
    "labels = []\n",
    "for item in tqdm(qac_test):\n",
    "    pred = kilm_qac(item['question'],'{} | {}'.format(item['title'], item['text']))\n",
    "    labels.append(item['label'])\n",
    "    preds.append(pred)\n",
    "scores = np.array([pred['score'] for pred in preds])\n",
    "\n",
    "from sklearn.metrics import accuracy_score, f1_score, precision_score, recall_score\n",
    "print('acc', f1_score(labels, scores > 0.35))"
   ]
  },
  {
   "cell_type": "code",
   "execution_count": 10,
   "metadata": {},
   "outputs": [
    {
     "data": {
      "application/vnd.jupyter.widget-view+json": {
       "model_id": "fd7360e36ca346cf9668326c189a8f10",
       "version_major": 2,
       "version_minor": 0
      },
      "text/plain": [
       "  0%|          | 0/3512 [00:00<?, ?it/s]"
      ]
     },
     "metadata": {},
     "output_type": "display_data"
    },
    {
     "name": "stderr",
     "output_type": "stream",
     "text": [
      "huggingface/tokenizers: The current process just got forked, after parallelism has already been used. Disabling parallelism to avoid deadlocks...\n",
      "To disable this warning, you can either:\n",
      "\t- Avoid using `tokenizers` before the fork if possible\n",
      "\t- Explicitly set the environment variable TOKENIZERS_PARALLELISM=(true | false)\n"
     ]
    },
    {
     "name": "stdout",
     "output_type": "stream",
     "text": [
      "acc 0.8943965517241379\n"
     ]
    }
   ],
   "source": []
  },
  {
   "cell_type": "code",
   "execution_count": 15,
   "metadata": {},
   "outputs": [
    {
     "name": "stdout",
     "output_type": "stream",
     "text": [
      "acc 0.8947951273532669\n"
     ]
    }
   ],
   "source": [
    "print('acc', f1_score(labels, scores > 0.5))"
   ]
  },
  {
   "cell_type": "code",
   "execution_count": 23,
   "metadata": {},
   "outputs": [],
   "source": [
    "from llm_lora.transformer_generator import KilmChatInterface\n",
    "system = '''Bạn đã được giao nhiệm vụ Suy Luận Ngôn Ngữ Tự Nhiên (NLI), bao gồm việc phân tích một câu hỏi, câu trả lời đã cho, và tài liệu đã truy xuất. Hãy làm theo các bước sau:\n",
    "\n",
    "Hiểu Rõ Câu Hỏi: Nắm bắt toàn bộ ngữ cảnh và chi tiết cụ thể.\n",
    "Phân Tích Câu Trả Lời: Xem xét các điểm chính, lập luận, và chi tiết của nó.\n",
    "Xem Xét Tài Liệu: Tìm kiếm thông tin liên quan đến câu hỏi và câu trả lời.\n",
    "Mục tiêu là xác định liệu tài liệu có hỗ trợ cho câu hỏi và câu trả lời hay không.'''\n",
    "\n",
    "kilm_chat = KilmChatInterface(kilm_nli.model, kilm_nli.tokenizer, system)"
   ]
  },
  {
   "cell_type": "code",
   "execution_count": 99,
   "metadata": {},
   "outputs": [
    {
     "name": "stdout",
     "output_type": "stream",
     "text": [
      "Mức độ liên quan (1-5): 5\n",
      "Tài liệu đã truy xuất hoàn toàn liên quan đến câu hỏi và câu trả lời mong đợi, vì nó cung cấp thông tin chi tiết và cụ thể về chức năng của Tổng giám đốc Tổng công ty Hàng không Việt Nam, phù hợp với Điều lệ tổ chức và hoạt động của Tổng công ty Hàng không Việt Nam.\n"
     ]
    }
   ],
   "source": [
    "print(test_data[3]['conversations'][3]['value'])"
   ]
  },
  {
   "cell_type": "code",
   "execution_count": 31,
   "metadata": {},
   "outputs": [
    {
     "name": "stdout",
     "output_type": "stream",
     "text": [
      "<|im_start|>system   \n",
      "Bạn đã được giao nhiệm vụ Suy Luận Ngôn Ngữ Tự Nhiên (NLI), bao gồm việc phân tích một câu hỏi, câu trả lời đã cho, và tài liệu đã truy xuất. Hãy làm theo các bước sau:\n",
      "\n",
      "Hiểu Rõ Câu Hỏi: Nắm bắt toàn bộ ngữ cảnh và chi tiết cụ thể.\n",
      "Phân Tích Câu Trả Lời: Xem xét các điểm chính, lập luận, và chi tiết của nó.\n",
      "Xem Xét Tài Liệu: Tìm kiếm thông tin liên quan đến câu hỏi và câu trả lời.\n",
      "Mục tiêu là xác định liệu tài liệu có hỗ trợ cho câu hỏi và câu trả lời hay không.<|im_end|>   \n",
      "<|im_start|>user   \n",
      "\n",
      "Câu hỏi (question): ```Tổng giám đốc Tổng công ty Hàng không Việt Nam có chức năng là gì?```\n",
      "\n",
      "Câu trả lời mong đợi (expected answer): ```Theo Điều 38 Điều lệ tổ chức và hoạt động của Tổng công ty Hàng không Việt Nam, Tổng giám đốc là người đại diện theo pháp luật, điều hành hoạt động hằng ngày của VIETNAM AIRLINES theo mục tiêu, kế hoạch và các nghị quyết, quyết định của Hội đồng thành viên, phù hợp với Điều lệ của VIETNAM AIRLINES và quy định của pháp luật; chịu trách nhiệm trước pháp luật, chủ sở hữu và Hội đồng thành viên về việc thực hiện quyền hạn và nhiệm vụ được giao.\n",
      "```\n",
      "\n",
      "Tài liệu đã truy xuất (retrived document): ```Nghị định 183/2013/NĐ-CP Điều lệ tổ chức và hoạt động của Tổng công ty Hàng không Việt Nam mới nhất\n",
      "Chương 4.\n",
      "MỤC 2. TỔNG GIÁM ĐỐC |  Điều 38. Chức năng của T ổ ng giám đốc\n",
      "T ổ ng giám đốc là người đại diện theo pháp luật, điều hành hoạt động hằng ngày của VIETNAM AIRLINES theo mục tiêu, kế hoạch và các nghị quyết, quyết định của Hội đồng thành viên, phù hợp với Điều lệ của VIETNAM AIRLINES và quy định của pháp luật; chịu trách nhiệm trước pháp luật, chủ sở hữu và Hội đồng thành viên về việc thực hiện quyền hạn và nhiệm vụ được giao.```\n",
      "\n",
      "Mục tiêu là xác định liệu tài liệu có hỗ trợ cho câu hỏi và câu trả lời hay không.\n",
      "\n",
      "<|im_end|>   \n",
      "<|im_start|>assistant   \n",
      "Để xác định liệu tài liệu đã truy xuất có hỗ trợ cho câu hỏi và câu trả lời hay không, chúng ta sẽ:\n",
      "\n",
      "1. Phân Tích Bối Cảnh Tài Liệu: Đánh giá nội dung tổng quan và ngữ cảnh của tài liệu.\n",
      "2. So Sánh Câu Hỏi và Tài Liệu: Kiểm tra sự tham chiếu trực tiếp hoặc các khái niệm liên quan trong tài liệu phù hợp với câu hỏi.\n",
      "3. Liên Hệ Câu Trả Lời và Tài Liệu: Xác định xem các yếu tố chính hoặc chi tiết cụ thể của câu trả lời có được hỗ trợ bởi tài liệu không.\n",
      "4. Đánh Giá Mâu Thuẫn: Xác định bất  kỳ mâu thuẫn nào giữa tài liệu và câu trả lời mong đợi.<|im_end|> \n",
      "<|im_start|>user \n",
      "Hãy đánh giá mức độ liên quan trên thang điểm 1-5 cho tài liệu đã truy xuất với câu hỏi và câu trả lời mong đợi.<|im_end|> \n",
      "<|im_start|>assistant \n",
      "Mức độ liên quan (1-5): 5\n",
      "\n",
      "Tài liệu đã truy xuất hoàn toàn liên quan đến câu hỏi và câu trả lời mong đợi, vì nó cung cấp thông tin chi tiết về chức năng của Tổng giám đốc Tổng công ty Hàng không Việt Nam, phù hợp với câu hỏi và câu trả lời mong đợi.<|im_end|>\n"
     ]
    }
   ],
   "source": [
    "user = test_data[3]['conversations'][0]['value']\n",
    "out = kilm_chat.generate('''<|im_start|>system  \n",
    "Bạn đã được giao nhiệm vụ Suy Luận Ngôn Ngữ Tự Nhiên (NLI), bao gồm việc phân tích một câu hỏi, câu trả lời đã cho, và tài liệu đã truy xuất. Hãy làm theo các bước sau:\n",
    "\n",
    "Hiểu Rõ Câu Hỏi: Nắm bắt toàn bộ ngữ cảnh và chi tiết cụ thể.\n",
    "Phân Tích Câu Trả Lời: Xem xét các điểm chính, lập luận, và chi tiết của nó.\n",
    "Xem Xét Tài Liệu: Tìm kiếm thông tin liên quan đến câu hỏi và câu trả lời.\n",
    "Mục tiêu là xác định liệu tài liệu có hỗ trợ cho câu hỏi và câu trả lời hay không.<|im_end|>  \n",
    "<|im_start|>user  \n",
    "\n",
    "Câu hỏi (question): ```Tổng giám đốc Tổng công ty Hàng không Việt Nam có chức năng là gì?```\n",
    "\n",
    "Câu trả lời mong đợi (expected answer): ```Theo Điều 38 Điều lệ tổ chức và hoạt động của Tổng công ty Hàng không Việt Nam, Tổng giám đốc là người đại diện theo pháp luật, điều hành hoạt động hằng ngày của VIETNAM AIRLINES theo mục tiêu, kế hoạch và các nghị quyết, quyết định của Hội đồng thành viên, phù hợp với Điều lệ của VIETNAM AIRLINES và quy định của pháp luật; chịu trách nhiệm trước pháp luật, chủ sở hữu và Hội đồng thành viên về việc thực hiện quyền hạn và nhiệm vụ được giao.\n",
    "```\n",
    "\n",
    "Tài liệu đã truy xuất (retrived document): ```Nghị định 183/2013/NĐ-CP Điều lệ tổ chức và hoạt động của Tổng công ty Hàng không Việt Nam mới nhất\n",
    "Chương 4.\n",
    "MỤC 2. TỔNG GIÁM ĐỐC |  Điều 38. Chức năng của T ổ ng giám đốc\n",
    "T ổ ng giám đốc là người đại diện theo pháp luật, điều hành hoạt động hằng ngày của VIETNAM AIRLINES theo mục tiêu, kế hoạch và các nghị quyết, quyết định của Hội đồng thành viên, phù hợp với Điều lệ của VIETNAM AIRLINES và quy định của pháp luật; chịu trách nhiệm trước pháp luật, chủ sở hữu và Hội đồng thành viên về việc thực hiện quyền hạn và nhiệm vụ được giao.```\n",
    "\n",
    "Mục tiêu là xác định liệu tài liệu có hỗ trợ cho câu hỏi và câu trả lời hay không.\n",
    "\n",
    "<|im_end|>  \n",
    "<|im_start|>assistant  \n",
    "Để xác định liệu tài liệu đã truy xuất có hỗ trợ cho câu hỏi và câu trả lời hay không, chúng ta sẽ:\n",
    "\n",
    "1. Phân Tích Bối Cảnh Tài Liệu: Đánh giá nội dung tổng quan và ngữ cảnh của tài liệu.\n",
    "2. So Sánh Câu Hỏi và Tài Liệu: Kiểm tra sự tham chiếu trực tiếp hoặc các khái niệm liên quan trong tài liệu phù hợp với câu hỏi.\n",
    "3. Liên Hệ Câu Trả Lời và Tài Liệu: Xác định xem các yếu tố chính hoặc chi tiết cụ thể của câu trả lời có được hỗ trợ bởi tài liệu không.\n",
    "4. Đánh Giá Mâu Thuẫn: Xác định bất  kỳ mâu thuẫn nào giữa tài liệu và câu trả lời mong đợi.<|im_end|>\n",
    "<|im_start|>user\n",
    "Hãy đánh giá mức độ liên quan trên thang điểm 1-5 cho tài liệu đã truy xuất với câu hỏi và câu trả lời mong đợi.<|im_end|>\n",
    "<|im_start|>assistant\n",
    "''', max_new_tokens=1000)"
   ]
  },
  {
   "cell_type": "code",
   "execution_count": 25,
   "metadata": {},
   "outputs": [],
   "source": [
    "# # item = test_data[6]\n",
    "\n",
    "# inp = f'''Question: ```{q}```\n",
    "\n",
    "# Expected answer: ```{a}```\n",
    "\n",
    "# Retrived document: ``{d}```\n",
    "\n",
    "# The objective is to determine whether the document supports the question and answer.'''\n",
    "\n",
    "# assistant_prefix = '''\n",
    "# To determine if the retrieved document supports the question and answer, we will:\n",
    "\n",
    "# 1. Analyze Document Context: Evaluate the overall content and context of the retrieved document.\n",
    "# 2. Match Question and Document: Check for direct references or related concepts in the document that align with the question.\n",
    "# 3. Correlate Answer and Document: Determine if the key elements or specifics of the expected answer are supported by the document.\n",
    "# 4. Assess for Contradictions: Identify any contradictions between the document and the expected answer.\n",
    "# 5. Draw Conclusion: Based on the analysis, conclude if the document supports or contradicts the expected answer.'''\n",
    "\n",
    "# kilm_chat.chat(inp, system_msg=system, max_new_tokens=1000, assistant_prefix=assistant_prefix);"
   ]
  },
  {
   "cell_type": "code",
   "execution_count": 43,
   "metadata": {},
   "outputs": [
    {
     "name": "stdout",
     "output_type": "stream",
     "text": [
      "nhà lê sơ có mấy vị vua\n"
     ]
    }
   ],
   "source": [
    "item = qac_test[13]\n",
    "q = item['question']\n",
    "print(q)\n",
    "a = 'Nhà lê sơ trải qua 3 triều đại: Lê Sơ, Lê Trung Hưng, Lê Hậu Lê với 4 vị vua'\n",
    "d = '{} | {}'.format(item['title'], item['text'])\n"
   ]
  },
  {
   "cell_type": "code",
   "execution_count": 98,
   "metadata": {},
   "outputs": [],
   "source": [
    "# kilm_chat.generate(\n",
    "#     f'''<|im_start|>system   \n",
    "# Bạn đã được giao nhiệm vụ Suy Luận Ngôn Ngữ Tự Nhiên (NLI), bao gồm việc phân tích một câu hỏi, câu trả lời đã cho, và tài liệu đã truy xuất. Hãy làm theo các bước sau:\n",
    "\n",
    "# Hiểu Rõ Câu Hỏi: Nắm bắt toàn bộ ngữ cảnh và chi tiết cụ thể.\n",
    "# Phân Tích Câu Trả Lời: Xem xét các điểm chính, lập luận, và chi tiết của nó.\n",
    "# Xem Xét Tài Liệu: Tìm kiếm thông tin liên quan đến câu hỏi và câu trả lời.\n",
    "# Mục tiêu là xác định liệu tài liệu có hỗ trợ cho câu hỏi và câu trả lời hay không.<|im_end|>   \n",
    "# <|im_start|>user   \n",
    "\n",
    "# Câu hỏi (question): ```{q}```\n",
    "\n",
    "# Expected answer: ```{a}```\n",
    "\n",
    "# Retrived document: ``{d}```\n",
    "# Mục tiêu là xác định liệu tài liệu có hỗ trợ cho câu hỏi và câu trả lời hay không.\n",
    "\n",
    "# <|im_start|>assistant \n",
    "\n",
    "# Để xác định liệu tài liệu đã truy xuất có hỗ trợ cho câu hỏi và câu trả lời hay không, chúng ta sẽ:\n",
    "\n",
    "# 1. Phân Tích Bối Cảnh Tài Liệu: Đánh giá nội dung tổng quan và ngữ cảnh của tài liệu.\n",
    "# 2. So Sánh Câu Hỏi và Tài Liệu: Kiểm tra sự tham chiếu trực tiếp hoặc các khái niệm liên quan trong tài liệu phù hợp với câu hỏi.\n",
    "# 3. Liên Hệ Câu Trả Lời và Tài Liệu: Xác định xem các yếu tố chính hoặc chi tiết cụ thể của câu trả lời có được hỗ trợ bởi tài liệu không.\n",
    "# 4. Đánh Giá Mâu Thuẫn: Xác định bất  kỳ mâu thuẫn nào giữa tài liệu và '''\n",
    "# , max_new_tokens=1000);"
   ]
  },
  {
   "cell_type": "code",
   "execution_count": 48,
   "metadata": {},
   "outputs": [
    {
     "name": "stderr",
     "output_type": "stream",
     "text": [
      "\u001b[32m2024-01-01 05:23:53.096\u001b[0m | \u001b[1mINFO    \u001b[0m | \u001b[36mguidance.models.transformers._kilm\u001b[0m:\u001b[36m__init__\u001b[0m:\u001b[36m48\u001b[0m - \u001b[1mSet tokenizer.eos_token_id = tokenizer.eod_id\u001b[0m\n",
      "\u001b[32m2024-01-01 05:23:53.097\u001b[0m | \u001b[1mINFO    \u001b[0m | \u001b[36mguidance.models.transformers._qwen\u001b[0m:\u001b[36m__init__\u001b[0m:\u001b[36m47\u001b[0m - \u001b[1mSet tokenizer.eos_token_id = tokenizer.eod_id\u001b[0m\n"
     ]
    }
   ],
   "source": [
    "llm = models.Kilm(kilm_chat.model, kilm_chat.tokenizer)"
   ]
  },
  {
   "cell_type": "code",
   "execution_count": 101,
   "metadata": {},
   "outputs": [
    {
     "name": "stdout",
     "output_type": "stream",
     "text": [
      "[\n",
      "  {\n",
      "    \"doc_id\": \"620b1ed67b96b50c_1\",\n",
      "    \"text\": \"Hồ sơ đề nghị thu hồi Giấy chứng nhận đăng ký phương tiện giao thông đường sắt gồm những giấy tờ gì? |  Hồ sơ đề nghị thu hồi Giấy chứng nhận đăng ký phương tiện giao thông đường sắt gồm những giấy tờ được căn cứ theo Điều 8 Thông tư 14/2023/TT-BGTVT (Có hiệu lực từ 01/09/2023) sau đây:\\nHồ sơ đề nghị thu hồi, xóa Giấy chứng nhận đăng ký phương tiện\\nHồ sơ bao gồm bản chính văn bản giấy hoặc bản điện tử đơn đề nghị thu hồi, xóa Giấy chứng nhận đăng ký phương tiện theo mẫu quy định tại Phụ lục VI của Thông tư này; bản gốc hoặc bản điện tử Giấy chứng nhận đăng ký phương tiện đã được cấp.\\nNhư vậy, hồ sơ đề nghị thu hồi Giấy chứng nhận đăng ký phương tiện giao thông đường sắt gồm những giấy tờ sau:\\n- Mẫu đơn đề nghị thu hồi Giấy chứng nhận đăng ký phương tiện giao thông đường sắt hiện nay đang sử dụng theo mẫu quy định tại Phụ lục VI ban hành kèm theo Thông tư 14/2023/TT-BGTVT (Có hiệu lực từ 01/09/2023).\\n- Bản gốc hoặc bản điện tử Giấy chứng nhận đăng ký phương tiện đã được cấp.\\nTrước đây, hồ sơ đề nghị thu hồi Giấy chứng nhận đăng ký phương tiện giao thông đường sắt sẽ cần những giấy tờ căn cứ theo Điều 7 Thông tư 21/2018/TT-BGTVT (sửa đổi bởi khoản 5 Điều 1 Thông tư 13/2021/TT-BGTVT) (Hết hiệu lực từ 01/09/2023) như sau:\\n(1) Đơn đề nghị thu hồi, xóa Giấy chứng nhận đăng ký theo mẫu quy định tại Phụ lục 4 TẢI VỀ ban hành kèm theo Thông tư 21/2018/TT-BGTVT.\\n(2) Giấy chứng nhận đăng ký hợp pháp của phương tiện.\"\n",
      "  },\n",
      "  {\n",
      "    \"doc_id\": \"110379bdf5c881f9_0\",\n",
      "    \"text\": \"Hồ sơ đề nghị thu hồi Giấy chứng nhận đăng ký phương tiện giao thông đường sắt gồm những nội dung gì? |  Căn cứ khoản 3 Mục I Thủ tục hành chính mới ban hành, được sửa đổi, bổ sung trong lĩnh vực đường sắt thuộc phạm vi chức năng quản lý của Bộ Giao thông vận tải ban hành kèm theo Quyết định 1634/QĐ-BGTVT năm 2021 quy định như sau:\\nLĩnh vực Đường sắt\\n...\\n3. Thủ tục thu hồi, xóa Giấy chứng nhận đăng ký phương tiện giao thông đường sắt\\n...\\n+ Trường hợp nhận được hồ sơ qua hệ thống bưu chính hoặc các hình thức phù hợp khác. Cục Đường sắt Việt Nam tiếp nhận và kiểm tra hồ sơ. Trường hợp hồ sơ không đầy đủ theo quy định, trong vòng 02 ngày làm việc kể từ khi tiếp nhận được hồ sơ, Cục Đường sắt Việt Nam hướng dẫn chủ sở hữu phương tiện bổ sung, hoàn thiện hồ sơ theo quy định.\\n- Trong vòng 03 ngày làm việc kể từ ngày nhận được được hồ sơ theo quy định, Cục Đường sắt Việt Nam có văn bản gửi chủ sở hữu phương tiện để thông báo kết quả thu hồi, xóa Giấy chứng nhận đăng ký cho chủ sở hữu phương tiện biết.\\n3.2. Cách thức thực hiện:\\nTrực tiếp, qua môi trường mạng, qua hệ thống bưu chính hoặc các hình thức phù hợp khác.\\n3.3 Thành phần, số lượng hồ sơ:\\na) Thành phần hồ sơ:\\n- Đơn đề nghị thu hồi, xóa Giấy chứng nhận đăng ký theo mẫu quy định.\\n- Giấy chứng nhận đăng ký hợp pháp của phương tiện. \\nb) Số lượng hồ sơ: 01 bộ.\\n...\\nNhư vậy, theo quy định, hồ sơ đề nghị thu hồi Giấy chứng nhận đăng ký phương tiện giao thông đường sắt gồm những nội dung sau đây:\\n(1) Đơn đề nghị thu hồi Giấy chứng nhận đăng ký theo mẫu quy định: TẢI VỀ\\n(2) Giấy chứng nhận đăng ký hợp pháp của phương tiện. \\nHồ sơ đề nghị thu hồi Giấy chứng nhận đăng ký phương tiện giao thông đường sắt gồm những gì? (Hình từ Internet)\"\n",
      "  },\n",
      "  {\n",
      "    \"doc_id\": \"2d5c80b432f1a5a3_1\",\n",
      "    \"text\": \"Hồ sơ thu hồi, xóa Giấy chứng nhận đăng ký phương tiện giao thông đường sắt bao gồm những gì? |  Căn cứ theo quy định tại Mục 3 Thủ tục hành chính ban hành kèm theo Quyết định 994/QĐ-BGTVT năm 2023 quy định như sau:\\n3.3 Thành phần, số lượng hồ sơ:\\na) Thành phần hồ sơ:\\n(1) Bản chính văn bản giấy hoặc bản điện tử đơn đề nghị thu hồi, xóa Giấy chứng nhận đăng ký phương tiện theo mẫu quy;\\n(2) Bản gốc hoặc bản điện tử Giấy chứng nhận đăng ký phương tiện đã được cấp.\\nb) Số lượng hồ sơ: 01 bộ.\\n3.4. Thời hạn giải quyết: Trong vòng 03 ngày làm việc, kể từ ngày tiếp nhận hồ sơ đầy đủ, đúng quy định.\\n3.5. Đối tượng thực hiện thủ tục hành chính:\\nChủ sở hữu phương tiện giao thông đường sắt.\\nNhư vậy, chủ sở hữu phương tiện giao thông đường sắt cần chuẩn bị hồ sơ thu hồi, xóa Giấy chứng nhận đăng ký phương tiện giao thông đường sắt bao gồm:\\n(1) Bản chính văn bản giấy hoặc bản điện tử đơn đề nghị thu hồi, xóa Giấy chứng nhận đăng ký phương tiện theo mẫu\\n(2) Bản gốc hoặc bản điện tử Giấy chứng nhận đăng ký phương tiện đã được cấp.\\nSố lượng hồ sơ thu hồi, xóa Giấy chứng nhận đăng ký phương tiện giao thông đường sắt: 01 bộ.\"\n",
      "  }\n",
      "]\n"
     ]
    }
   ],
   "source": [
    "import requests\n",
    "\n",
    "def search(query, k=3, port=19003):\n",
    "    url = f\"http://localhost:{port}/api/search\"\n",
    "    params = {\n",
    "        \"query\": query,\n",
    "        \"return_dict\": \"true\",\n",
    "        'k': k\n",
    "    }\n",
    "    response = requests.get(url, params=params, proxies={'http':'', 'https':''})\n",
    "    topk = response.json()['topk']\n",
    "    # print(topk[0].keys())\n",
    "    # docid_to_text = {t['pid']:f'{t[\"title\"]}| {t[\"text\"]}' for t in topk}\n",
    "    docid_to_text = [{'doc_id': t['pid'], 'text': f'{t[\"title\"]}| {t[\"text\"]}'} for t in topk]\n",
    "    return docid_to_text\n",
    "    \n",
    "query = 'Cho tôi hỏi: Hồ sơ đề nghị thu hồi, xóa Giấy chứng nhận đăng ký phương tiện giao thông đường sắt được quy định gồm những gì? Văn bản pháp luật nào quy định về vấn đề này?'\n",
    "\n",
    "search_results = search(query, k=3)\n",
    "\n",
    "print(json.dumps(search_results, ensure_ascii=False, indent=2))"
   ]
  },
  {
   "cell_type": "code",
   "execution_count": 105,
   "metadata": {},
   "outputs": [
    {
     "data": {
      "text/plain": [
       "'Chưa thi bằng lái xe mà điều khiển xe gây tai nạn thì có được bồi thường hay không? |  Căn cứ, Điều 584 và Điều 585 Bộ luật dân sự 2015 quy định về căn cứ phát sinh trách nhiệm bồi thường thiệt hại và nguyên tắc bồi thường thiệt hại như sau:\\n\"Căn cứ phát sinh trách nhiệm bồi thường thiệt hại\\n1. Người nào có hành vi xâm phạm tính mạng, sức khỏe, danh dự, nhân phẩm, uy tín, tài sản, quyền, lợi ích hợp pháp khác của người khác mà gây thiệt hại thì phải bồi thường, trừ trường hợp Bộ luật này, luật khác có liên quan quy định khác.\\n2. Người gây thiệt hại không phải chịu trách nhiệm bồi thường thiệt hại trong trường hợp thiệt hại phát sinh là do sự kiện bất khả kháng hoặc hoàn toàn do lỗi của bên bị thiệt hại, trừ trường hợp có thỏa thuận khác hoặc luật có quy định khác.\\n3. Trường hợp tài sản gây thiệt hại thì chủ sở hữu, người chiếm hữu tài sản phải chịu trách nhiệm bồi thường thiệt hại, trừ trường hợp thiệt hại phát sinh theo quy định tại khoản 2 Điều này.’\\nNguyên tắc bồi thường thiệt hại\\n“1. Thiệt hại thực tế phải được bồi thường toàn bộ và kịp thời. Các bên có thể thỏa thuận về mức bồi thường, hình thức bồi thường bằng tiền, bằng hiện vật hoặc thực hiện một công việc, phương thức bồi thường một lần hoặc nhiều lần, trừ trường hợp pháp luật có quy định khác.\\n2. Người chịu trách nhiệm bồi thường thiệt hại có thể được giảm mức bồi thường nếu không có lỗi hoặc có lỗi vô ý và thiệt hại quá lớn so với khả năng kinh tế của mình.\\n3. Khi mức bồi thường không còn phù hợp với thực tế thì bên bị thiệt hại hoặc bên gây thiệt hại có quyền yêu cầu Tòa án hoặc cơ quan nhà nước có thẩm quyền khác thay đổi mức bồi thường.\\n4. Khi bên bị thiệt hại có lỗi trong việc gây thiệt hại thì không được bồi thường phần thiệt hại do lỗi của mình gây ra.\\n5. Bên có quyền, lợi ích bị xâm phạm không được bồi thường nếu thiệt hại xảy ra do không áp dụng các biện pháp cần thiết, hợp lý để ngăn chặn, hạn chế thiệt hại cho chính mình.”\\nNhư vậy, theo như quy định trên thì trong trường hợp bạn là người có lỗi trực tiếp dẫn tới tai nạn giao thông thì bạn sẽ không được bồi thường. Đối với trường hợp lỗi không phải do bạn gây ra thì tùy vào thiệt hại để được xem xét bồi thường.'"
      ]
     },
     "execution_count": 105,
     "metadata": {},
     "output_type": "execute_result"
    }
   ],
   "source": [
    "qa = questions[2]\n",
    "q = qa['question']\n",
    "# q = 'Cho tôi hỏi: Hồ sơ đề nghị thu hồi, xóa Giấy chứng nhận đăng ký phương tiện giao thông đường sắt được quy định gồm những gì? Văn bản pháp luật nào quy định về vấn đề này?'\n",
    "a = qa['answer']\n",
    "search_results = search(q, k=10, )\n",
    "d = search_results[0]['text']\n",
    "d"
   ]
  },
  {
   "cell_type": "code",
   "execution_count": 106,
   "metadata": {},
   "outputs": [],
   "source": [
    "inp = f'''<|im_start|><|im_start|>system    \n",
    "Bạn đã được giao nhiệm vụ Suy Luận Ngôn Ngữ Tự Nhiên (NLI), bao gồm việc phân tích một câu hỏi, câu trả lời đã cho, và tài liệu đã truy xuất. Hãy làm theo các bước sau:\n",
    "\n",
    "Hiểu Rõ Câu Hỏi: Nắm bắt toàn bộ ngữ cảnh và chi tiết cụ thể.\n",
    "Phân Tích Câu Trả Lời: Xem xét các điểm chính, lập luận, và chi tiết của nó.\n",
    "Xem Xét Tài Liệu: Tìm kiếm thông tin liên quan đến câu hỏi và câu trả lời.\n",
    "Mục tiêu là xác định liệu tài liệu có hỗ trợ cho câu hỏi và câu trả lời hay không.<|im_end|>    \n",
    "<|im_start|>user    \n",
    "\n",
    "Câu hỏi (question): ``{q}```\n",
    "\n",
    "Expected answer: ```{a}```\n",
    "\n",
    "Retrived document: ``{d}```\n",
    "Mục tiêu là xác định liệu tài liệu có hỗ trợ cho câu hỏi và câu trả lời hay không.\n",
    "\n",
    "<|im_start|>assistant  \n",
    "\n",
    "Để xác định liệu tài liệu đã truy xuất có hỗ trợ cho câu hỏi và câu trả lời hay không, chúng ta sẽ:\n",
    "\n",
    "1. Phân Tích Bối Cảnh Tài Liệu: Đánh giá nội dung tổng quan và ngữ cảnh của tài liệu.\n",
    "2. So Sánh Câu Hỏi và Tài Liệu: Kiểm tra sự tham chiếu trực tiếp hoặc các khái niệm liên quan trong tài liệu phù hợp với câu hỏi.\n",
    "3. Liên Hệ Câu Trả Lời và Tài Liệu: Xác định xem các yếu tố chính hoặc chi tiết cụ thể của câu trả lời có được hỗ trợ bởi tài liệu không.\n",
    "4. Đánh Giá Mâu Thuẫn: Xác định bất  kỳ mâu thuẫn nào giữa tài liệu và  câu trả lời mong đợi.\n",
    "\n",
    "Bây giờ tôi sẽ thực hiện các bước trên để phân tích tài liệu đã truy xuất.\n",
    "\n",
    "**Phân Tích Bối Cảnh Tài Liệu**'''"
   ]
  },
  {
   "cell_type": "code",
   "execution_count": 107,
   "metadata": {},
   "outputs": [
    {
     "data": {
      "text/html": [
       "<pre style='margin: 0px; padding: 0px; vertical-align: middle; padding-left: 8px; margin-left: -8px; border-radius: 0px; border-left: 1px solid rgba(127, 127, 127, 0.2); white-space: pre-wrap; font-family: ColfaxAI, Arial; font-size: 15px; line-height: 23px;'>&lt;|im_start|&gt;&lt;|im_start|&gt;system    \n",
       "Bạn đã được giao nhiệm vụ Suy Luận Ngôn Ngữ Tự Nhiên (NLI), bao gồm việc phân tích một câu hỏi, câu trả lời đã cho, và tài liệu đã truy xuất. Hãy làm theo các bước sau:\n",
       "\n",
       "Hiểu Rõ Câu Hỏi: Nắm bắt toàn bộ ngữ cảnh và chi tiết cụ thể.\n",
       "Phân Tích Câu Trả Lời: Xem xét các điểm chính, lập luận, và chi tiết của nó.\n",
       "Xem Xét Tài Liệu: Tìm kiếm thông tin liên quan đến câu hỏi và câu trả lời.\n",
       "Mục tiêu là xác định liệu tài liệu có hỗ trợ cho câu hỏi và câu trả lời hay không.&lt;|im_end|&gt;    \n",
       "&lt;|im_start|&gt;user    \n",
       "\n",
       "Câu hỏi (question): ``Chưa thi bằng lái xe mà điều khiển xe gây tai nạn thì có được bồi thường hay không?```\n",
       "\n",
       "Expected answer: ```[&#x27;Căn cứ, Điều 584 và Điều 585 Bộ luật dân sự 2015 quy định về căn cứ phát sinh trách nhiệm bồi thường thiệt hại và nguyên tắc bồi thường thiệt hại như sau:&#x27;, &#x27;&quot;Căn cứ phát sinh trách nhiệm bồi thường thiệt hại&#x27;, &#x27;1. Người nào có hành vi xâm phạm tính mạng, sức khỏe, danh dự, nhân phẩm, uy tín, tài sản, quyền, lợi ích hợp pháp khác của người khác mà gây thiệt hại thì phải bồi thường, trừ trường hợp Bộ luật này, luật khác có liên quan quy định khác.&#x27;, &#x27;2. Người gây thiệt hại không phải chịu trách nhiệm bồi thường thiệt hại trong trường hợp thiệt hại phát sinh là do sự kiện bất khả kháng hoặc hoàn toàn do lỗi của bên bị thiệt hại, trừ trường hợp có thỏa thuận khác hoặc luật có quy định khác.&#x27;, &#x27;3. Trường hợp tài sản gây thiệt hại thì chủ sở hữu, người chiếm hữu tài sản phải chịu trách nhiệm bồi thường thiệt hại, trừ trường hợp thiệt hại phát sinh theo quy định tại khoản 2 Điều này.’&#x27;, &#x27;Nguyên tắc bồi thường thiệt hại&#x27;, &#x27;“1. Thiệt hại thực tế phải được bồi thường toàn bộ và kịp thời. Các bên có thể thỏa thuận về mức bồi thường, hình thức bồi thường bằng tiền, bằng hiện vật hoặc thực hiện một công việc, phương thức bồi thường một lần hoặc nhiều lần, trừ trường hợp pháp luật có quy định khác.&#x27;, &#x27;2. Người chịu trách nhiệm bồi thường thiệt hại có thể được giảm mức bồi thường nếu không có lỗi hoặc có lỗi vô ý và thiệt hại quá lớn so với khả năng kinh tế của mình.&#x27;, &#x27;3. Khi mức bồi thường không còn phù hợp với thực tế thì bên bị thiệt hại hoặc bên gây thiệt hại có quyền yêu cầu Tòa án hoặc cơ quan nhà nước có thẩm quyền khác thay đổi mức bồi thường.&#x27;, &#x27;4. Khi bên bị thiệt hại có lỗi trong việc gây thiệt hại thì không được bồi thường phần thiệt hại do lỗi của mình gây ra.&#x27;, &#x27;5. Bên có quyền, lợi ích bị xâm phạm không được bồi thường nếu thiệt hại xảy ra do không áp dụng các biện pháp cần thiết, hợp lý để ngăn chặn, hạn chế thiệt hại cho chính mình.”&#x27;, &#x27;Như vậy, theo như quy định trên thì trong trường hợp bạn là người có lỗi trực tiếp dẫn tới tai nạn giao thông thì bạn sẽ không được bồi thường. Đối với trường hợp lỗi không phải do bạn gây ra thì tùy vào thiệt hại để được xem xét bồi thường.&#x27;]```\n",
       "\n",
       "Retrived document: ``Chưa thi bằng lái xe mà điều khiển xe gây tai nạn thì có được bồi thường hay không? |  Căn cứ, Điều 584 và Điều 585 Bộ luật dân sự 2015 quy định về căn cứ phát sinh trách nhiệm bồi thường thiệt hại và nguyên tắc bồi thường thiệt hại như sau:\n",
       "&quot;Căn cứ phát sinh trách nhiệm bồi thường thiệt hại\n",
       "1. Người nào có hành vi xâm phạm tính mạng, sức khỏe, danh dự, nhân phẩm, uy tín, tài sản, quyền, lợi ích hợp pháp khác của người khác mà gây thiệt hại thì phải bồi thường, trừ trường hợp Bộ luật này, luật khác có liên quan quy định khác.\n",
       "2. Người gây thiệt hại không phải chịu trách nhiệm bồi thường thiệt hại trong trường hợp thiệt hại phát sinh là do sự kiện bất khả kháng hoặc hoàn toàn do lỗi của bên bị thiệt hại, trừ trường hợp có thỏa thuận khác hoặc luật có quy định khác.\n",
       "3. Trường hợp tài sản gây thiệt hại thì chủ sở hữu, người chiếm hữu tài sản phải chịu trách nhiệm bồi thường thiệt hại, trừ trường hợp thiệt hại phát sinh theo quy định tại khoản 2 Điều này.’\n",
       "Nguyên tắc bồi thường thiệt hại\n",
       "“1. Thiệt hại thực tế phải được bồi thường toàn bộ và kịp thời. Các bên có thể thỏa thuận về mức bồi thường, hình thức bồi thường bằng tiền, bằng hiện vật hoặc thực hiện một công việc, phương thức bồi thường một lần hoặc nhiều lần, trừ trường hợp pháp luật có quy định khác.\n",
       "2. Người chịu trách nhiệm bồi thường thiệt hại có thể được giảm mức bồi thường nếu không có lỗi hoặc có lỗi vô ý và thiệt hại quá lớn so với khả năng kinh tế của mình.\n",
       "3. Khi mức bồi thường không còn phù hợp với thực tế thì bên bị thiệt hại hoặc bên gây thiệt hại có quyền yêu cầu Tòa án hoặc cơ quan nhà nước có thẩm quyền khác thay đổi mức bồi thường.\n",
       "4. Khi bên bị thiệt hại có lỗi trong việc gây thiệt hại thì không được bồi thường phần thiệt hại do lỗi của mình gây ra.\n",
       "5. Bên có quyền, lợi ích bị xâm phạm không được bồi thường nếu thiệt hại xảy ra do không áp dụng các biện pháp cần thiết, hợp lý để ngăn chặn, hạn chế thiệt hại cho chính mình.”\n",
       "Như vậy, theo như quy định trên thì trong trường hợp bạn là người có lỗi trực tiếp dẫn tới tai nạn giao thông thì bạn sẽ không được bồi thường. Đối với trường hợp lỗi không phải do bạn gây ra thì tùy vào thiệt hại để được xem xét bồi thường.```\n",
       "Mục tiêu là xác định liệu tài liệu có hỗ trợ cho câu hỏi và câu trả lời hay không.\n",
       "\n",
       "&lt;|im_start|&gt;assistant  \n",
       "\n",
       "Để xác định liệu tài liệu đã truy xuất có hỗ trợ cho câu hỏi và câu trả lời hay không, chúng ta sẽ:\n",
       "\n",
       "1. Phân Tích Bối Cảnh Tài Liệu: Đánh giá nội dung tổng quan và ngữ cảnh của tài liệu.\n",
       "2. So Sánh Câu Hỏi và Tài Liệu: Kiểm tra sự tham chiếu trực tiếp hoặc các khái niệm liên quan trong tài liệu phù hợp với câu hỏi.\n",
       "3. Liên Hệ Câu Trả Lời và Tài Liệu: Xác định xem các yếu tố chính hoặc chi tiết cụ thể của câu trả lời có được hỗ trợ bởi tài liệu không.\n",
       "4. Đánh Giá Mâu Thuẫn: Xác định bất  kỳ mâu thuẫn nào giữa tài liệu và  câu trả lời mong đợi.\n",
       "\n",
       "Bây giờ tôi sẽ thực hiện các bước trên để phân tích tài liệu đã truy xuất.\n",
       "\n",
       "**Phân Tích Bối Cảnh Tài Liệu**<span style='background-color: rgba(0.0, 165.0, 0, 0.15); border-radius: 3px;' title='1.0'> \n",
       "</span><span style='background-color: rgba(0.0, 165.0, 0, 0.15); border-radius: 3px;' title='1.0'>Tài</span><span style='background-color: rgba(0.0, 165.0, 0, 0.15); border-radius: 3px;' title='1.0'> liệu</span><span style='background-color: rgba(0.0, 165.0, 0, 0.15); border-radius: 3px;' title='1.0'> chủ</span><span style='background-color: rgba(0.0, 165.0, 0, 0.15); border-radius: 3px;' title='1.0'> yếu</span><span style='background-color: rgba(0.0, 165.0, 0, 0.15); border-radius: 3px;' title='1.0'> thảo</span><span style='background-color: rgba(0.0, 165.0, 0, 0.15); border-radius: 3px;' title='1.0'> luận</span><span style='background-color: rgba(0.0, 165.0, 0, 0.15); border-radius: 3px;' title='1.0'> về</span><span style='background-color: rgba(0.0, 165.0, 0, 0.15); border-radius: 3px;' title='1.0'> các</span><span style='background-color: rgba(0.0, 165.0, 0, 0.15); border-radius: 3px;' title='1.0'> quy</span><span style='background-color: rgba(0.0, 165.0, 0, 0.15); border-radius: 3px;' title='1.0'> định</span><span style='background-color: rgba(0.0, 165.0, 0, 0.15); border-radius: 3px;' title='1.0'> pháp</span><span style='background-color: rgba(0.0, 165.0, 0, 0.15); border-radius: 3px;' title='1.0'> luật</span><span style='background-color: rgba(0.0, 165.0, 0, 0.15); border-radius: 3px;' title='1.0'> liên</span><span style='background-color: rgba(0.0, 165.0, 0, 0.15); border-radius: 3px;' title='1.0'> quan</span><span style='background-color: rgba(0.0, 165.0, 0, 0.15); border-radius: 3px;' title='1.0'> đến</span><span style='background-color: rgba(0.0, 165.0, 0, 0.15); border-radius: 3px;' title='1.0'> bồi</span><span style='background-color: rgba(0.0, 165.0, 0, 0.15); border-radius: 3px;' title='1.0'> thường</span><span style='background-color: rgba(0.0, 165.0, 0, 0.15); border-radius: 3px;' title='1.0'> thiệt</span><span style='background-color: rgba(0.0, 165.0, 0, 0.15); border-radius: 3px;' title='1.0'> hại</span><span style='background-color: rgba(0.0, 165.0, 0, 0.15); border-radius: 3px;' title='1.0'> trong</span><span style='background-color: rgba(0.0, 165.0, 0, 0.15); border-radius: 3px;' title='1.0'> trường</span><span style='background-color: rgba(0.0, 165.0, 0, 0.15); border-radius: 3px;' title='1.0'> hợp</span><span style='background-color: rgba(0.0, 165.0, 0, 0.15); border-radius: 3px;' title='1.0'> tai</span><span style='background-color: rgba(0.0, 165.0, 0, 0.15); border-radius: 3px;' title='1.0'> nạn</span><span style='background-color: rgba(0.0, 165.0, 0, 0.15); border-radius: 3px;' title='1.0'> giao</span><span style='background-color: rgba(0.0, 165.0, 0, 0.15); border-radius: 3px;' title='1.0'> thông</span><span style='background-color: rgba(0.0, 165.0, 0, 0.15); border-radius: 3px;' title='1.0'>.</span><span style='background-color: rgba(0.0, 165.0, 0, 0.15); border-radius: 3px;' title='1.0'> Nó</span><span style='background-color: rgba(0.0, 165.0, 0, 0.15); border-radius: 3px;' title='1.0'> cũng</span><span style='background-color: rgba(0.0, 165.0, 0, 0.15); border-radius: 3px;' title='1.0'> đưa</span><span style='background-color: rgba(0.0, 165.0, 0, 0.15); border-radius: 3px;' title='1.0'> ra</span><span style='background-color: rgba(0.0, 165.0, 0, 0.15); border-radius: 3px;' title='1.0'> các</span><span style='background-color: rgba(0.0, 165.0, 0, 0.15); border-radius: 3px;' title='1.0'> nguyên</span><span style='background-color: rgba(0.0, 165.0, 0, 0.15); border-radius: 3px;' title='1.0'> tắc</span><span style='background-color: rgba(0.0, 165.0, 0, 0.15); border-radius: 3px;' title='1.0'> bồi</span><span style='background-color: rgba(0.0, 165.0, 0, 0.15); border-radius: 3px;' title='1.0'> thường</span><span style='background-color: rgba(0.0, 165.0, 0, 0.15); border-radius: 3px;' title='1.0'> thiệt</span><span style='background-color: rgba(0.0, 165.0, 0, 0.15); border-radius: 3px;' title='1.0'> hại</span><span style='background-color: rgba(0.0, 165.0, 0, 0.15); border-radius: 3px;' title='1.0'> và</span><span style='background-color: rgba(0.0, 165.0, 0, 0.15); border-radius: 3px;' title='1.0'> các</span><span style='background-color: rgba(0.0, 165.0, 0, 0.15); border-radius: 3px;' title='1.0'> trường</span><span style='background-color: rgba(0.0, 165.0, 0, 0.15); border-radius: 3px;' title='1.0'> hợp</span><span style='background-color: rgba(0.0, 165.0, 0, 0.15); border-radius: 3px;' title='1.0'> đặc</span><span style='background-color: rgba(0.0, 165.0, 0, 0.15); border-radius: 3px;' title='1.0'> biệt</span><span style='background-color: rgba(0.0, 165.0, 0, 0.15); border-radius: 3px;' title='1.0'>.\n",
       "</span><span style='background-color: rgba(0.0, 165.0, 0, 0.15); border-radius: 3px;' title='1.0'> \n",
       "</span><span style='background-color: rgba(0.0, 165.0, 0, 0.15); border-radius: 3px;' title='1.0'>**</span><span style='background-color: rgba(0.0, 165.0, 0, 0.15); border-radius: 3px;' title='1.0'>So</span><span style='background-color: rgba(0.0, 165.0, 0, 0.15); border-radius: 3px;' title='1.0'> S</span><span style='background-color: rgba(0.0, 165.0, 0, 0.15); border-radius: 3px;' title='1.0'>ánh</span><span style='background-color: rgba(0.0, 165.0, 0, 0.15); border-radius: 3px;' title='1.0'> Câu</span><span style='background-color: rgba(0.0, 165.0, 0, 0.15); border-radius: 3px;' title='1.0'> Hỏi</span><span style='background-color: rgba(0.0, 165.0, 0, 0.15); border-radius: 3px;' title='1.0'> và</span><span style='background-color: rgba(0.0, 165.0, 0, 0.15); border-radius: 3px;' title='1.0'> Tài</span><span style='background-color: rgba(0.0, 165.0, 0, 0.15); border-radius: 3px;' title='1.0'> Liệu</span><span style='background-color: rgba(0.0, 165.0, 0, 0.15); border-radius: 3px;' title='1.0'>**</span><span style='background-color: rgba(0.0, 165.0, 0, 0.15); border-radius: 3px;' title='1.0'>\n",
       "</span><span style='background-color: rgba(0.0, 165.0, 0, 0.15); border-radius: 3px;' title='1.0'>Câu</span><span style='background-color: rgba(0.0, 165.0, 0, 0.15); border-radius: 3px;' title='1.0'> hỏi</span><span style='background-color: rgba(0.0, 165.0, 0, 0.15); border-radius: 3px;' title='1.0'> liên</span><span style='background-color: rgba(0.0, 165.0, 0, 0.15); border-radius: 3px;' title='1.0'> quan</span><span style='background-color: rgba(0.0, 165.0, 0, 0.15); border-radius: 3px;' title='1.0'> đến</span><span style='background-color: rgba(0.0, 165.0, 0, 0.15); border-radius: 3px;' title='1.0'> việc</span><span style='background-color: rgba(0.0, 165.0, 0, 0.15); border-radius: 3px;' title='1.0'> bồi</span><span style='background-color: rgba(0.0, 165.0, 0, 0.15); border-radius: 3px;' title='1.0'> thường</span><span style='background-color: rgba(0.0, 165.0, 0, 0.15); border-radius: 3px;' title='1.0'> trong</span><span style='background-color: rgba(0.0, 165.0, 0, 0.15); border-radius: 3px;' title='1.0'> trường</span><span style='background-color: rgba(0.0, 165.0, 0, 0.15); border-radius: 3px;' title='1.0'> hợp</span><span style='background-color: rgba(0.0, 165.0, 0, 0.15); border-radius: 3px;' title='1.0'> tai</span><span style='background-color: rgba(0.0, 165.0, 0, 0.15); border-radius: 3px;' title='1.0'> nạn</span><span style='background-color: rgba(0.0, 165.0, 0, 0.15); border-radius: 3px;' title='1.0'> giao</span><span style='background-color: rgba(0.0, 165.0, 0, 0.15); border-radius: 3px;' title='1.0'> thông</span><span style='background-color: rgba(0.0, 165.0, 0, 0.15); border-radius: 3px;' title='1.0'> khi</span><span style='background-color: rgba(0.0, 165.0, 0, 0.15); border-radius: 3px;' title='1.0'> chưa</span><span style='background-color: rgba(0.0, 165.0, 0, 0.15); border-radius: 3px;' title='1.0'> thi</span><span style='background-color: rgba(0.0, 165.0, 0, 0.15); border-radius: 3px;' title='1.0'> bằng</span><span style='background-color: rgba(0.0, 165.0, 0, 0.15); border-radius: 3px;' title='1.0'> lái</span><span style='background-color: rgba(0.0, 165.0, 0, 0.15); border-radius: 3px;' title='1.0'> xe</span><span style='background-color: rgba(0.0, 165.0, 0, 0.15); border-radius: 3px;' title='1.0'>.</span><span style='background-color: rgba(0.0, 165.0, 0, 0.15); border-radius: 3px;' title='1.0'> Tài</span><span style='background-color: rgba(0.0, 165.0, 0, 0.15); border-radius: 3px;' title='1.0'> liệu</span><span style='background-color: rgba(0.0, 165.0, 0, 0.15); border-radius: 3px;' title='1.0'> đã</span><span style='background-color: rgba(0.0, 165.0, 0, 0.15); border-radius: 3px;' title='1.0'> truy</span><span style='background-color: rgba(0.0, 165.0, 0, 0.15); border-radius: 3px;' title='1.0'> xuất</span><span style='background-color: rgba(0.0, 165.0, 0, 0.15); border-radius: 3px;' title='1.0'> cung</span><span style='background-color: rgba(0.0, 165.0, 0, 0.15); border-radius: 3px;' title='1.0'> cấp</span><span style='background-color: rgba(0.0, 165.0, 0, 0.15); border-radius: 3px;' title='1.0'> thông</span><span style='background-color: rgba(0.0, 165.0, 0, 0.15); border-radius: 3px;' title='1.0'> tin</span><span style='background-color: rgba(0.0, 165.0, 0, 0.15); border-radius: 3px;' title='1.0'> về</span><span style='background-color: rgba(0.0, 165.0, 0, 0.15); border-radius: 3px;' title='1.0'> các</span><span style='background-color: rgba(0.0, 165.0, 0, 0.15); border-radius: 3px;' title='1.0'> quy</span><span style='background-color: rgba(0.0, 165.0, 0, 0.15); border-radius: 3px;' title='1.0'> định</span><span style='background-color: rgba(0.0, 165.0, 0, 0.15); border-radius: 3px;' title='1.0'> pháp</span><span style='background-color: rgba(0.0, 165.0, 0, 0.15); border-radius: 3px;' title='1.0'> luật</span><span style='background-color: rgba(0.0, 165.0, 0, 0.15); border-radius: 3px;' title='1.0'> liên</span><span style='background-color: rgba(0.0, 165.0, 0, 0.15); border-radius: 3px;' title='1.0'> quan</span><span style='background-color: rgba(0.0, 165.0, 0, 0.15); border-radius: 3px;' title='1.0'> đến</span><span style='background-color: rgba(0.0, 165.0, 0, 0.15); border-radius: 3px;' title='1.0'> bồi</span><span style='background-color: rgba(0.0, 165.0, 0, 0.15); border-radius: 3px;' title='1.0'> thường</span><span style='background-color: rgba(0.0, 165.0, 0, 0.15); border-radius: 3px;' title='1.0'> thiệt</span><span style='background-color: rgba(0.0, 165.0, 0, 0.15); border-radius: 3px;' title='1.0'> hại</span><span style='background-color: rgba(0.0, 165.0, 0, 0.15); border-radius: 3px;' title='1.0'> trong</span><span style='background-color: rgba(0.0, 165.0, 0, 0.15); border-radius: 3px;' title='1.0'> trường</span><span style='background-color: rgba(0.0, 165.0, 0, 0.15); border-radius: 3px;' title='1.0'> hợp</span><span style='background-color: rgba(0.0, 165.0, 0, 0.15); border-radius: 3px;' title='1.0'> tai</span><span style='background-color: rgba(0.0, 165.0, 0, 0.15); border-radius: 3px;' title='1.0'> nạn</span><span style='background-color: rgba(0.0, 165.0, 0, 0.15); border-radius: 3px;' title='1.0'> giao</span><span style='background-color: rgba(0.0, 165.0, 0, 0.15); border-radius: 3px;' title='1.0'> thông</span><span style='background-color: rgba(0.0, 165.0, 0, 0.15); border-radius: 3px;' title='1.0'>.\n",
       "</span><span style='background-color: rgba(0.0, 165.0, 0, 0.15); border-radius: 3px;' title='1.0'> \n",
       "</span><span style='background-color: rgba(0.0, 165.0, 0, 0.15); border-radius: 3px;' title='1.0'>**</span><span style='background-color: rgba(0.0, 165.0, 0, 0.15); border-radius: 3px;' title='1.0'>Liên</span><span style='background-color: rgba(0.0, 165.0, 0, 0.15); border-radius: 3px;' title='1.0'> Hệ</span><span style='background-color: rgba(0.0, 165.0, 0, 0.15); border-radius: 3px;' title='1.0'> Câu</span><span style='background-color: rgba(0.0, 165.0, 0, 0.15); border-radius: 3px;' title='1.0'> Trả</span><span style='background-color: rgba(0.0, 165.0, 0, 0.15); border-radius: 3px;' title='1.0'> Lời</span><span style='background-color: rgba(0.0, 165.0, 0, 0.15); border-radius: 3px;' title='1.0'> và</span><span style='background-color: rgba(0.0, 165.0, 0, 0.15); border-radius: 3px;' title='1.0'> Tài</span><span style='background-color: rgba(0.0, 165.0, 0, 0.15); border-radius: 3px;' title='1.0'> Liệu</span><span style='background-color: rgba(0.0, 165.0, 0, 0.15); border-radius: 3px;' title='1.0'>**</span><span style='background-color: rgba(0.0, 165.0, 0, 0.15); border-radius: 3px;' title='1.0'>\n",
       "</span><span style='background-color: rgba(0.0, 165.0, 0, 0.15); border-radius: 3px;' title='1.0'>Câu</span><span style='background-color: rgba(0.0, 165.0, 0, 0.15); border-radius: 3px;' title='1.0'> trả</span><span style='background-color: rgba(0.0, 165.0, 0, 0.15); border-radius: 3px;' title='1.0'> lời</span><span style='background-color: rgba(0.0, 165.0, 0, 0.15); border-radius: 3px;' title='1.0'> mong</span><span style='background-color: rgba(0.0, 165.0, 0, 0.15); border-radius: 3px;' title='1.0'> đợi</span><span style='background-color: rgba(0.0, 165.0, 0, 0.15); border-radius: 3px;' title='1.0'> cho</span><span style='background-color: rgba(0.0, 165.0, 0, 0.15); border-radius: 3px;' title='1.0'> biết</span><span style='background-color: rgba(0.0, 165.0, 0, 0.15); border-radius: 3px;' title='1.0'> người</span><span style='background-color: rgba(0.0, 165.0, 0, 0.15); border-radius: 3px;' title='1.0'> gây</span><span style='background-color: rgba(0.0, 165.0, 0, 0.15); border-radius: 3px;' title='1.0'> tai</span><span style='background-color: rgba(0.0, 165.0, 0, 0.15); border-radius: 3px;' title='1.0'> nạn</span><span style='background-color: rgba(0.0, 165.0, 0, 0.15); border-radius: 3px;' title='1.0'> giao</span><span style='background-color: rgba(0.0, 165.0, 0, 0.15); border-radius: 3px;' title='1.0'> thông</span><span style='background-color: rgba(0.0, 165.0, 0, 0.15); border-radius: 3px;' title='1.0'> mà</span><span style='background-color: rgba(0.0, 165.0, 0, 0.15); border-radius: 3px;' title='1.0'> chưa</span><span style='background-color: rgba(0.0, 165.0, 0, 0.15); border-radius: 3px;' title='1.0'> thi</span><span style='background-color: rgba(0.0, 165.0, 0, 0.15); border-radius: 3px;' title='1.0'> bằng</span><span style='background-color: rgba(0.0, 165.0, 0, 0.15); border-radius: 3px;' title='1.0'> lái</span><span style='background-color: rgba(0.0, 165.0, 0, 0.15); border-radius: 3px;' title='1.0'> xe</span><span style='background-color: rgba(0.0, 165.0, 0, 0.15); border-radius: 3px;' title='1.0'> sẽ</span><span style='background-color: rgba(0.0, 165.0, 0, 0.15); border-radius: 3px;' title='1.0'> không</span><span style='background-color: rgba(0.0, 165.0, 0, 0.15); border-radius: 3px;' title='1.0'> được</span><span style='background-color: rgba(0.0, 165.0, 0, 0.15); border-radius: 3px;' title='1.0'> bồi</span><span style='background-color: rgba(0.0, 165.0, 0, 0.15); border-radius: 3px;' title='1.0'> thường</span><span style='background-color: rgba(0.0, 165.0, 0, 0.15); border-radius: 3px;' title='1.0'>.</span><span style='background-color: rgba(0.0, 165.0, 0, 0.15); border-radius: 3px;' title='1.0'> Tuy</span><span style='background-color: rgba(0.0, 165.0, 0, 0.15); border-radius: 3px;' title='1.0'> nhiên</span><span style='background-color: rgba(0.0, 165.0, 0, 0.15); border-radius: 3px;' title='1.0'>,</span><span style='background-color: rgba(0.0, 165.0, 0, 0.15); border-radius: 3px;' title='1.0'> tài</span><span style='background-color: rgba(0.0, 165.0, 0, 0.15); border-radius: 3px;' title='1.0'> liệu</span><span style='background-color: rgba(0.0, 165.0, 0, 0.15); border-radius: 3px;' title='1.0'> đã</span><span style='background-color: rgba(0.0, 165.0, 0, 0.15); border-radius: 3px;' title='1.0'> truy</span><span style='background-color: rgba(0.0, 165.0, 0, 0.15); border-radius: 3px;' title='1.0'> xuất</span><span style='background-color: rgba(0.0, 165.0, 0, 0.15); border-radius: 3px;' title='1.0'> không</span><span style='background-color: rgba(0.0, 165.0, 0, 0.15); border-radius: 3px;' title='1.0'> đưa</span><span style='background-color: rgba(0.0, 165.0, 0, 0.15); border-radius: 3px;' title='1.0'> ra</span><span style='background-color: rgba(0.0, 165.0, 0, 0.15); border-radius: 3px;' title='1.0'> thông</span><span style='background-color: rgba(0.0, 165.0, 0, 0.15); border-radius: 3px;' title='1.0'> tin</span><span style='background-color: rgba(0.0, 165.0, 0, 0.15); border-radius: 3px;' title='1.0'> cụ</span><span style='background-color: rgba(0.0, 165.0, 0, 0.15); border-radius: 3px;' title='1.0'> thể</span><span style='background-color: rgba(0.0, 165.0, 0, 0.15); border-radius: 3px;' title='1.0'> về</span><span style='background-color: rgba(0.0, 165.0, 0, 0.15); border-radius: 3px;' title='1.0'> việc</span><span style='background-color: rgba(0.0, 165.0, 0, 0.15); border-radius: 3px;' title='1.0'> bồi</span><span style='background-color: rgba(0.0, 165.0, 0, 0.15); border-radius: 3px;' title='1.0'> thường</span><span style='background-color: rgba(0.0, 165.0, 0, 0.15); border-radius: 3px;' title='1.0'> trong</span><span style='background-color: rgba(0.0, 165.0, 0, 0.15); border-radius: 3px;' title='1.0'> trường</span><span style='background-color: rgba(0.0, 165.0, 0, 0.15); border-radius: 3px;' title='1.0'> hợp</span><span style='background-color: rgba(0.0, 165.0, 0, 0.15); border-radius: 3px;' title='1.0'> này</span><span style='background-color: rgba(0.0, 165.0, 0, 0.15); border-radius: 3px;' title='1.0'>.</span><span style='background-color: rgba(0.0, 165.0, 0, 0.15); border-radius: 3px;' title='1.0'> Thay</span><span style='background-color: rgba(0.0, 165.0, 0, 0.15); border-radius: 3px;' title='1.0'> vào</span><span style='background-color: rgba(0.0, 165.0, 0, 0.15); border-radius: 3px;' title='1.0'> đó</span><span style='background-color: rgba(0.0, 165.0, 0, 0.15); border-radius: 3px;' title='1.0'>,</span><span style='background-color: rgba(0.0, 165.0, 0, 0.15); border-radius: 3px;' title='1.0'> nó</span><span style='background-color: rgba(0.0, 165.0, 0, 0.15); border-radius: 3px;' title='1.0'> chỉ</span><span style='background-color: rgba(0.0, 165.0, 0, 0.15); border-radius: 3px;' title='1.0'> đưa</span><span style='background-color: rgba(0.0, 165.0, 0, 0.15); border-radius: 3px;' title='1.0'> ra</span><span style='background-color: rgba(0.0, 165.0, 0, 0.15); border-radius: 3px;' title='1.0'> các</span><span style='background-color: rgba(0.0, 165.0, 0, 0.15); border-radius: 3px;' title='1.0'> quy</span><span style='background-color: rgba(0.0, 165.0, 0, 0.15); border-radius: 3px;' title='1.0'> định</span><span style='background-color: rgba(0.0, 165.0, 0, 0.15); border-radius: 3px;' title='1.0'> pháp</span><span style='background-color: rgba(0.0, 165.0, 0, 0.15); border-radius: 3px;' title='1.0'> luật</span><span style='background-color: rgba(0.0, 165.0, 0, 0.15); border-radius: 3px;' title='1.0'> chung</span><span style='background-color: rgba(0.0, 165.0, 0, 0.15); border-radius: 3px;' title='1.0'> về</span><span style='background-color: rgba(0.0, 165.0, 0, 0.15); border-radius: 3px;' title='1.0'> bồi</span><span style='background-color: rgba(0.0, 165.0, 0, 0.15); border-radius: 3px;' title='1.0'> thường</span><span style='background-color: rgba(0.0, 165.0, 0, 0.15); border-radius: 3px;' title='1.0'> thiệt</span><span style='background-color: rgba(0.0, 165.0, 0, 0.15); border-radius: 3px;' title='1.0'> hại</span><span style='background-color: rgba(0.0, 165.0, 0, 0.15); border-radius: 3px;' title='1.0'> trong</span><span style='background-color: rgba(0.0, 165.0, 0, 0.15); border-radius: 3px;' title='1.0'> trường</span><span style='background-color: rgba(0.0, 165.0, 0, 0.15); border-radius: 3px;' title='1.0'> hợp</span><span style='background-color: rgba(0.0, 165.0, 0, 0.15); border-radius: 3px;' title='1.0'> tai</span><span style='background-color: rgba(0.0, 165.0, 0, 0.15); border-radius: 3px;' title='1.0'> nạn</span><span style='background-color: rgba(0.0, 165.0, 0, 0.15); border-radius: 3px;' title='1.0'> giao</span><span style='background-color: rgba(0.0, 165.0, 0, 0.15); border-radius: 3px;' title='1.0'> thông</span><span style='background-color: rgba(0.0, 165.0, 0, 0.15); border-radius: 3px;' title='1.0'>.\n",
       "</span><span style='background-color: rgba(0.0, 165.0, 0, 0.15); border-radius: 3px;' title='1.0'> \n",
       "</span><span style='background-color: rgba(0.0, 165.0, 0, 0.15); border-radius: 3px;' title='1.0'>**</span><span style='background-color: rgba(0.0, 165.0, 0, 0.15); border-radius: 3px;' title='1.0'>Đánh</span><span style='background-color: rgba(0.0, 165.0, 0, 0.15); border-radius: 3px;' title='1.0'> Giá</span><span style='background-color: rgba(0.0, 165.0, 0, 0.15); border-radius: 3px;' title='1.0'> M</span><span style='background-color: rgba(0.0, 165.0, 0, 0.15); border-radius: 3px;' title='1.0'>âu</span><span style='background-color: rgba(0.0, 165.0, 0, 0.15); border-radius: 3px;' title='1.0'> Thu</span><span style='background-color: rgba(0.0, 165.0, 0, 0.15); border-radius: 3px;' title='1.0'>ẫn</span><span style='background-color: rgba(0.0, 165.0, 0, 0.15); border-radius: 3px;' title='1.0'>**</span><span style='background-color: rgba(0.0, 165.0, 0, 0.15); border-radius: 3px;' title='1.0'>\n",
       "</span><span style='background-color: rgba(0.0, 165.0, 0, 0.15); border-radius: 3px;' title='1.0'>Không</span><span style='background-color: rgba(0.0, 165.0, 0, 0.15); border-radius: 3px;' title='1.0'> có</span><span style='background-color: rgba(0.0, 165.0, 0, 0.15); border-radius: 3px;' title='1.0'> mâu</span><span style='background-color: rgba(0.0, 165.0, 0, 0.15); border-radius: 3px;' title='1.0'> thuẫn</span><span style='background-color: rgba(0.0, 165.0, 0, 0.15); border-radius: 3px;' title='1.0'> rõ</span><span style='background-color: rgba(0.0, 165.0, 0, 0.15); border-radius: 3px;' title='1.0'> ràng</span><span style='background-color: rgba(0.0, 165.0, 0, 0.15); border-radius: 3px;' title='1.0'> giữa</span><span style='background-color: rgba(0.0, 165.0, 0, 0.15); border-radius: 3px;' title='1.0'> tài</span><span style='background-color: rgba(0.0, 165.0, 0, 0.15); border-radius: 3px;' title='1.0'> liệu</span><span style='background-color: rgba(0.0, 165.0, 0, 0.15); border-radius: 3px;' title='1.0'> và</span><span style='background-color: rgba(0.0, 165.0, 0, 0.15); border-radius: 3px;' title='1.0'> câu</span><span style='background-color: rgba(0.0, 165.0, 0, 0.15); border-radius: 3px;' title='1.0'> trả</span><span style='background-color: rgba(0.0, 165.0, 0, 0.15); border-radius: 3px;' title='1.0'> lời</span><span style='background-color: rgba(0.0, 165.0, 0, 0.15); border-radius: 3px;' title='1.0'> mong</span><span style='background-color: rgba(0.0, 165.0, 0, 0.15); border-radius: 3px;' title='1.0'> đợi</span><span style='background-color: rgba(0.0, 165.0, 0, 0.15); border-radius: 3px;' title='1.0'>.</span><span style='background-color: rgba(0.0, 165.0, 0, 0.15); border-radius: 3px;' title='1.0'> Tuy</span><span style='background-color: rgba(0.0, 165.0, 0, 0.15); border-radius: 3px;' title='1.0'> nhiên</span><span style='background-color: rgba(0.0, 165.0, 0, 0.15); border-radius: 3px;' title='1.0'>,</span><span style='background-color: rgba(0.0, 165.0, 0, 0.15); border-radius: 3px;' title='1.0'> tài</span><span style='background-color: rgba(0.0, 165.0, 0, 0.15); border-radius: 3px;' title='1.0'> liệu</span><span style='background-color: rgba(0.0, 165.0, 0, 0.15); border-radius: 3px;' title='1.0'> không</span><span style='background-color: rgba(0.0, 165.0, 0, 0.15); border-radius: 3px;' title='1.0'> cung</span><span style='background-color: rgba(0.0, 165.0, 0, 0.15); border-radius: 3px;' title='1.0'> cấp</span><span style='background-color: rgba(0.0, 165.0, 0, 0.15); border-radius: 3px;' title='1.0'> thông</span><span style='background-color: rgba(0.0, 165.0, 0, 0.15); border-radius: 3px;' title='1.0'> tin</span><span style='background-color: rgba(0.0, 165.0, 0, 0.15); border-radius: 3px;' title='1.0'> cụ</span><span style='background-color: rgba(0.0, 165.0, 0, 0.15); border-radius: 3px;' title='1.0'> thể</span><span style='background-color: rgba(0.0, 165.0, 0, 0.15); border-radius: 3px;' title='1.0'> về</span><span style='background-color: rgba(0.0, 165.0, 0, 0.15); border-radius: 3px;' title='1.0'> việc</span><span style='background-color: rgba(0.0, 165.0, 0, 0.15); border-radius: 3px;' title='1.0'> bồi</span><span style='background-color: rgba(0.0, 165.0, 0, 0.15); border-radius: 3px;' title='1.0'> thường</span><span style='background-color: rgba(0.0, 165.0, 0, 0.15); border-radius: 3px;' title='1.0'> trong</span><span style='background-color: rgba(0.0, 165.0, 0, 0.15); border-radius: 3px;' title='1.0'> trường</span><span style='background-color: rgba(0.0, 165.0, 0, 0.15); border-radius: 3px;' title='1.0'> hợp</span><span style='background-color: rgba(0.0, 165.0, 0, 0.15); border-radius: 3px;' title='1.0'> tai</span><span style='background-color: rgba(0.0, 165.0, 0, 0.15); border-radius: 3px;' title='1.0'> nạn</span><span style='background-color: rgba(0.0, 165.0, 0, 0.15); border-radius: 3px;' title='1.0'> giao</span><span style='background-color: rgba(0.0, 165.0, 0, 0.15); border-radius: 3px;' title='1.0'> thông</span><span style='background-color: rgba(0.0, 165.0, 0, 0.15); border-radius: 3px;' title='1.0'> khi</span><span style='background-color: rgba(0.0, 165.0, 0, 0.15); border-radius: 3px;' title='1.0'> chưa</span><span style='background-color: rgba(0.0, 165.0, 0, 0.15); border-radius: 3px;' title='1.0'> thi</span><span style='background-color: rgba(0.0, 165.0, 0, 0.15); border-radius: 3px;' title='1.0'> bằng</span><span style='background-color: rgba(0.0, 165.0, 0, 0.15); border-radius: 3px;' title='1.0'> lái</span><span style='background-color: rgba(0.0, 165.0, 0, 0.15); border-radius: 3px;' title='1.0'> xe</span><span style='background-color: rgba(0.0, 165.0, 0, 0.15); border-radius: 3px;' title='1.0'>.\n",
       "\n",
       "</span><span style='background-color: rgba(0.0, 165.0, 0, 0.15); border-radius: 3px;' title='1.0'>Từ</span><span style='background-color: rgba(0.0, 165.0, 0, 0.15); border-radius: 3px;' title='1.0'> đó</span><span style='background-color: rgba(0.0, 165.0, 0, 0.15); border-radius: 3px;' title='1.0'>,</span><span style='background-color: rgba(0.0, 165.0, 0, 0.15); border-radius: 3px;' title='1.0'> chúng</span><span style='background-color: rgba(0.0, 165.0, 0, 0.15); border-radius: 3px;' title='1.0'> ta</span><span style='background-color: rgba(0.0, 165.0, 0, 0.15); border-radius: 3px;' title='1.0'> có</span><span style='background-color: rgba(0.0, 165.0, 0, 0.15); border-radius: 3px;' title='1.0'> thể</span><span style='background-color: rgba(0.0, 165.0, 0, 0.15); border-radius: 3px;' title='1.0'> kết</span><span style='background-color: rgba(0.0, 165.0, 0, 0.15); border-radius: 3px;' title='1.0'> luận</span><span style='background-color: rgba(0.0, 165.0, 0, 0.15); border-radius: 3px;' title='1.0'> rằng</span><span style='background-color: rgba(0.0, 165.0, 0, 0.15); border-radius: 3px;' title='1.0'> tài</span><span style='background-color: rgba(0.0, 165.0, 0, 0.15); border-radius: 3px;' title='1.0'> liệu</span><span style='background-color: rgba(0.0, 165.0, 0, 0.15); border-radius: 3px;' title='1.0'> đã</span><span style='background-color: rgba(0.0, 165.0, 0, 0.15); border-radius: 3px;' title='1.0'> truy</span><span style='background-color: rgba(0.0, 165.0, 0, 0.15); border-radius: 3px;' title='1.0'> xuất</span><span style='background-color: rgba(0.0, 165.0, 0, 0.15); border-radius: 3px;' title='1.0'> không</span><span style='background-color: rgba(0.0, 165.0, 0, 0.15); border-radius: 3px;' title='1.0'> hỗ</span><span style='background-color: rgba(0.0, 165.0, 0, 0.15); border-radius: 3px;' title='1.0'> trợ</span><span style='background-color: rgba(0.0, 165.0, 0, 0.15); border-radius: 3px;' title='1.0'> đầy</span><span style='background-color: rgba(0.0, 165.0, 0, 0.15); border-radius: 3px;' title='1.0'> đủ</span><span style='background-color: rgba(0.0, 165.0, 0, 0.15); border-radius: 3px;' title='1.0'> cho</span><span style='background-color: rgba(0.0, 165.0, 0, 0.15); border-radius: 3px;' title='1.0'> câu</span><span style='background-color: rgba(0.0, 165.0, 0, 0.15); border-radius: 3px;' title='1.0'> trả</span><span style='background-color: rgba(0.0, 165.0, 0, 0.15); border-radius: 3px;' title='1.0'> lời</span><span style='background-color: rgba(0.0, 165.0, 0, 0.15); border-radius: 3px;' title='1.0'> mong</span><span style='background-color: rgba(0.0, 165.0, 0, 0.15); border-radius: 3px;' title='1.0'> đợi</span><span style='background-color: rgba(0.0, 165.0, 0, 0.15); border-radius: 3px;' title='1.0'>.</span><span style='background-color: rgba(0.0, 165.0, 0, 0.15); border-radius: 3px;' title='1.0'> Tuy</span><span style='background-color: rgba(0.0, 165.0, 0, 0.15); border-radius: 3px;' title='1.0'> nhiên</span><span style='background-color: rgba(0.0, 165.0, 0, 0.15); border-radius: 3px;' title='1.0'>,</span><span style='background-color: rgba(0.0, 165.0, 0, 0.15); border-radius: 3px;' title='1.0'> nó</span><span style='background-color: rgba(0.0, 165.0, 0, 0.15); border-radius: 3px;' title='1.0'> cung</span><span style='background-color: rgba(0.0, 165.0, 0, 0.15); border-radius: 3px;' title='1.0'> cấp</span><span style='background-color: rgba(0.0, 165.0, 0, 0.15); border-radius: 3px;' title='1.0'> thông</span><span style='background-color: rgba(0.0, 165.0, 0, 0.15); border-radius: 3px;' title='1.0'> tin</span><span style='background-color: rgba(0.0, 165.0, 0, 0.15); border-radius: 3px;' title='1.0'> hữu</span><span style='background-color: rgba(0.0, 165.0, 0, 0.15); border-radius: 3px;' title='1.0'> ích</span><span style='background-color: rgba(0.0, 165.0, 0, 0.15); border-radius: 3px;' title='1.0'> về</span><span style='background-color: rgba(0.0, 165.0, 0, 0.15); border-radius: 3px;' title='1.0'> các</span><span style='background-color: rgba(0.0, 165.0, 0, 0.15); border-radius: 3px;' title='1.0'> quy</span><span style='background-color: rgba(0.0, 165.0, 0, 0.15); border-radius: 3px;' title='1.0'> định</span><span style='background-color: rgba(0.0, 165.0, 0, 0.15); border-radius: 3px;' title='1.0'> pháp</span><span style='background-color: rgba(0.0, 165.0, 0, 0.15); border-radius: 3px;' title='1.0'> luật</span><span style='background-color: rgba(0.0, 165.0, 0, 0.15); border-radius: 3px;' title='1.0'> liên</span><span style='background-color: rgba(0.0, 165.0, 0, 0.15); border-radius: 3px;' title='1.0'> quan</span><span style='background-color: rgba(0.0, 165.0, 0, 0.15); border-radius: 3px;' title='1.0'> đến</span><span style='background-color: rgba(0.0, 165.0, 0, 0.15); border-radius: 3px;' title='1.0'> bồi</span><span style='background-color: rgba(0.0, 165.0, 0, 0.15); border-radius: 3px;' title='1.0'> thường</span><span style='background-color: rgba(0.0, 165.0, 0, 0.15); border-radius: 3px;' title='1.0'> thiệt</span><span style='background-color: rgba(0.0, 165.0, 0, 0.15); border-radius: 3px;' title='1.0'> hại</span><span style='background-color: rgba(0.0, 165.0, 0, 0.15); border-radius: 3px;' title='1.0'> trong</span><span style='background-color: rgba(0.0, 165.0, 0, 0.15); border-radius: 3px;' title='1.0'> trường</span><span style='background-color: rgba(0.0, 165.0, 0, 0.15); border-radius: 3px;' title='1.0'> hợp</span><span style='background-color: rgba(0.0, 165.0, 0, 0.15); border-radius: 3px;' title='1.0'> tai</span><span style='background-color: rgba(0.0, 165.0, 0, 0.15); border-radius: 3px;' title='1.0'> nạn</span><span style='background-color: rgba(0.0, 165.0, 0, 0.15); border-radius: 3px;' title='1.0'> giao</span><span style='background-color: rgba(0.0, 165.0, 0, 0.15); border-radius: 3px;' title='1.0'> thông</span><span style='background-color: rgba(0.0, 165.0, 0, 0.15); border-radius: 3px;' title='1.0'>.</span><span style='background-color: rgba(0.0, 165.0, 0, 0.15); border-radius: 3px;' title='1.0'> \n",
       "</span><span style='background-color: rgba(0.0, 165.0, 0, 0.15); border-radius: 3px;' title='1.0'>**</span><span style='background-color: rgba(0.0, 165.0, 0, 0.15); border-radius: 3px;' title='1.0'>Kết</span><span style='background-color: rgba(0.0, 165.0, 0, 0.15); border-radius: 3px;' title='1.0'> Luận</span><span style='background-color: rgba(0.0, 165.0, 0, 0.15); border-radius: 3px;' title='1.0'> Cuối</span><span style='background-color: rgba(0.0, 165.0, 0, 0.15); border-radius: 3px;' title='1.0'> Cùng</span><span style='background-color: rgba(0.0, 165.0, 0, 0.15); border-radius: 3px;' title='1.0'>**</span><span style='background-color: rgba(0.0, 165.0, 0, 0.15); border-radius: 3px;' title='1.0'>\n",
       "</span><span style='background-color: rgba(0.0, 165.0, 0, 0.15); border-radius: 3px;' title='1.0'>Dựa</span><span style='background-color: rgba(0.0, 165.0, 0, 0.15); border-radius: 3px;' title='1.0'> trên</span><span style='background-color: rgba(0.0, 165.0, 0, 0.15); border-radius: 3px;' title='1.0'> phân</span><span style='background-color: rgba(0.0, 165.0, 0, 0.15); border-radius: 3px;' title='1.0'> tích</span><span style='background-color: rgba(0.0, 165.0, 0, 0.15); border-radius: 3px;' title='1.0'>,</span><span style='background-color: rgba(0.0, 165.0, 0, 0.15); border-radius: 3px;' title='1.0'> tài</span><span style='background-color: rgba(0.0, 165.0, 0, 0.15); border-radius: 3px;' title='1.0'> liệu</span><span style='background-color: rgba(0.0, 165.0, 0, 0.15); border-radius: 3px;' title='1.0'> đã</span><span style='background-color: rgba(0.0, 165.0, 0, 0.15); border-radius: 3px;' title='1.0'> truy</span><span style='background-color: rgba(0.0, 165.0, 0, 0.15); border-radius: 3px;' title='1.0'> xuất</span><span style='background-color: rgba(0.0, 165.0, 0, 0.15); border-radius: 3px;' title='1.0'> không</span><span style='background-color: rgba(0.0, 165.0, 0, 0.15); border-radius: 3px;' title='1.0'> hỗ</span><span style='background-color: rgba(0.0, 165.0, 0, 0.15); border-radius: 3px;' title='1.0'> trợ</span><span style='background-color: rgba(0.0, 165.0, 0, 0.15); border-radius: 3px;' title='1.0'> đầy</span><span style='background-color: rgba(0.0, 165.0, 0, 0.15); border-radius: 3px;' title='1.0'> đủ</span><span style='background-color: rgba(0.0, 165.0, 0, 0.15); border-radius: 3px;' title='1.0'> cho</span><span style='background-color: rgba(0.0, 165.0, 0, 0.15); border-radius: 3px;' title='1.0'> câu</span><span style='background-color: rgba(0.0, 165.0, 0, 0.15); border-radius: 3px;' title='1.0'> trả</span><span style='background-color: rgba(0.0, 165.0, 0, 0.15); border-radius: 3px;' title='1.0'> lời</span><span style='background-color: rgba(0.0, 165.0, 0, 0.15); border-radius: 3px;' title='1.0'> mong</span><span style='background-color: rgba(0.0, 165.0, 0, 0.15); border-radius: 3px;' title='1.0'> đợi</span><span style='background-color: rgba(0.0, 165.0, 0, 0.15); border-radius: 3px;' title='1.0'>.</span><span style='background-color: rgba(0.0, 165.0, 0, 0.15); border-radius: 3px;' title='1.0'> Tuy</span><span style='background-color: rgba(0.0, 165.0, 0, 0.15); border-radius: 3px;' title='1.0'> nhiên</span><span style='background-color: rgba(0.0, 165.0, 0, 0.15); border-radius: 3px;' title='1.0'>,</span><span style='background-color: rgba(0.0, 165.0, 0, 0.15); border-radius: 3px;' title='1.0'> nó</span><span style='background-color: rgba(0.0, 165.0, 0, 0.15); border-radius: 3px;' title='1.0'> cung</span><span style='background-color: rgba(0.0, 165.0, 0, 0.15); border-radius: 3px;' title='1.0'> cấp</span><span style='background-color: rgba(0.0, 165.0, 0, 0.15); border-radius: 3px;' title='1.0'> thông</span><span style='background-color: rgba(0.0, 165.0, 0, 0.15); border-radius: 3px;' title='1.0'> tin</span><span style='background-color: rgba(0.0, 165.0, 0, 0.15); border-radius: 3px;' title='1.0'> hữu</span><span style='background-color: rgba(0.0, 165.0, 0, 0.15); border-radius: 3px;' title='1.0'> ích</span><span style='background-color: rgba(0.0, 165.0, 0, 0.15); border-radius: 3px;' title='1.0'> về</span><span style='background-color: rgba(0.0, 165.0, 0, 0.15); border-radius: 3px;' title='1.0'> các</span><span style='background-color: rgba(0.0, 165.0, 0, 0.15); border-radius: 3px;' title='1.0'> quy</span><span style='background-color: rgba(0.0, 165.0, 0, 0.15); border-radius: 3px;' title='1.0'> định</span><span style='background-color: rgba(0.0, 165.0, 0, 0.15); border-radius: 3px;' title='1.0'> pháp</span><span style='background-color: rgba(0.0, 165.0, 0, 0.15); border-radius: 3px;' title='1.0'> luật</span><span style='background-color: rgba(0.0, 165.0, 0, 0.15); border-radius: 3px;' title='1.0'> liên</span><span style='background-color: rgba(0.0, 165.0, 0, 0.15); border-radius: 3px;' title='1.0'> quan</span><span style='background-color: rgba(0.0, 165.0, 0, 0.15); border-radius: 3px;' title='1.0'> đến</span><span style='background-color: rgba(0.0, 165.0, 0, 0.15); border-radius: 3px;' title='1.0'> bồi</span><span style='background-color: rgba(0.0, 165.0, 0, 0.15); border-radius: 3px;' title='1.0'> thường</span><span style='background-color: rgba(0.0, 165.0, 0, 0.15); border-radius: 3px;' title='1.0'> thiệt</span><span style='background-color: rgba(0.0, 165.0, 0, 0.15); border-radius: 3px;' title='1.0'> hại</span><span style='background-color: rgba(0.0, 165.0, 0, 0.15); border-radius: 3px;' title='1.0'> trong</span><span style='background-color: rgba(0.0, 165.0, 0, 0.15); border-radius: 3px;' title='1.0'> trường</span><span style='background-color: rgba(0.0, 165.0, 0, 0.15); border-radius: 3px;' title='1.0'> hợp</span><span style='background-color: rgba(0.0, 165.0, 0, 0.15); border-radius: 3px;' title='1.0'> tai</span><span style='background-color: rgba(0.0, 165.0, 0, 0.15); border-radius: 3px;' title='1.0'> nạn</span><span style='background-color: rgba(0.0, 165.0, 0, 0.15); border-radius: 3px;' title='1.0'> giao</span><span style='background-color: rgba(0.0, 165.0, 0, 0.15); border-radius: 3px;' title='1.0'> thông</span><span style='background-color: rgba(0.0, 165.0, 0, 0.15); border-radius: 3px;' title='1.0'>.\n",
       "</span>&lt;|im_end&gt;\n",
       "&lt;|im_start|&gt;user\n",
       "Hãy đánh giá mức độ liên quan trên thang điểm 1-5, với 5 là hoàn toàn liên quan, 1 là hoàn toàn không liên quan&lt;|im_end|&gt;\n",
       "&lt;|im_start|&gt;assistant\n",
       "Mức độ liên quan (1-5):</pre>"
      ],
      "text/plain": [
       "<IPython.core.display.HTML object>"
      ]
     },
     "metadata": {},
     "output_type": "display_data"
    },
    {
     "ename": "Exception",
     "evalue": "Attempted to run a transformers model past its maximum context window size of 2048!",
     "output_type": "error",
     "traceback": [
      "\u001b[0;31m---------------------------------------------------------------------------\u001b[0m",
      "\u001b[0;31mException\u001b[0m                                 Traceback (most recent call last)",
      "Cell \u001b[0;32mIn[107], line 1\u001b[0m\n\u001b[0;32m----> 1\u001b[0m \u001b[43mllm\u001b[49m\u001b[38;5;241;43m+\u001b[39;49m\u001b[43minp\u001b[49m\u001b[38;5;241;43m+\u001b[39;49m\u001b[43mgen\u001b[49m\u001b[43m(\u001b[49m\u001b[43mstop\u001b[49m\u001b[38;5;241;43m=\u001b[39;49m\u001b[38;5;124;43m'\u001b[39;49m\u001b[38;5;124;43m<|im_end|>\u001b[39;49m\u001b[38;5;124;43m'\u001b[39;49m\u001b[43m)\u001b[49m\u001b[38;5;241;43m+\u001b[39;49m\u001b[43m\\\u001b[49m\n\u001b[1;32m      2\u001b[0m \u001b[43m    \u001b[49m\u001b[38;5;124;43mf\u001b[39;49m\u001b[38;5;124;43m'\u001b[39;49m\u001b[38;5;124;43m<|im_end>\u001b[39;49m\u001b[38;5;130;43;01m\\n\u001b[39;49;00m\u001b[38;5;124;43m<|im_start|>user\u001b[39;49m\u001b[38;5;130;43;01m\\n\u001b[39;49;00m\u001b[38;5;124;43mHãy đánh giá mức độ liên quan trên thang điểm 1-5, với 5 là hoàn toàn liên quan, 1 là hoàn toàn không liên quan<|im_end|>\u001b[39;49m\u001b[38;5;130;43;01m\\n\u001b[39;49;00m\u001b[38;5;124;43m<|im_start|>assistant\u001b[39;49m\u001b[38;5;130;43;01m\\n\u001b[39;49;00m\u001b[38;5;124;43mMức độ liên quan (1-5):\u001b[39;49m\u001b[38;5;124;43m'\u001b[39;49m\u001b[43m \u001b[49m\u001b[38;5;241;43m+\u001b[39;49m\u001b[43m \u001b[49m\u001b[43mgen\u001b[49m\u001b[43m(\u001b[49m\u001b[43mstop\u001b[49m\u001b[38;5;241;43m=\u001b[39;49m\u001b[38;5;124;43m'\u001b[39;49m\u001b[38;5;124;43m<|im_end|>\u001b[39;49m\u001b[38;5;124;43m'\u001b[39;49m\u001b[43m)\u001b[49m\n",
      "File \u001b[0;32m/mnt/nfs-data/users/anhvth5/projects/guidance/guidance/models/_model.py:306\u001b[0m, in \u001b[0;36mModel.__add__\u001b[0;34m(self, value)\u001b[0m\n\u001b[1;32m    304\u001b[0m \u001b[38;5;66;03m# run stateless functions (grammar nodes)\u001b[39;00m\n\u001b[1;32m    305\u001b[0m \u001b[38;5;28;01melif\u001b[39;00m \u001b[38;5;28misinstance\u001b[39m(value, StatelessFunction):\n\u001b[0;32m--> 306\u001b[0m     out \u001b[38;5;241m=\u001b[39m \u001b[43mlm\u001b[49m\u001b[38;5;241;43m.\u001b[39;49m\u001b[43m_run_stateless\u001b[49m\u001b[43m(\u001b[49m\u001b[43mvalue\u001b[49m\u001b[43m)\u001b[49m\n\u001b[1;32m    308\u001b[0m \u001b[38;5;66;03m# run stateful functions\u001b[39;00m\n\u001b[1;32m    309\u001b[0m \u001b[38;5;28;01melse\u001b[39;00m:\n\u001b[1;32m    310\u001b[0m     out \u001b[38;5;241m=\u001b[39m value(lm)\n",
      "File \u001b[0;32m/mnt/nfs-data/users/anhvth5/projects/guidance/guidance/models/_model.py:469\u001b[0m, in \u001b[0;36mModel._run_stateless\u001b[0;34m(lm, stateless_function, temperature, top_p, n)\u001b[0m\n\u001b[1;32m    467\u001b[0m delayed_bytes \u001b[38;5;241m=\u001b[39m \u001b[38;5;124mb\u001b[39m\u001b[38;5;124m\"\u001b[39m\u001b[38;5;124m\"\u001b[39m\n\u001b[1;32m    468\u001b[0m \u001b[38;5;66;03m# last_is_generated = False\u001b[39;00m\n\u001b[0;32m--> 469\u001b[0m \u001b[38;5;28;01mfor\u001b[39;00m new_bytes, is_generated, new_bytes_prob, capture_groups, capture_group_log_probs, new_token_count \u001b[38;5;129;01min\u001b[39;00m gen_obj:\n\u001b[1;32m    470\u001b[0m \n\u001b[1;32m    471\u001b[0m     \u001b[38;5;66;03m# we make everything full probability if we are not computing uncertainty\u001b[39;00m\n\u001b[1;32m    472\u001b[0m     \u001b[38;5;28;01mif\u001b[39;00m \u001b[38;5;129;01mnot\u001b[39;00m lm\u001b[38;5;241m.\u001b[39mcompute_log_probs:\n\u001b[1;32m    473\u001b[0m         new_bytes_prob \u001b[38;5;241m=\u001b[39m \u001b[38;5;241m1.0\u001b[39m\n",
      "File \u001b[0;32m/mnt/nfs-data/users/anhvth5/projects/guidance/guidance/models/_model.py:789\u001b[0m, in \u001b[0;36mModel.__call__\u001b[0;34m(self, grammar, max_tokens, n, top_p, temperature, ensure_bos_token)\u001b[0m\n\u001b[1;32m    787\u001b[0m grammar_temp \u001b[38;5;241m=\u001b[39m parser\u001b[38;5;241m.\u001b[39mnext_byte_temperature()\n\u001b[1;32m    788\u001b[0m current_temp \u001b[38;5;241m=\u001b[39m grammar_temp \u001b[38;5;28;01mif\u001b[39;00m grammar_temp \u001b[38;5;241m>\u001b[39m\u001b[38;5;241m=\u001b[39m \u001b[38;5;241m0\u001b[39m \u001b[38;5;28;01melse\u001b[39;00m temperature \u001b[38;5;66;03m# we prefer to use the grammar temp when it is specified\u001b[39;00m\n\u001b[0;32m--> 789\u001b[0m logits \u001b[38;5;241m=\u001b[39m \u001b[38;5;28;43mself\u001b[39;49m\u001b[38;5;241;43m.\u001b[39;49m\u001b[43m_get_logits\u001b[49m\u001b[43m(\u001b[49m\u001b[43mtoken_ids\u001b[49m\u001b[43m,\u001b[49m\u001b[43m \u001b[49m\u001b[43mparser\u001b[49m\u001b[38;5;241;43m.\u001b[39;49m\u001b[43mbytes\u001b[49m\u001b[43m[\u001b[49m\u001b[43mstart_pos\u001b[49m\u001b[43m:\u001b[49m\u001b[43mforced_pos\u001b[49m\u001b[43m]\u001b[49m\u001b[43m,\u001b[49m\u001b[43m \u001b[49m\u001b[43mcurrent_temp\u001b[49m\u001b[43m)\u001b[49m\n\u001b[1;32m    790\u001b[0m is_generated \u001b[38;5;241m=\u001b[39m \u001b[38;5;28;01mTrue\u001b[39;00m\n\u001b[1;32m    792\u001b[0m \u001b[38;5;66;03m# if requested we compute the log probabilities so we can track the probabilities of each node\u001b[39;00m\n",
      "File \u001b[0;32m/mnt/nfs-data/users/anhvth5/projects/guidance/guidance/models/transformers/_kilm.py:86\u001b[0m, in \u001b[0;36mKilm._get_logits\u001b[0;34m(self, token_ids, forced_bytes, current_temp, **kwargs)\u001b[0m\n\u001b[1;32m     77\u001b[0m \u001b[38;5;66;03m# make sure we don't run off the end of the model\u001b[39;00m\n\u001b[1;32m     78\u001b[0m \n\u001b[1;32m     79\u001b[0m \u001b[38;5;66;03m# _text = self.decode(token_ids)\u001b[39;00m\n\u001b[1;32m     80\u001b[0m \u001b[38;5;66;03m# new_token_ids = self.encode(_text)\u001b[39;00m\n\u001b[1;32m     81\u001b[0m \u001b[38;5;66;03m# assert len(new_token_ids) == len(token_ids)\u001b[39;00m\n\u001b[1;32m     82\u001b[0m \u001b[38;5;66;03m# import ipdb; ipdb.set_trace()\u001b[39;00m\n\u001b[1;32m     83\u001b[0m \u001b[38;5;28;01mif\u001b[39;00m \u001b[38;5;28mlen\u001b[39m(token_ids) \u001b[38;5;241m>\u001b[39m\u001b[38;5;241m=\u001b[39m \u001b[38;5;28mgetattr\u001b[39m(\n\u001b[1;32m     84\u001b[0m     \u001b[38;5;28mself\u001b[39m\u001b[38;5;241m.\u001b[39mmodel_obj\u001b[38;5;241m.\u001b[39mconfig, \u001b[38;5;124m\"\u001b[39m\u001b[38;5;124mmax_position_embeddings\u001b[39m\u001b[38;5;124m\"\u001b[39m, \u001b[38;5;241m1e10\u001b[39m\n\u001b[1;32m     85\u001b[0m ):\n\u001b[0;32m---> 86\u001b[0m     \u001b[38;5;28;01mraise\u001b[39;00m \u001b[38;5;167;01mException\u001b[39;00m(\n\u001b[1;32m     87\u001b[0m         \u001b[38;5;124mf\u001b[39m\u001b[38;5;124m\"\u001b[39m\u001b[38;5;124mAttempted to run a transformers model past its maximum context window size of \u001b[39m\u001b[38;5;132;01m{\u001b[39;00m\u001b[38;5;28mself\u001b[39m\u001b[38;5;241m.\u001b[39mmodel_obj\u001b[38;5;241m.\u001b[39mconfig\u001b[38;5;241m.\u001b[39mmax_position_embeddings\u001b[38;5;132;01m}\u001b[39;00m\u001b[38;5;124m!\u001b[39m\u001b[38;5;124m\"\u001b[39m\n\u001b[1;32m     88\u001b[0m     )\n\u001b[1;32m     90\u001b[0m \u001b[38;5;66;03m# get the number of cache positions we are using\u001b[39;00m\n\u001b[1;32m     91\u001b[0m cache_token_ids \u001b[38;5;241m=\u001b[39m \u001b[38;5;28mself\u001b[39m\u001b[38;5;241m.\u001b[39m_cache_state[\u001b[38;5;124m\"\u001b[39m\u001b[38;5;124mcache_token_ids\u001b[39m\u001b[38;5;124m\"\u001b[39m]\n",
      "\u001b[0;31mException\u001b[0m: Attempted to run a transformers model past its maximum context window size of 2048!"
     ]
    }
   ],
   "source": [
    "llm+inp+gen(stop='<|im_end|>')+\\\n",
    "    f'<|im_end>\\n<|im_start|>user\\nHãy đánh giá mức độ liên quan trên thang điểm 1-5, với 5 là hoàn toàn liên quan, 1 là hoàn toàn không liên quan<|im_end|>\\n<|im_start|>assistant\\nMức độ liên quan (1-5):' + gen(stop='<|im_end|>')"
   ]
  },
  {
   "cell_type": "code",
   "execution_count": null,
   "metadata": {},
   "outputs": [],
   "source": []
  }
 ],
 "metadata": {
  "kernelspec": {
   "display_name": "Python 3 (ipykernel)",
   "language": "python",
   "name": "python3"
  },
  "language_info": {
   "codemirror_mode": {
    "name": "ipython",
    "version": 3
   },
   "file_extension": ".py",
   "mimetype": "text/x-python",
   "name": "python",
   "nbconvert_exporter": "python",
   "pygments_lexer": "ipython3",
   "version": "3.9.18"
  }
 },
 "nbformat": 4,
 "nbformat_minor": 4
}
