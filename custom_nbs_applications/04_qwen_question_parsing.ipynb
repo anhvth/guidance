{
 "cells": [
  {
   "cell_type": "code",
   "execution_count": 5,
   "metadata": {},
   "outputs": [
    {
     "name": "stdout",
     "output_type": "stream",
     "text": [
      "/anhvth5/projects/guidance\n"
     ]
    }
   ],
   "source": [
    "%cd ..\n",
    "from llm_lora import QwenQACInference, load_model_qwen\n",
    "from speedy import *"
   ]
  },
  {
   "cell_type": "code",
   "execution_count": 2,
   "metadata": {},
   "outputs": [
    {
     "name": "stdout",
     "output_type": "stream",
     "text": [
      "Syncing /anhvth5/checkpoint-llm-finetuned/qwen_14B/full_010124 to /home/ubuntu/.cache/huggingface/local_hub/qwen_01fe265c0f718c13\n",
      "sending incremental file list\n",
      "\n",
      "sent 1,102 bytes  received 17 bytes  2,238.00 bytes/sec\n",
      "total size is 28,337,880,096  speedup is 25,324,289.63\n"
     ]
    },
    {
     "name": "stderr",
     "output_type": "stream",
     "text": [
      "WARNING:transformers_modules.qwen_01fe265c0f718c13.modeling_qwen:Warning: please make sure that you are using the latest codes and checkpoints, especially if you used Qwen-7B before 09.25.2023.请使用最新模型和代码，尤其如果你在9月25日前已经开始使用Qwen-7B，千万注意不要使用错误代码和模型。\n"
     ]
    },
    {
     "data": {
      "application/vnd.jupyter.widget-view+json": {
       "model_id": "6c495f3dc25343058434ffefd2d1bd1f",
       "version_major": 2,
       "version_minor": 0
      },
      "text/plain": [
       "Loading checkpoint shards:   0%|          | 0/3 [00:00<?, ?it/s]"
      ]
     },
     "metadata": {},
     "output_type": "display_data"
    },
    {
     "name": "stdout",
     "output_type": "stream",
     "text": [
      "QwenQACInference loaded\n"
     ]
    }
   ],
   "source": [
    "model, tok = load_model_qwen('/anhvth5/checkpoint-llm-finetuned/qwen_14B/full_010124/', device_map=0)\n",
    "qac = QwenQACInference(model=model, tokenizer=tok)\n",
    "print('QwenQACInference loaded')"
   ]
  },
  {
   "cell_type": "code",
   "execution_count": 8,
   "metadata": {},
   "outputs": [
    {
     "name": "stdout",
     "output_type": "stream",
     "text": [
      "Example:  {'conversations': [{'from': 'user', 'value': 'Please determine the relationship between the following premise and hypothesis:\\nPremise: ```Question: Việc thông báo trục vớt tài sản chìm đắm gây nguy hiểm được thực hiện trong thời gian nào? \\nAnswer: Theo Điều 279 Bộ luật Hàng hải Việt Nam 2015, chủ sở hữu tài sản chìm đắm gây nguy hiểm có nghĩa vụ thông báo ngay cho Giám đốc Cảng vụ hàng hải nơi gần nhất biết sự cố xảy ra và phải tiến hành trục vớt tài sản đó trong thời hạn theo quy định của Chính phủ.\\n```\\n\\nHypothesis: ```Nghị định 05/2017/NĐ-CP xử lý tài sản chìm đắm đường thủy nội địa vùng nước cảng biển vùng biển Việt ...\\nChương II |  Điều 13. Thủ tục phê duyệt phương án trục vớt tài sản chìm đắm\\n3. Trường hợp hồ sơ nhận được không hợp lệ thì chậm nhất 02 ngày làm việc kể từ ngày nhận được hồ sơ, cơ quan có thẩm quyền phê duyệt phải hướng dẫn người nộp hoàn thiện hồ sơ theo quy định tại Nghị định này. Nếu hồ sơ hợp lệ thì trong thời hạn không quá 10 ngày kể từ ngày nhận được hồ sơ, cơ quan có thẩm quyền phê duyệt phải có văn bản phê duyệt phương án trục vớt tài sản chìm đắm và gửi trực tiếp đến người nộp hồ sơ hoặc gửi qua hệ thống bưu chính; trường hợp không phê duyệt phải có văn bản trả lời và nêu rõ lý do.\\n4. Đối với tài sản chìm đắm gây nguy hiểm, cơ quan có thẩm quyền phải tổ chức phê duyệt phương án trục vớt trong thời hạn không quá 24 giờ kể từ thời điểm nhận được hồ sơ hợp lệ; đối với trường hợp quy định tại điểm a khoản 4 Điều 12 thì thời hạn này không quá 48 giờ.```'}, {'from': 'assistant', 'value': 'Mức độ liên quan (1-5): 3\\n\\nTài liệu đã truy xuất cung cấp thông tin liên quan đến thời hạn xử lý tài sản chìm đắm gây nguy hiểm, nhưng không trực tiếp hỗ trợ câu trả lời mong đợi về thời gian thông báo trục vớt tài sản chìm đắm gây nguy hiểm. Do đó, mức độ liên quan được đánh giá là 3 trên thang điểm 1-5, với 5 là hoàn toàn liên quan và 1 là hoàn toàn không liên quan.'}]}\n"
     ]
    }
   ],
   "source": [
    "nli_data = load_by_ext('../../data/chat-formated-dataset/tvpl_giaothong_rag_nli_vietnamese_train.json')\n",
    "print('Example: ', nli_data[0])"
   ]
  },
  {
   "cell_type": "markdown",
   "metadata": {},
   "source": []
  },
  {
   "cell_type": "code",
   "execution_count": 15,
   "metadata": {},
   "outputs": [],
   "source": [
    "# nli_data[0]"
   ]
  },
  {
   "cell_type": "code",
   "execution_count": 16,
   "metadata": {},
   "outputs": [],
   "source": [
    "NLI_TEMPLATE = '''Please determine the relationship between the following premise and hypothesis:\n",
    "Premise: ```Question: {question} \n",
    "Answer: {answer}\n",
    "```\n",
    "Hypothesis: ```{document}```'''"
   ]
  },
  {
   "cell_type": "code",
   "execution_count": 11,
   "metadata": {},
   "outputs": [
    {
     "name": "stdout",
     "output_type": "stream",
     "text": [
      "Please determine the relationship between the following premise and hypothesis:\n",
      "Premise: ```Question: Việc thông báo trục vớt tài sản chìm đắm gây nguy hiểm được thực hiện trong thời gian nào? \n",
      "Answer: Theo Điều 279 Bộ luật Hàng hải Việt Nam 2015, chủ sở hữu tài sản chìm đắm gây nguy hiểm có nghĩa vụ thông báo ngay cho Giám đốc Cảng vụ hàng hải nơi gần nhất biết sự cố xảy ra và phải tiến hành trục vớt tài sản đó trong thời hạn theo quy định của Chính phủ.\n",
      "```\n",
      "\n",
      "Hypothesis: ```Nghị định 05/2017/NĐ-CP xử lý tài sản chìm đắm đường thủy nội địa vùng nước cảng biển vùng biển Việt ...\n",
      "Chương II |  Điều 13. Thủ tục phê duyệt phương án trục vớt tài sản chìm đắm\n",
      "3. Trường hợp hồ sơ nhận được không hợp lệ thì chậm nhất 02 ngày làm việc kể từ ngày nhận được hồ sơ, cơ quan có thẩm quyền phê duyệt phải hướng dẫn người nộp hoàn thiện hồ sơ theo quy định tại Nghị định này. Nếu hồ sơ hợp lệ thì trong thời hạn không quá 10 ngày kể từ ngày nhận được hồ sơ, cơ quan có thẩm quyền phê duyệt phải có văn bản phê duyệt phương án trục vớt tài sản chìm đắm và gửi trực tiếp đến người nộp hồ sơ hoặc gửi qua hệ thống bưu chính; trường hợp không phê duyệt phải có văn bản trả lời và nêu rõ lý do.\n",
      "4. Đối với tài sản chìm đắm gây nguy hiểm, cơ quan có thẩm quyền phải tổ chức phê duyệt phương án trục vớt trong thời hạn không quá 24 giờ kể từ thời điểm nhận được hồ sơ hợp lệ; đối với trường hợp quy định tại điểm a khoản 4 Điều 12 thì thời hạn này không quá 48 giờ.```\n"
     ]
    }
   ],
   "source": [
    "from "
   ]
  },
  {
   "cell_type": "code",
   "execution_count": null,
   "metadata": {},
   "outputs": [],
   "source": []
  }
 ],
 "metadata": {
  "kernelspec": {
   "display_name": "py39",
   "language": "python",
   "name": "python3"
  },
  "language_info": {
   "codemirror_mode": {
    "name": "ipython",
    "version": 3
   },
   "file_extension": ".py",
   "mimetype": "text/x-python",
   "name": "python",
   "nbconvert_exporter": "python",
   "pygments_lexer": "ipython3",
   "version": "3.9.18"
  }
 },
 "nbformat": 4,
 "nbformat_minor": 2
}
