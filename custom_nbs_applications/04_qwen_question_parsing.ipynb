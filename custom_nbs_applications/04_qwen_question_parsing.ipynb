{
 "cells": [
  {
   "cell_type": "code",
   "execution_count": 152,
   "metadata": {},
   "outputs": [],
   "source": [
    "%cd ..\n",
    "from llm_lora import QwenQACInference, load_model_qwen\n",
    "from speedy import *\n",
    "from sklearn.metrics import classification_report, f1_score\n"
   ]
  },
  {
   "cell_type": "code",
   "execution_count": 2,
   "metadata": {},
   "outputs": [
    {
     "name": "stdout",
     "output_type": "stream",
     "text": [
      "Syncing /anhvth5/checkpoint-llm-finetuned/qwen_14B/full_010124 to /home/ubuntu/.cache/huggingface/local_hub/qwen_01fe265c0f718c13\n",
      "sending incremental file list\n",
      "\n",
      "sent 1,102 bytes  received 17 bytes  2,238.00 bytes/sec\n",
      "total size is 28,337,880,096  speedup is 25,324,289.63\n"
     ]
    },
    {
     "name": "stderr",
     "output_type": "stream",
     "text": [
      "WARNING:transformers_modules.qwen_01fe265c0f718c13.modeling_qwen:Warning: please make sure that you are using the latest codes and checkpoints, especially if you used Qwen-7B before 09.25.2023.请使用最新模型和代码，尤其如果你在9月25日前已经开始使用Qwen-7B，千万注意不要使用错误代码和模型。\n"
     ]
    },
    {
     "data": {
      "application/vnd.jupyter.widget-view+json": {
       "model_id": "5689d15a8baa4e809ac95c5739e801a8",
       "version_major": 2,
       "version_minor": 0
      },
      "text/plain": [
       "Loading checkpoint shards:   0%|          | 0/3 [00:00<?, ?it/s]"
      ]
     },
     "metadata": {},
     "output_type": "display_data"
    },
    {
     "name": "stdout",
     "output_type": "stream",
     "text": [
      "QwenQACInference loaded\n"
     ]
    }
   ],
   "source": [
    "model, tok = load_model_qwen(\n",
    "    '/anhvth5/checkpoint-llm-finetuned/qwen_14B/full_010124/', device_map=0, bf16=True)\n",
    "qac = QwenQACInference(model=model, tokenizer=tok)\n",
    "print('QwenQACInference loaded')"
   ]
  },
  {
   "cell_type": "code",
   "execution_count": 3,
   "metadata": {},
   "outputs": [
    {
     "name": "stdout",
     "output_type": "stream",
     "text": [
      "Model param dtype: torch.bfloat16\n"
     ]
    }
   ],
   "source": [
    "# check dtype model param, get the first param\n",
    "print('Model param dtype:', next(model.parameters()).dtype)"
   ]
  },
  {
   "cell_type": "code",
   "execution_count": 39,
   "metadata": {},
   "outputs": [
    {
     "name": "stdout",
     "output_type": "stream",
     "text": [
      "20k_question_answer_giaothong.json\n",
      "500k_qac_qae_alpha_law_mt.json\n",
      "9k_QAC_LAW.json\n",
      "all_chat_data_v1.pkl\n",
      "all_chat_data_v2.pkl\n",
      "all_chat_data_v2_1_fused.pkl\n",
      "giaothong_ask_gemini_suports_or_neutral.json\n",
      "giaothong_qa_long_short.json\n",
      "law_query_parsing.json\n",
      "nli_to_chat_augmentation.json\n",
      "qa_giaothong_20k_doc_to_list_keywords_as_conversation.json\n",
      "qac_to_chat_augmentation.json\n",
      "tvpl_giaothong_rag_conversation_from_qwen72b.json\n",
      "tvpl_giaothong_rag_nli_train.json\n",
      "tvpl_giaothong_rag_nli_val.json\n",
      "tvpl_giaothong_rag_nli_vietnamese_train.json\n",
      "tvpl_giaothong_rag_nli_vietnamese_val.json\n"
     ]
    }
   ],
   "source": [
    "ls ../../data/chat-formated-dataset/"
   ]
  },
  {
   "cell_type": "code",
   "execution_count": 52,
   "metadata": {},
   "outputs": [],
   "source": [
    "nli_data = load_by_ext(\n",
    "    '../../data/chat-formated-dataset/tvpl_giaothong_rag_nli_vietnamese_train.json')"
   ]
  },
  {
   "cell_type": "code",
   "execution_count": 63,
   "metadata": {},
   "outputs": [
    {
     "name": "stdout",
     "output_type": "stream",
     "text": [
      "user >>> \n",
      "Câu hỏi (question): ```Trước khi xe ô tô của cơ quan Bảo hiểm xã hội Việt Nam lưu hành có phải kiểm tra tình trạng kỹ thuật, lượng xăng dầu của xe không?```\n",
      "\n",
      "Câu trả lời mong đợi (expected answer): ```Trước khi xe ô tô của cơ quan Bảo hiểm xã hội Việt Nam lưu hành, lái xe phải kiểm tra tình trạng kỹ thuật và lượng xăng dầu của xe. Nếu xe không đủ điều kiện vận hành, lái xe phải báo cáo và đề xuất phương án xử lý với Đội trưởng Đội xe.```\n",
      "\n",
      "Tài liệu đã truy xuất (retrived document): ```Thông tư 12/2020/TT-BGTVT quản lý hoạt động vận tải bằng xe ô tô và dịch vụ hỗ trợ vận tải đường bộ  ...\n",
      "Chương II |  Điều 4. Quy định chi tiết về quy trình bảo đảm an toàn giao thông\n",
      "Quy trình đảm bảo an toàn giao thông phải đảm bảo theo trình tự các bước và nội dung tối thiểu như sau:\n",
      "3. Sau khi được giao nhiệm vụ và trước khi cho xe khởi hành, người lái xe được giao nhiệm vụ vận chuyển phải thực hiện kiểm tra đảm bảo tình trạng an toàn kỹ thuật của phương tiện (riêng đơn vị kinh doanh vận tải hành khách bằng xe taxi thực hiện kiểm tra theo kế hoạch sản xuất kinh doanh của đơn vị) tối thiểu các nội dung chính gồm: kiểm tra thiết bị giám sát hành trình, camera lắp trên xe (đối với những xe bắt buộc phải lắp theo quy định) đảm bảo tình trạng hoạt động tốt; kiểm tra hệ thống lái; kiểm tra các bánh xe; kiểm tra hệ thống phanh; hệ thống đèn, còi; thông tin niêm yết trên xe.\n",
      "Quy trình đảm bảo an toàn giao thông phải đảm bảo theo trình tự các bước và nội dung tối thiểu như sau:\n",
      "4. Trước khi cho xe khởi hành thực hiện nhiệm vụ vận chuyển, người lái xe nhận nhiệm vụ phải sử dụng thẻ nhận dạng người lái xe của mình để đăng nhập thông tin qua đầu đọc thẻ của thiết bị giám sát hành trình của xe.```\n",
      "\n",
      "Mục tiêu là xác định liệu tài liệu có hỗ trợ cho câu hỏi và câu trả lời hay không.\n",
      "\n",
      "\n",
      "assistant >>> \n",
      "Để xác định liệu tài liệu đã truy xuất có hỗ trợ cho câu hỏi và câu trả lời hay không, chúng ta sẽ:\n",
      "\n",
      "1. Phân Tích Bối Cảnh Tài Liệu: Đánh giá nội dung tổng quan và ngữ cảnh của tài liệu.\n",
      "2. So Sánh Câu Hỏi và Tài Liệu: Kiểm tra sự tham chiếu trực tiếp hoặc các khái niệm liên quan trong tài liệu phù hợp với câu hỏi.\n",
      "3. Liên Hệ Câu Trả Lời và Tài Liệu: Xác định xem các yếu tố chính hoặc chi tiết cụ thể của câu trả lời có được hỗ trợ bởi tài liệu không.\n",
      "4. Đánh Giá Mâu Thuẫn: Xác định bất kỳ mâu thuẫn nào giữa tài liệu và câu trả lời mong đợi.\n",
      "\n",
      "Bây giờ tôi sẽ thực hiện các bước trên để phân tích tài liệu đã truy xuất.\n",
      "\n",
      "**Phân Tích Bối Cảnh Tài Liệu** \n",
      "Tài liệu chủ yếu thảo luận về thông tư quản lý hoạt động vận tải bằng xe ô tô và dịch vụ hỗ trợ vận tải đường bộ. Nó tập trung vào các quy trình đảm bảo an toàn giao thông cho phương tiện vận tải.\n",
      " \n",
      "**So Sánh Câu Hỏi và Tài Liệu**\n",
      "Câu hỏi liên quan đến việc kiểm tra tình trạng kỹ thuật và lượng xăng dầu của xe trước khi lưu hành. Tài liệu cũng đề cập đến các quy trình đảm bảo an toàn giao thông, trong đó bao gồm kiểm tra tình trạng kỹ thuật của phương tiện.\n",
      " \n",
      "**Liên Hệ Câu Trả Lời và Tài Liệu**\n",
      "Câu trả lời mong đợi cho biết lái xe phải kiểm tra tình trạng kỹ thuật và lượng xăng dầu của xe trước khi lưu hành. Tài liệu đã truy xuất cũng yêu cầu người lái xe kiểm tra tình trạng kỹ thuật của phương tiện trước khi cho xe khởi hành thực hiện nhiệm vụ vận chuyển. Tuy nhiên, tài liệu không đề cập đến việc kiểm tra lượng xăng dầu của xe.\n",
      " \n",
      "**Đánh Giá Mâu Thuẫn**\n",
      "Tài liệu không có mâu thuẫn với câu hỏi, nhưng nó không hỗ trợ đầy đủ cho câu trả lời mong đợi vì nó không đề cập đến việc kiểm tra lượng xăng dầu của xe.\n",
      "\n",
      "Từ đó, chúng ta có thể kết luận rằng tài liệu đã truy xuất hỗ trợ một phần cho câu hỏi và câu trả lời mong đợi, nhưng không đầy đủ. \n",
      "**Kết Luận Cuối Cùng**\n",
      "Dựa trên phân tích, tài liệu đã truy xuất hỗ trợ một phần cho câu hỏi và câu trả lời mong đợi, nhưng không đầy đủ.\n",
      "\n",
      "user >>> Hãy đánh giá mức độ liên quan trên thang điểm 1-5, với 5 là hoàn toàn liên quan, 1 là hoàn toàn không liên quan\n",
      "assistant >>> Mức độ liên quan (1-5): 3\n",
      "\n",
      "Tài liệu đã truy xuất có liên quan đến câu hỏi về kiểm tra tình trạng kỹ thuật của xe trước khi lưu hành, nhưng nó không đầy đủ để hỗ trợ câu trả lời mong đợi về việc kiểm tra lượng xăng dầu của xe. Do đó, mức độ liên quan được đánh giá là 3 trên thang điểm 1-5, với 5 là hoàn toàn liên quan và 1 là hoàn toàn không liên quan.\n"
     ]
    }
   ],
   "source": [
    "\n",
    "# Example:  {'conversations': [{'from': 'user', 'value': 'Please determine the relationship between the following premise and hypothesis:\\nPremise: ```“Đi bão” là hành động rất đông người dân đổ xô ra đường phố cùng nhau ăn mừng chiến thắng, thường xuất hiện trong những sự kiện bóng đá có sự tham gia của các Đội tuyển bóng đá nam Việt Nam. Hoạt động này không có định nghĩa, khái niệm trong các văn bản quy phạm pháp luật. Tuy nhiên, nếu đi bão gây混乱 giao thông, gây tổn hại đến tài sản công hoặc của cá nhân, người tham gia có thể bị xử lý theo quy định của pháp luật.```\\n\\nHypothesis: ```Văn bản hợp nhất 15/VBHN-VPQH 2019 Luật Giao thông đường bộ\\nChương I |  Điều 3. Giải thích từ ngữ\\nTrong Luật này, các từ ngữ dưới đây được hiểu như sau:\\n10. Dải phân cách là bộ phận của đường để phân chia mặt đường thành hai chiều xe chạy riêng biệt hoặc để phân chia phần đường của xe cơ giới và xe thô sơ. Dải phân cách gồm loại cố định và loại di động.\\nTrong Luật này, các từ ngữ dưới đây được hiểu như sau:\\n11. Nơi đường giao nhau cùng mức (sau đây gọi là nơi đường giao nhau) là nơi hai hay nhiều đường bộ gặp nhau trên cùng một mặt phẳng, gồm cả mặt bằng hình thành vị trí giao nhau đó.\\nTrong Luật này, các từ ngữ dưới đây được hiểu như sau:\\n12. Đường cao tốc là đường dành cho xe cơ giới, có dải phân cách chia đường cho xe chạy hai chiều riêng biệt; không giao nhau cùng mức với một hoặc các đường khác; được bố trí đầy đủ trang thiết bị phục vụ, bảo đảm giao thông liên tục, an toàn, rút ngắn thời gian hành trình và chỉ cho xe ra, vào ở những điểm nhất định.\\nTrong Luật này, các từ ngữ dưới đây được hiểu như sau:\\n13. Đường chính là đường bảo đảm giao thông chủ yếu trong khu vực.\\nTrong Luật này, các từ ngữ dưới đây được hiểu như sau:\\n14. Đường nhánh là đường nối vào đường chính.```'}, {'from': 'assistant', 'value': '4. Neutral/Irrelevant'}]}\n",
    "def pretty_print_nli_data(nli_data):\n",
    "    for conv in nli_data['conversations']:\n",
    "        print(conv['from'], '>>>', conv['value'])\n",
    "\n",
    "\n",
    "pretty_print_nli_data(nli_data[3])"
   ]
  },
  {
   "cell_type": "code",
   "execution_count": 64,
   "metadata": {},
   "outputs": [],
   "source": [
    "# print(nli_data[3]['system'])"
   ]
  },
  {
   "cell_type": "markdown",
   "metadata": {},
   "source": []
  },
  {
   "cell_type": "code",
   "execution_count": 5,
   "metadata": {},
   "outputs": [],
   "source": [
    "NLI_TEMPLATE = '''Please determine the relationship between the following premise and hypothesis:\n",
    "Premise: ```Question: {question}\n",
    "Answer: {answer}\n",
    "```\n",
    "Hypothesis: ```{document}```'''"
   ]
  },
  {
   "cell_type": "code",
   "execution_count": 6,
   "metadata": {},
   "outputs": [],
   "source": [
    "from guidance import *"
   ]
  },
  {
   "cell_type": "code",
   "execution_count": 248,
   "metadata": {},
   "outputs": [
    {
     "name": "stderr",
     "output_type": "stream",
     "text": [
      "\u001b[32m2024-01-06 11:36:34.337\u001b[0m | \u001b[1mINFO    \u001b[0m | \u001b[36mguidance.models.transformers._qwen\u001b[0m:\u001b[36m__init__\u001b[0m:\u001b[36m47\u001b[0m - \u001b[1mSet tokenizer.eos_token_id = tokenizer.eod_id\u001b[0m\n"
     ]
    }
   ],
   "source": [
    "llm = models.QwenChat(model, tok)"
   ]
  },
  {
   "cell_type": "code",
   "execution_count": 8,
   "metadata": {},
   "outputs": [
    {
     "data": {
      "text/plain": [
       "{'id': 'test_1001p1',\n",
       " 'question': 'Con trai đầu của Ngô Quyền tên gì',\n",
       " 'title': 'Nhà Ngô',\n",
       " 'text': 'Ngô Quyền hạ thành Đại La , giết Công Tiễn rồi bày trận trên sông Bạch Đằng đón quân Nam Hán .',\n",
       " 'label': False}"
      ]
     },
     "execution_count": 8,
     "metadata": {},
     "output_type": "execute_result"
    }
   ],
   "source": [
    "qac_test = load_by_ext('/anhvth5/data/qac-data/za_qac/qac_test.jsonl')\n",
    "qac_test[0]"
   ]
  },
  {
   "cell_type": "code",
   "execution_count": 9,
   "metadata": {},
   "outputs": [],
   "source": [
    "item = qac_test[15]\n",
    "question = item['question']\n",
    "document = '{} | {}'.format(item['title'], item['text'])\n",
    "out = qac(question, document, '5level',\n",
    "          expected_answer='10 vị vua', force=True, decode=True)\n",
    "\n",
    "\n",
    "def qac_one_item(item):\n",
    "    question = item['question']\n",
    "    document = '{} | {}'.format(item['title'], item['text'])\n",
    "    out = qac(question, document, '5level',\n",
    "              expected_answer='', force=True, decode=True)\n",
    "    return out"
   ]
  },
  {
   "cell_type": "markdown",
   "metadata": {},
   "source": [
    "## Forward batches"
   ]
  },
  {
   "cell_type": "code",
   "execution_count": 161,
   "metadata": {},
   "outputs": [
    {
     "name": "stderr",
     "output_type": "stream",
     "text": [
      "100%|██████████| 110/110 [00:40<00:00,  2.72it/s]\n"
     ]
    }
   ],
   "source": [
    "\n",
    "documents = ['{} | {}'.format(item['title'], item['text'])\n",
    "            for item in qac_test]\n",
    "questions = [item['question'] for item in qac_test]\n",
    "outputs = qac.forward(questions, documents,\n",
    "                    template='binary', return_scores=True)"
   ]
  },
  {
   "cell_type": "code",
   "execution_count": 162,
   "metadata": {},
   "outputs": [],
   "source": [
    "# outputs"
   ]
  },
  {
   "cell_type": "code",
   "execution_count": 163,
   "metadata": {},
   "outputs": [],
   "source": [
    "labels = [item['label'] for item in qac_test]"
   ]
  },
  {
   "cell_type": "code",
   "execution_count": 164,
   "metadata": {},
   "outputs": [
    {
     "name": "stdout",
     "output_type": "stream",
     "text": [
      "0.8821410190427175\n",
      "0.8930817610062893\n",
      "0.8993074054342036\n",
      "0.9024258760107817\n",
      "0.9028757460661964\n",
      "0.9055982436882547\n",
      "0.9020475926950747\n",
      "0.9041248606465998\n",
      "0.9022046353872244\n",
      "0.9016486640136441\n",
      "0.8963938179736692\n",
      "0.8920023350846469\n",
      "0.8835820895522387\n"
     ]
    },
    {
     "data": {
      "text/plain": [
       "0.9055982436882547"
      ]
     },
     "execution_count": 164,
     "metadata": {},
     "output_type": "execute_result"
    }
   ],
   "source": [
    "best_thr = 0\n",
    "for thr in np.arange(0.2, .8, 0.05):\n",
    "    # print('Threshold:', thr)\n",
    "    preds = [1 if score > thr else 0 for score in outputs]\n",
    "    score = f1_score(labels, preds)\n",
    "    best_thr = max(best_thr, score)\n",
    "    print(f1_score(labels, preds))\n",
    "    # print('-----------------------------------------')\n",
    "best_thr"
   ]
  },
  {
   "cell_type": "markdown",
   "metadata": {},
   "source": [
    "# Use NLI as QAC"
   ]
  },
  {
   "cell_type": "code",
   "execution_count": 126,
   "metadata": {},
   "outputs": [
    {
     "name": "stdout",
     "output_type": "stream",
     "text": [
      "Threshold: 0.2\n",
      "              precision    recall  f1-score   support\n",
      "\n",
      "       False       1.00      0.15      0.27      2614\n",
      "        True       0.29      1.00      0.45       898\n",
      "\n",
      "    accuracy                           0.37      3512\n",
      "   macro avg       0.64      0.58      0.36      3512\n",
      "weighted avg       0.82      0.37      0.31      3512\n",
      "\n",
      "-----------------------------------------\n",
      "Threshold: 0.22\n",
      "              precision    recall  f1-score   support\n",
      "\n",
      "       False       1.00      0.19      0.31      2614\n",
      "        True       0.30      1.00      0.46       898\n",
      "\n",
      "    accuracy                           0.39      3512\n",
      "   macro avg       0.65      0.59      0.39      3512\n",
      "weighted avg       0.82      0.39      0.35      3512\n",
      "\n",
      "-----------------------------------------\n",
      "Threshold: 0.24\n",
      "              precision    recall  f1-score   support\n",
      "\n",
      "       False       1.00      0.27      0.43      2614\n",
      "        True       0.32      1.00      0.49       898\n",
      "\n",
      "    accuracy                           0.46      3512\n",
      "   macro avg       0.66      0.64      0.46      3512\n",
      "weighted avg       0.83      0.46      0.44      3512\n",
      "\n",
      "-----------------------------------------\n",
      "Threshold: 0.26\n",
      "              precision    recall  f1-score   support\n",
      "\n",
      "       False       1.00      0.71      0.83      2614\n",
      "        True       0.54      0.99      0.70       898\n",
      "\n",
      "    accuracy                           0.78      3512\n",
      "   macro avg       0.77      0.85      0.76      3512\n",
      "weighted avg       0.88      0.78      0.79      3512\n",
      "\n",
      "-----------------------------------------\n",
      "Threshold: 0.27999999999999997\n",
      "              precision    recall  f1-score   support\n",
      "\n",
      "       False       0.99      0.77      0.87      2614\n",
      "        True       0.59      0.98      0.74       898\n",
      "\n",
      "    accuracy                           0.82      3512\n",
      "   macro avg       0.79      0.88      0.80      3512\n",
      "weighted avg       0.89      0.82      0.83      3512\n",
      "\n",
      "-----------------------------------------\n",
      "Threshold: 0.29999999999999993\n",
      "              precision    recall  f1-score   support\n",
      "\n",
      "       False       0.99      0.80      0.89      2614\n",
      "        True       0.63      0.97      0.77       898\n",
      "\n",
      "    accuracy                           0.85      3512\n",
      "   macro avg       0.81      0.89      0.83      3512\n",
      "weighted avg       0.90      0.85      0.86      3512\n",
      "\n",
      "-----------------------------------------\n",
      "Threshold: 0.31999999999999995\n",
      "              precision    recall  f1-score   support\n",
      "\n",
      "       False       0.99      0.82      0.90      2614\n",
      "        True       0.65      0.97      0.78       898\n",
      "\n",
      "    accuracy                           0.86      3512\n",
      "   macro avg       0.82      0.90      0.84      3512\n",
      "weighted avg       0.90      0.86      0.87      3512\n",
      "\n",
      "-----------------------------------------\n",
      "Threshold: 0.33999999999999997\n",
      "              precision    recall  f1-score   support\n",
      "\n",
      "       False       0.99      0.84      0.91      2614\n",
      "        True       0.67      0.96      0.79       898\n",
      "\n",
      "    accuracy                           0.87      3512\n",
      "   macro avg       0.83      0.90      0.85      3512\n",
      "weighted avg       0.90      0.87      0.88      3512\n",
      "\n",
      "-----------------------------------------\n",
      "Threshold: 0.35999999999999993\n",
      "              precision    recall  f1-score   support\n",
      "\n",
      "       False       0.98      0.85      0.91      2614\n",
      "        True       0.69      0.96      0.80       898\n",
      "\n",
      "    accuracy                           0.88      3512\n",
      "   macro avg       0.84      0.90      0.86      3512\n",
      "weighted avg       0.91      0.88      0.88      3512\n",
      "\n",
      "-----------------------------------------\n",
      "Threshold: 0.3799999999999999\n",
      "              precision    recall  f1-score   support\n",
      "\n",
      "       False       0.98      0.86      0.92      2614\n",
      "        True       0.71      0.95      0.81       898\n",
      "\n",
      "    accuracy                           0.89      3512\n",
      "   macro avg       0.84      0.91      0.86      3512\n",
      "weighted avg       0.91      0.89      0.89      3512\n",
      "\n",
      "-----------------------------------------\n",
      "Threshold: 0.3999999999999999\n",
      "              precision    recall  f1-score   support\n",
      "\n",
      "       False       0.98      0.87      0.92      2614\n",
      "        True       0.72      0.95      0.82       898\n",
      "\n",
      "    accuracy                           0.89      3512\n",
      "   macro avg       0.85      0.91      0.87      3512\n",
      "weighted avg       0.91      0.89      0.90      3512\n",
      "\n",
      "-----------------------------------------\n",
      "Threshold: 0.41999999999999993\n",
      "              precision    recall  f1-score   support\n",
      "\n",
      "       False       0.98      0.88      0.93      2614\n",
      "        True       0.74      0.95      0.83       898\n",
      "\n",
      "    accuracy                           0.90      3512\n",
      "   macro avg       0.86      0.92      0.88      3512\n",
      "weighted avg       0.92      0.90      0.90      3512\n",
      "\n",
      "-----------------------------------------\n",
      "Threshold: 0.4399999999999999\n",
      "              precision    recall  f1-score   support\n",
      "\n",
      "       False       0.98      0.89      0.93      2614\n",
      "        True       0.75      0.94      0.83       898\n",
      "\n",
      "    accuracy                           0.90      3512\n",
      "   macro avg       0.86      0.91      0.88      3512\n",
      "weighted avg       0.92      0.90      0.91      3512\n",
      "\n",
      "-----------------------------------------\n",
      "Threshold: 0.4599999999999999\n",
      "              precision    recall  f1-score   support\n",
      "\n",
      "       False       0.98      0.90      0.94      2614\n",
      "        True       0.76      0.94      0.84       898\n",
      "\n",
      "    accuracy                           0.91      3512\n",
      "   macro avg       0.87      0.92      0.89      3512\n",
      "weighted avg       0.92      0.91      0.91      3512\n",
      "\n",
      "-----------------------------------------\n",
      "Threshold: 0.47999999999999987\n",
      "              precision    recall  f1-score   support\n",
      "\n",
      "       False       0.97      0.91      0.94      2614\n",
      "        True       0.77      0.93      0.84       898\n",
      "\n",
      "    accuracy                           0.91      3512\n",
      "   macro avg       0.87      0.92      0.89      3512\n",
      "weighted avg       0.92      0.91      0.91      3512\n",
      "\n",
      "-----------------------------------------\n",
      "Threshold: 0.49999999999999983\n",
      "              precision    recall  f1-score   support\n",
      "\n",
      "       False       0.97      0.92      0.94      2614\n",
      "        True       0.79      0.92      0.85       898\n",
      "\n",
      "    accuracy                           0.92      3512\n",
      "   macro avg       0.88      0.92      0.90      3512\n",
      "weighted avg       0.92      0.92      0.92      3512\n",
      "\n",
      "-----------------------------------------\n",
      "Threshold: 0.5199999999999998\n",
      "              precision    recall  f1-score   support\n",
      "\n",
      "       False       0.97      0.92      0.95      2614\n",
      "        True       0.81      0.92      0.86       898\n",
      "\n",
      "    accuracy                           0.92      3512\n",
      "   macro avg       0.89      0.92      0.90      3512\n",
      "weighted avg       0.93      0.92      0.92      3512\n",
      "\n",
      "-----------------------------------------\n",
      "Threshold: 0.5399999999999998\n",
      "              precision    recall  f1-score   support\n",
      "\n",
      "       False       0.97      0.93      0.95      2614\n",
      "        True       0.82      0.91      0.86       898\n",
      "\n",
      "    accuracy                           0.93      3512\n",
      "   macro avg       0.89      0.92      0.91      3512\n",
      "weighted avg       0.93      0.93      0.93      3512\n",
      "\n",
      "-----------------------------------------\n",
      "Threshold: 0.5599999999999998\n",
      "              precision    recall  f1-score   support\n",
      "\n",
      "       False       0.97      0.94      0.95      2614\n",
      "        True       0.83      0.90      0.86       898\n",
      "\n",
      "    accuracy                           0.93      3512\n",
      "   macro avg       0.90      0.92      0.91      3512\n",
      "weighted avg       0.93      0.93      0.93      3512\n",
      "\n",
      "-----------------------------------------\n",
      "Threshold: 0.5799999999999998\n",
      "              precision    recall  f1-score   support\n",
      "\n",
      "       False       0.96      0.94      0.95      2614\n",
      "        True       0.84      0.89      0.87       898\n",
      "\n",
      "    accuracy                           0.93      3512\n",
      "   macro avg       0.90      0.92      0.91      3512\n",
      "weighted avg       0.93      0.93      0.93      3512\n",
      "\n",
      "-----------------------------------------\n",
      "Threshold: 0.5999999999999999\n",
      "              precision    recall  f1-score   support\n",
      "\n",
      "       False       0.96      0.95      0.95      2614\n",
      "        True       0.85      0.88      0.86       898\n",
      "\n",
      "    accuracy                           0.93      3512\n",
      "   macro avg       0.90      0.91      0.91      3512\n",
      "weighted avg       0.93      0.93      0.93      3512\n",
      "\n",
      "-----------------------------------------\n",
      "Threshold: 0.6199999999999999\n",
      "              precision    recall  f1-score   support\n",
      "\n",
      "       False       0.95      0.95      0.95      2614\n",
      "        True       0.86      0.87      0.86       898\n",
      "\n",
      "    accuracy                           0.93      3512\n",
      "   macro avg       0.91      0.91      0.91      3512\n",
      "weighted avg       0.93      0.93      0.93      3512\n",
      "\n",
      "-----------------------------------------\n",
      "Threshold: 0.6399999999999998\n",
      "              precision    recall  f1-score   support\n",
      "\n",
      "       False       0.95      0.95      0.95      2614\n",
      "        True       0.87      0.85      0.86       898\n",
      "\n",
      "    accuracy                           0.93      3512\n",
      "   macro avg       0.91      0.90      0.90      3512\n",
      "weighted avg       0.93      0.93      0.93      3512\n",
      "\n",
      "-----------------------------------------\n",
      "Threshold: 0.6599999999999997\n",
      "              precision    recall  f1-score   support\n",
      "\n",
      "       False       0.95      0.96      0.95      2614\n",
      "        True       0.87      0.84      0.86       898\n",
      "\n",
      "    accuracy                           0.93      3512\n",
      "   macro avg       0.91      0.90      0.90      3512\n",
      "weighted avg       0.93      0.93      0.93      3512\n",
      "\n",
      "-----------------------------------------\n",
      "Threshold: 0.6799999999999997\n",
      "              precision    recall  f1-score   support\n",
      "\n",
      "       False       0.94      0.96      0.95      2614\n",
      "        True       0.88      0.82      0.85       898\n",
      "\n",
      "    accuracy                           0.93      3512\n",
      "   macro avg       0.91      0.89      0.90      3512\n",
      "weighted avg       0.92      0.93      0.93      3512\n",
      "\n",
      "-----------------------------------------\n",
      "Threshold: 0.6999999999999997\n",
      "              precision    recall  f1-score   support\n",
      "\n",
      "       False       0.93      0.97      0.95      2614\n",
      "        True       0.89      0.80      0.84       898\n",
      "\n",
      "    accuracy                           0.92      3512\n",
      "   macro avg       0.91      0.88      0.90      3512\n",
      "weighted avg       0.92      0.92      0.92      3512\n",
      "\n",
      "-----------------------------------------\n",
      "Threshold: 0.7199999999999998\n",
      "              precision    recall  f1-score   support\n",
      "\n",
      "       False       0.93      0.97      0.95      2614\n",
      "        True       0.90      0.79      0.84       898\n",
      "\n",
      "    accuracy                           0.92      3512\n",
      "   macro avg       0.91      0.88      0.89      3512\n",
      "weighted avg       0.92      0.92      0.92      3512\n",
      "\n",
      "-----------------------------------------\n",
      "Threshold: 0.7399999999999998\n",
      "              precision    recall  f1-score   support\n",
      "\n",
      "       False       0.92      0.98      0.95      2614\n",
      "        True       0.91      0.77      0.83       898\n",
      "\n",
      "    accuracy                           0.92      3512\n",
      "   macro avg       0.92      0.87      0.89      3512\n",
      "weighted avg       0.92      0.92      0.92      3512\n",
      "\n",
      "-----------------------------------------\n",
      "Threshold: 0.7599999999999998\n",
      "              precision    recall  f1-score   support\n",
      "\n",
      "       False       0.92      0.98      0.95      2614\n",
      "        True       0.93      0.75      0.83       898\n",
      "\n",
      "    accuracy                           0.92      3512\n",
      "   macro avg       0.92      0.86      0.89      3512\n",
      "weighted avg       0.92      0.92      0.92      3512\n",
      "\n",
      "-----------------------------------------\n",
      "Threshold: 0.7799999999999998\n",
      "              precision    recall  f1-score   support\n",
      "\n",
      "       False       0.91      0.98      0.95      2614\n",
      "        True       0.94      0.73      0.82       898\n",
      "\n",
      "    accuracy                           0.92      3512\n",
      "   macro avg       0.93      0.86      0.88      3512\n",
      "weighted avg       0.92      0.92      0.92      3512\n",
      "\n",
      "-----------------------------------------\n",
      "Threshold: 0.7999999999999996\n",
      "              precision    recall  f1-score   support\n",
      "\n",
      "       False       0.91      0.99      0.94      2614\n",
      "        True       0.94      0.71      0.81       898\n",
      "\n",
      "    accuracy                           0.91      3512\n",
      "   macro avg       0.92      0.85      0.88      3512\n",
      "weighted avg       0.92      0.91      0.91      3512\n",
      "\n",
      "-----------------------------------------\n",
      "Threshold: 0.8199999999999996\n",
      "              precision    recall  f1-score   support\n",
      "\n",
      "       False       0.90      0.99      0.94      2614\n",
      "        True       0.95      0.69      0.80       898\n",
      "\n",
      "    accuracy                           0.91      3512\n",
      "   macro avg       0.93      0.84      0.87      3512\n",
      "weighted avg       0.91      0.91      0.91      3512\n",
      "\n",
      "-----------------------------------------\n",
      "Threshold: 0.8399999999999996\n",
      "              precision    recall  f1-score   support\n",
      "\n",
      "       False       0.90      0.99      0.94      2614\n",
      "        True       0.96      0.66      0.79       898\n",
      "\n",
      "    accuracy                           0.91      3512\n",
      "   macro avg       0.93      0.83      0.86      3512\n",
      "weighted avg       0.91      0.91      0.90      3512\n",
      "\n",
      "-----------------------------------------\n",
      "Threshold: 0.8599999999999997\n",
      "              precision    recall  f1-score   support\n",
      "\n",
      "       False       0.89      0.99      0.94      2614\n",
      "        True       0.97      0.64      0.77       898\n",
      "\n",
      "    accuracy                           0.90      3512\n",
      "   macro avg       0.93      0.82      0.86      3512\n",
      "weighted avg       0.91      0.90      0.90      3512\n",
      "\n",
      "-----------------------------------------\n",
      "Threshold: 0.8799999999999997\n",
      "              precision    recall  f1-score   support\n",
      "\n",
      "       False       0.88      0.99      0.94      2614\n",
      "        True       0.97      0.62      0.76       898\n",
      "\n",
      "    accuracy                           0.90      3512\n",
      "   macro avg       0.93      0.81      0.85      3512\n",
      "weighted avg       0.91      0.90      0.89      3512\n",
      "\n",
      "-----------------------------------------\n",
      "Threshold: 0.8999999999999997\n",
      "              precision    recall  f1-score   support\n",
      "\n",
      "       False       0.88      1.00      0.93      2614\n",
      "        True       0.98      0.59      0.74       898\n",
      "\n",
      "    accuracy                           0.89      3512\n",
      "   macro avg       0.93      0.79      0.83      3512\n",
      "weighted avg       0.90      0.89      0.88      3512\n",
      "\n",
      "-----------------------------------------\n",
      "Threshold: 0.9199999999999997\n",
      "              precision    recall  f1-score   support\n",
      "\n",
      "       False       0.87      1.00      0.93      2614\n",
      "        True       0.99      0.57      0.72       898\n",
      "\n",
      "    accuracy                           0.89      3512\n",
      "   macro avg       0.93      0.78      0.83      3512\n",
      "weighted avg       0.90      0.89      0.88      3512\n",
      "\n",
      "-----------------------------------------\n",
      "Threshold: 0.9399999999999997\n",
      "              precision    recall  f1-score   support\n",
      "\n",
      "       False       0.86      1.00      0.92      2614\n",
      "        True       0.99      0.53      0.69       898\n",
      "\n",
      "    accuracy                           0.88      3512\n",
      "   macro avg       0.92      0.77      0.81      3512\n",
      "weighted avg       0.89      0.88      0.87      3512\n",
      "\n",
      "-----------------------------------------\n",
      "Threshold: 0.9599999999999995\n",
      "              precision    recall  f1-score   support\n",
      "\n",
      "       False       0.84      1.00      0.92      2614\n",
      "        True       0.99      0.46      0.63       898\n",
      "\n",
      "    accuracy                           0.86      3512\n",
      "   macro avg       0.92      0.73      0.77      3512\n",
      "weighted avg       0.88      0.86      0.84      3512\n",
      "\n",
      "-----------------------------------------\n",
      "Threshold: 0.9799999999999995\n",
      "              precision    recall  f1-score   support\n",
      "\n",
      "       False       0.82      1.00      0.90      2614\n",
      "        True       1.00      0.34      0.51       898\n",
      "\n",
      "    accuracy                           0.83      3512\n",
      "   macro avg       0.91      0.67      0.71      3512\n",
      "weighted avg       0.86      0.83      0.80      3512\n",
      "\n",
      "-----------------------------------------\n"
     ]
    }
   ],
   "source": [
    "def convert_cls_to_score(cls_out):\n",
    "    score = 0\n",
    "    for k, v in cls_out.items():\n",
    "        score += (int(k)-1)/4 * v\n",
    "    return score\n",
    "\n",
    "\n",
    "scores = [convert_cls_to_score(cls_out) for cls_out in outputs]\n",
    "best_thr = 0\n",
    "for thr in np.arange(0.2, 1, 0.02):\n",
    "    print('Threshold:', thr)\n",
    "    preds = [1 if score > thr else 0 for score in scores]\n",
    "    score = f1_score(labels, preds)\n",
    "    best_thr = max(best_thr, score)\n",
    "    print(classification_report(labels, preds))\n",
    "    print('-----------------------------------------')"
   ]
  },
  {
   "cell_type": "code",
   "execution_count": 165,
   "metadata": {},
   "outputs": [],
   "source": [
    "squad_data = load_by_ext(\n",
    "    '/anhvth5/data/chat-data/za_chat/envi_squad_train.json'\n",
    ")"
   ]
  },
  {
   "cell_type": "code",
   "execution_count": 246,
   "metadata": {},
   "outputs": [],
   "source": [
    "from guidance import *\n",
    "squad_data[0]\n",
    "# {'conversations': [{'from': 'user',\n",
    "#    'value': '{\"document\": \"Phạm Văn Đồng | Phạm Văn Đồng (1 tháng 3 năm 1906 – 29 tháng 4 năm 2000) là Thủ tướng đầu tiên của nước Cộng hòa Xã hội chủ nghĩa Việt Nam từ năm 1976 (từ năm 1981 gọi là Chủ tịch Hội đồng Bộ trưởng) cho đến khi nghỉ hưu năm 1987. Trước đó ông từng giữ chức vụ Thủ tướng Chính phủ Việt Nam Dân chủ Cộng hòa từ năm 1955 đến năm 1976. Ông là vị Thủ tướng Việt Nam tại vị lâu nhất (1955–1987). Ông là học trò, cộng sự của Chủ tịch Hồ Chí Minh. Ông có tên gọi thân mật là Tô, đây từng là bí danh của ông. Ông còn có tên gọi là Lâm Bá Kiệt khi làm Phó chủ nhiệm cơ quan Biện sự xứ tại Quế Lâm (Chủ nhiệm là Hồ Học Lãm).\", \"question\": \"<blank>\", \"answer\": \"Lâm Bá Kiệt\", \"language\": \"vi\"}'},\n",
    "#   {'from': 'assistant',\n",
    "#    'value': 'question: Tên gọi nào được Phạm Văn Đồng sử dụng khi làm Phó chủ nhiệm cơ quan Biện sự xứ tại Quế Lâm?'}],\n",
    "#  'system': 'Task: Field in the blank'}\n",
    "\n",
    "def pretty_print(squad_data):\n",
    "    with system():\n",
    "        lm = llm + squad_data.get('system', 'You are a helpful assistant.')\n",
    "    with user():\n",
    "        lm += squad_data['conversations'][0]['value']\n",
    "    with assistant():\n",
    "        lm += squad_data['conversations'][1]['value']\n",
    "    return lm\n",
    "# lm = pretty_print_squad_data(squad_data[0])"
   ]
  },
  {
   "cell_type": "code",
   "execution_count": 194,
   "metadata": {},
   "outputs": [
    {
     "data": {
      "text/plain": [
       "'answer: Tô'"
      ]
     },
     "execution_count": 194,
     "metadata": {},
     "output_type": "execute_result"
    }
   ],
   "source": [
    "data_user = '''{\"document\": \"Phạm Văn Đồng | Phạm Văn Đồng (1 tháng 3 năm 1906 – 29 tháng 4 năm 2000) là Thủ tướng đầu tiên của nước Cộng hòa Xã hội chủ nghĩa Việt Nam từ năm 1976 (từ năm 1981 gọi là Chủ tịch Hội đồng Bộ trưởng) cho đến khi nghỉ hưu năm 1987. Trước đó ông từng giữ chức vụ Thủ tướng Chính phủ Việt Nam Dân chủ Cộng hòa từ năm 1955 đến năm 1976. Ông là vị Thủ tướng Việt Nam tại vị lâu nhất (1955–1987). Ông là học trò, cộng sự của Chủ tịch Hồ Chí Minh. Ông có tên gọi thân mật là Tô, đây từng là bí danh của ông. Ông còn có tên gọi là Lâm Bá Kiệt khi làm Phó chủ nhiệm cơ quan Biện sự xứ tại Quế Lâm (Chủ nhiệm là Hồ Học Lãm).\", \"question\": \"Tên gọi khác của Phạm Văn đồng\", \"answer\": \"<blank>\", \"language\": \"vi\"}'''\n",
    "out = model.chat(tok,data_user, history=[]);\n",
    "out[0]"
   ]
  },
  {
   "cell_type": "code",
   "execution_count": 195,
   "metadata": {},
   "outputs": [],
   "source": [
    "rag = load_by_ext('/anhvth5/data/chat-formated-dataset/tvpl_giaothong_rag_conversation_from_qwen72b.json')"
   ]
  },
  {
   "cell_type": "code",
   "execution_count": 204,
   "metadata": {},
   "outputs": [],
   "source": [
    "output = model.chat(tok, rag[1]['conversations'][0]['value'], history=[])"
   ]
  },
  {
   "cell_type": "code",
   "execution_count": 208,
   "metadata": {},
   "outputs": [
    {
     "name": "stdout",
     "output_type": "stream",
     "text": [
      "Query: 01 Biển số định danh có được cấp cho nhiều xe?\n",
      "Retrieved documents: {\n",
      "  \"138635\": \"Thông tư 24/2023/TT-BCA cấp thu hồi đăng ký biển số xe cơ giới mới nhất\\nChương I |  Điều 3. Nguyên tắc đăng ký xe\\n1. Xe cơ giới có nguồn gốc hợp pháp, bảo đảm tiêu chuẩn chất lượng an toàn kỹ thuật và bảo vệ môi trường thì được đăng ký, cấp một bộ biển số xe theo quy định tại Thông tư này.\\n2. Chủ xe là tổ chức, cá nhân có trụ sở, nơi cư trú (nơi đăng ký thường trú, tạm trú) tại địa phương nào thì đăng ký xe tại cơ quan đăng ký xe thuộc địa phương đó; trừ trường hợp quy định tại khoản 14 Điều 3 Thông tư này .\\n3. Biển số xe được cấp và quản lý theo mã định danh của chủ xe (sau đây gọi là biển số định danh). Biển số định danh là biển số có ký hiệu, seri biển số, kích thước của chữ và số, màu biển số theo quy định tại Thông tư này.\\n4. Đối với chủ xe là công dân Việt Nam thì biển số xe được quản lý theo số định danh cá nhân.\\n5. Đối với chủ xe là người nước ngoài thì biển số xe được quản lý theo số định danh của người nước ngoài do hệ thống định danh và xác thực điện tử xác lập hoặc số thẻ thường trú, số thẻ tạm trú hoặc số chứng minh thư khác do cơ quan có thẩm quyền cấp.\",\n",
      "  \"125506\": \"Thông tư 24/2023/TT-BCA cấp thu hồi đăng ký biển số xe cơ giới mới nhất\\nChương III |  Điều 37. Quy định về biển số xe\\n6. Màu sắc, sêri biển số xe của cơ quan, tổ chức và cá nhân nước ngoài\\na) Biển số nền màu trắng, chữ màu đỏ, số màu đen, có sêri ký hiệu “NG” màu đỏ cấp cho xe của cơ quan đại diện ngoại giao, cơ quan lãnh sự và nhân viên nước ngoài mang chứng minh thư ngoại giao của cơ quan đó. Riêng biển số xe của Đại sứ và Tổng Lãnh sự có thứ tự đăng ký là số 01 và thêm gạch màu đỏ đè ngang lên giữa các nhóm số chỉ quốc tịch và thứ tự đăng ký (biển số 01 được cấp lại khi đăng ký cho xe mới);\",\n",
      "  \"102689\": \"Thông tư 24/2023/TT-BCA cấp thu hồi đăng ký biển số xe cơ giới mới nhất\\nChương II\\nMục 1. ĐĂNG KÝ XE LẦN ĐẦU |  Điều 12. Thủ tục đăng ký xe lần đầu\\n1. Tổ chức, cá nhân đăng ký xe thực hiện quy định tại Điều 9 Thông tư này ; đưa xe đến cơ quan đăng ký xe và nộp các giấy tờ quy định tại Điều 10, Điều 11 Thông tư này .\\n2. Sau khi cán bộ đăng ký xe kiểm tra hồ sơ xe, thực tế xe bảo đảm hợp lệ thì được cấp biển số theo quy định sau:\\na) Cấp biển số mới đối với trường hợp chủ xe chưa được cấp biển số định danh hoặc đã có biển số định danh nhưng đang đăng ký cho xe khác;\\nb) Cấp lại theo số biển số định danh đối với trường hợp biển số định danh đó đã được thu hồi.\\nTrường hợp xe, hồ sơ xe không bảo đảm đúng quy định thì bổ sung, hoàn thiện hồ sơ theo hướng dẫn của cán bộ đăng ký xe tại phiếu hướng dẫn hồ sơ.\\n3. Nhận giấy hẹn trả kết quả, nộp lệ phí đăng ký xe và nhận biển số xe (trường hợp được cấp biển số theo quy định tại điểm a khoản 2 Điều này); trường hợp chủ xe có nhu cầu nhận trả kết quả đăng ký xe qua dịch vụ bưu chính công ích thì đăng ký với đơn vị dịch vụ bưu chính công ích.\",\n",
      "  \"90293\": \"Thông tư 24/2023/TT-BCA cấp thu hồi đăng ký biển số xe cơ giới mới nhất\\nChương III |  Điều 37. Quy định về biển số xe\\n3. Xe ô tô được gắn 02 biển số, 01 biển số kích thước ngắn: Chiều cao 165 mm, chiều dài 330 mm; 01 biển số kích thước dài: Chiều cao 110 mm, chiều dài 520 mm.\\na) Cách bố trí chữ và số trên biển số ô tô của cơ quan, tổ chức, cá nhân trong nước: Hai số đầu là ký hiệu địa phương đăng ký xe, tiếp theo là sêri đăng ký (chữ cái); nhóm số thứ hai là thứ tự xe đăng ký gồm 05 chữ số tự nhiên từ 000.01 đến 999.99;\\nb) Cách bố trí chữ và số trên biển số xe ô tô của cơ quan, tổ chức, cá nhân nước ngoài: Hai số đầu là ký hiệu địa phương đăng ký xe, tiếp theo nhóm thứ hai là ký hiệu tên nước, vùng lãnh thổ, tổ chức quốc tế gồm 03 số tự nhiên và nhóm thứ ba là sêri biển số chỉ nhóm đối tượng là tổ chức, cá nhân nước ngoài, nhóm thứ tư là thứ tự xe đăng ký gồm 02 số tự nhiên từ 01 đến 99;\\nc) Biển số của máy kéo, rơmoóc, sơmi rơmoóc gồm 1 biển gắn phía sau xe, kích thước: Chiều cao 165 mm, chiều dài 330 mm; cách bố trí chữ và số trên biển số như biển số xe ô tô trong nước.\",\n",
      "  \"25263\": \"Thông tư 24/2023/TT-BCA cấp thu hồi đăng ký biển số xe cơ giới mới nhất\\nChương III |  Điều 37. Quy định về biển số xe\\n5. Màu sắc, sêri biển số xe của cơ quan, tổ chức, cá nhân trong nước:\\nb) Biển số xe mô tô nền màu xanh, chữ và số màu trắng, sêri biển số sử dụng lần lượt một trong 11 chữ cái sau đây: A, B, C, D, E, F, G, H, K, L, M kết hợp với 1 chữ số tự nhiên từ 1 đến 9, cấp cho xe của các đối tượng quy định tại điểm a khoản này;\"\n",
      "}\n",
      "Guide:\n",
      "    - Hãy phân tích sau đó đưa ra kết luận về câu hỏi này\n",
      "    - Response language: Vietnamese\n",
      "\n"
     ]
    }
   ],
   "source": [
    "print(rag[1]['conversations'][0]['value'])"
   ]
  },
  {
   "cell_type": "code",
   "execution_count": 211,
   "metadata": {},
   "outputs": [],
   "source": [
    "\n",
    "questions_to_docs = {}\n",
    "for item in qac_test:\n",
    "    question = item['question']\n",
    "    document = '{} | {}'.format(item['title'], item['text'])\n",
    "    if question not in questions_to_docs:\n",
    "        questions_to_docs[question] = []\n",
    "    questions_to_docs[question].append(document)\n",
    "    \n",
    "for query, retrieved_docs in questions_to_docs.items():\n",
    "    template = '''Query: {query}\n",
    "Retrieved documents: {docs}\n",
    "Guide:\n",
    "    - Hãy phân tích sau đó đưa ra kết luận về câu hỏi này\n",
    "    - Response language: Vietnamese'''\n",
    "    retrieved_docs = dict(enumerate(retrieved_docs, 1))\n",
    "    user = template.format(query=query, docs=json.dumps(retrieved_docs, ensure_ascii=False, indent=4))\n",
    "    break"
   ]
  },
  {
   "cell_type": "code",
   "execution_count": 222,
   "metadata": {},
   "outputs": [],
   "source": [
    "squad = load_by_ext('/anhvth5/data/chat-data/za_chat/envi_squad_train.json')"
   ]
  },
  {
   "cell_type": "code",
   "execution_count": 225,
   "metadata": {},
   "outputs": [],
   "source": [
    "nli = load_by_ext('../../data/chat-formated-dataset/nli_to_chat_augmentation.json')"
   ]
  },
  {
   "cell_type": "code",
   "execution_count": 245,
   "metadata": {},
   "outputs": [
    {
     "data": {
      "text/plain": [
       "'{\\n    \"answer\": true\\n}'"
      ]
     },
     "execution_count": 245,
     "metadata": {},
     "output_type": "execute_result"
    }
   ],
   "source": [
    "model.chat(tok, nli[24]['conversations'][0]['value'], history=[])[0]"
   ]
  },
  {
   "cell_type": "code",
   "execution_count": 230,
   "metadata": {},
   "outputs": [],
   "source": [
    "data = load_by_ext('../../data/chat-formated-dataset/nli_to_chat_augmentation.json')"
   ]
  },
  {
   "cell_type": "code",
   "execution_count": 251,
   "metadata": {},
   "outputs": [],
   "source": [
    "# pretty_print(data[27])"
   ]
  },
  {
   "cell_type": "code",
   "execution_count": 253,
   "metadata": {},
   "outputs": [],
   "source": [
    "# x = '''    \"question\": \"Trình độ đào tạo của Chuyên viên cao cấp về quản lý nhân viên hàng không phải đáp ứng các yêu cầu nào?\",\n",
    "#     \"text\": \"Quyết định 777/QĐ-CHK 2023 phê duyệt tạm thời bản mô tả công việc Cục Hàng không Việt Nam |  - Thực hiện các nhiệm vụ được giao khác.\\n- Có bằng tốt nghiệp đại học trở lên một trong các ngành, chuyên ngành: Hệ thống điện, điện tử viễn thông, công nghệ thông tin, tự động hoá, điều khiển tự động, kỹ thuật hàng không, cơ khí, chế tạo máy, xây dựng công trình, quản lý công nghiệp, môi trường, các chuyên ngành về công nghệ\\n- Có bằng tốt nghiệp cao cấp lý luận chính trị hoặc bằng cao cấp lý luận chính trị - hành chính hoặc có giấy xác nhận trình độ lý luận chính trị tương đương cao cấp lý luận chính trị của cơ quan có thẩm quyền.\\n- Đảm bảo các yêu cầu, điều kiện của ngạch chuyên viên cao cấp theo quy định.\\n- Có kỹ năng sử dụng công nghệ thông tin cơ bản.\\n- Có kỹ năng sử dụng ngoại ngữ ở trình độ bậc 3 khung năng lực ngoại ngữ Việt Nam.\\n- Nắm vững chủ trương, đường lối của Đảng, chính sách pháp luật của Nhà nước về chuyên ngành thuộc chức năng, nhiệm vụ của cơ quan.\\n- Có chuyên môn, nghiệp vụ cao nhất trong ngành, lĩnh vực công tác; có hiểu biết về vị trí, vai trò và tác động của nghiệp vụ chuyên ngành.\\n- Có năng lực dự đoán xu hướng và xu thế phát triển ngành, lĩnh vực chuyên môn; có kinh nghiệm tham mưu xử lý các vấn đề về chuyên môn, nghiệp vụ.\",'''\n",
    "# model.chat(tok, f'Please answer the question base on the provided content: {x}', history=[])[0]"
   ]
  },
  {
   "cell_type": "code",
   "execution_count": null,
   "metadata": {},
   "outputs": [],
   "source": []
  }
 ],
 "metadata": {
  "kernelspec": {
   "display_name": "py39",
   "language": "python",
   "name": "python3"
  },
  "language_info": {
   "codemirror_mode": {
    "name": "ipython",
    "version": 3
   },
   "file_extension": ".py",
   "mimetype": "text/x-python",
   "name": "python",
   "nbconvert_exporter": "python",
   "pygments_lexer": "ipython3",
   "version": "3.9.18"
  }
 },
 "nbformat": 4,
 "nbformat_minor": 2
}
