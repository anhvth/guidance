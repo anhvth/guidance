{
 "cells": [
  {
   "cell_type": "code",
   "execution_count": 21,
   "metadata": {},
   "outputs": [
    {
     "name": "stdout",
     "output_type": "stream",
     "text": [
      "/anhvth5\n"
     ]
    }
   ],
   "source": [
    "%cd ..\n",
    "from llm_lora import QwenQACInference, load_model_qwen\n",
    "from speedy import *\n",
    "from sklearn.metrics import classification_report, f1_score\n",
    "from guidance import *\n",
    "\n",
    "def pretty_print(squad_data):\n",
    "    with system():\n",
    "        lm = llm + squad_data.get('system', 'You are a helpful assistant.')\n",
    "    with user():\n",
    "        lm += squad_data['conversations'][0]['value']\n",
    "    with assistant():\n",
    "        lm += squad_data['conversations'][1]['value']\n",
    "    return lm\n",
    "\n",
    "def evaluate(outputs, labels):\n",
    "    best_thr = 0\n",
    "    for thr in np.arange(0.2, .8, 0.05):\n",
    "        preds = [1 if score > thr else 0 for score in outputs]\n",
    "        score = f1_score(labels, preds)\n",
    "        best_thr = max(best_thr, score)\n",
    "        print('F1 score at threshold {} is {}'.format(thr, score))\n",
    "    print('Best F1 score is {}'.format(best_thr))    "
   ]
  },
  {
   "cell_type": "code",
   "execution_count": 22,
   "metadata": {},
   "outputs": [
    {
     "name": "stderr",
     "output_type": "stream",
     "text": [
      "\u001b[32m2024-01-06 11:50:08.093\u001b[0m | \u001b[1mINFO    \u001b[0m | \u001b[36mguidance.models.transformers._qwen\u001b[0m:\u001b[36m__init__\u001b[0m:\u001b[36m47\u001b[0m - \u001b[1mSet tokenizer.eos_token_id = tokenizer.eod_id\u001b[0m\n"
     ]
    },
    {
     "name": "stdout",
     "output_type": "stream",
     "text": [
      "QwenQACInference loaded\n"
     ]
    }
   ],
   "source": [
    "model, tok = load_model_qwen(\n",
    "    '/anhvth5/checkpoint-llm-finetuned/qwen_14B/full_010124/', device_map=0, bf16=True)\n",
    "qac = QwenQACInference(model=model, tokenizer=tok)\n",
    "print('QwenQACInference loaded')\n",
    "llm = models.QwenChat(model, tok)"
   ]
  },
  {
   "cell_type": "code",
   "execution_count": 3,
   "metadata": {},
   "outputs": [
    {
     "name": "stdout",
     "output_type": "stream",
     "text": [
      "Model param dtype: torch.bfloat16\n"
     ]
    }
   ],
   "source": [
    "# check dtype model param, get the first param\n",
    "print('Model param dtype:', next(model.parameters()).dtype)"
   ]
  },
  {
   "cell_type": "code",
   "execution_count": 5,
   "metadata": {},
   "outputs": [],
   "source": [
    "# ls ../../data/chat-formated-dataset/"
   ]
  },
  {
   "cell_type": "code",
   "execution_count": 15,
   "metadata": {},
   "outputs": [],
   "source": [
    "nli_data = load_by_ext(\n",
    "    '../../data/chat-formated-dataset/tvpl_giaothong_rag_nli_vietnamese_train.json')"
   ]
  },
  {
   "cell_type": "code",
   "execution_count": 16,
   "metadata": {},
   "outputs": [
    {
     "data": {
      "text/html": [
       "<pre style='margin: 0px; padding: 0px; vertical-align: middle; padding-left: 8px; margin-left: -8px; border-radius: 0px; border-left: 1px solid rgba(127, 127, 127, 0.2); white-space: pre-wrap; font-family: ColfaxAI, Arial; font-size: 15px; line-height: 23px;'><div style='display: flex; border-bottom: 1px solid rgba(127, 127, 127, 0.2); align-items: center;'><div style='flex: 0 0 80px; opacity: 0.5;'>system</div><div style='flex-grow: 1; padding: 5px; padding-top: 10px; padding-bottom: 10px; margin-top: 0px; white-space: pre-wrap; margin-bottom: 0px;'>You are a helpful assistant.</div></div><div style='display: flex; border-bottom: 1px solid rgba(127, 127, 127, 0.2); align-items: center;'><div style='flex: 0 0 80px; opacity: 0.5;'>user</div><div style='flex-grow: 1; padding: 5px; padding-top: 10px; padding-bottom: 10px; margin-top: 0px; white-space: pre-wrap; margin-bottom: 0px;'>Please determine the relationship between the following premise and hypothesis:\n",
       "Premise: ```Theo quy định, đơn vị kinh doanh vận tải không được sử dụng xe ô tô để kinh doanh vận tải trong thời gian xe ô tô bị cơ quan có thẩm quyền áp dụng hình thức xử phạt tước thu hồi phù hiệu xe. Do đó, trong trường hợp này, bạn không được phép lưu thông xe khi bị thu hồi phù hiệu.\n",
       "```\n",
       "\n",
       "Hypothesis: ```Nghị định 10/2020/NĐ-CP kinh doanh và điều kiện kinh doanh vận tải bằng xe ô tô mới nhất\n",
       "Chương V |  Điều 22. Quy định về quản lý sử dụng, cấp, cấp lại và thu hồi phù hiệu, biển hiệu\n",
       "2. Thời hạn có giá trị của phù hiệu\n",
       "a) Phù hiệu cấp cho xe ô tô kinh doanh vận tải, phù hiệu cấp cho xe trung chuyển có giá trị 07 năm hoặc theo đề nghị của đơn vị kinh doanh vận tải (thời gian đề nghị trong khoảng từ 01 năm đến 07 năm) và không quá niên hạn sử dụng của phương tiện;\n",
       "b) Phù hiệu “XE TUYẾN CỐ ĐỊNH” cấp cho các xe tăng cường giải tỏa hành khách trong các dịp Tết Nguyên đán có giá trị không quá 30 ngày; các dịp Lễ, Tết dương lịch và các kỳ thi trung học phổ thông Quốc gia, tuyển sinh đại học, cao đẳng có giá trị không quá 10 ngày.\n",
       "3. Kích thước tối thiểu của các loại phù hiệu là 9 x 10 cm.```</div></div><div style='display: flex; border-bottom: 1px solid rgba(127, 127, 127, 0.2); align-items: center;'><div style='flex: 0 0 80px; opacity: 0.5;'>assistant</div><div style='flex-grow: 1; padding: 5px; padding-top: 10px; padding-bottom: 10px; margin-top: 0px; white-space: pre-wrap; margin-bottom: 0px;'>Mức độ liên quan (1-5): 3</div></div></pre>"
      ],
      "text/plain": [
       "<guidance.models.transformers._qwen.QwenChat at 0x7fff0241f9d0>"
      ]
     },
     "execution_count": 16,
     "metadata": {},
     "output_type": "execute_result"
    }
   ],
   "source": [
    "\n",
    "# Example:  {'conversations': [{'from': 'user', 'value': 'Please determine the relationship between the following premise and hypothesis:\\nPremise: ```“Đi bão” là hành động rất đông người dân đổ xô ra đường phố cùng nhau ăn mừng chiến thắng, thường xuất hiện trong những sự kiện bóng đá có sự tham gia của các Đội tuyển bóng đá nam Việt Nam. Hoạt động này không có định nghĩa, khái niệm trong các văn bản quy phạm pháp luật. Tuy nhiên, nếu đi bão gây混乱 giao thông, gây tổn hại đến tài sản công hoặc của cá nhân, người tham gia có thể bị xử lý theo quy định của pháp luật.```\\n\\nHypothesis: ```Văn bản hợp nhất 15/VBHN-VPQH 2019 Luật Giao thông đường bộ\\nChương I |  Điều 3. Giải thích từ ngữ\\nTrong Luật này, các từ ngữ dưới đây được hiểu như sau:\\n10. Dải phân cách là bộ phận của đường để phân chia mặt đường thành hai chiều xe chạy riêng biệt hoặc để phân chia phần đường của xe cơ giới và xe thô sơ. Dải phân cách gồm loại cố định và loại di động.\\nTrong Luật này, các từ ngữ dưới đây được hiểu như sau:\\n11. Nơi đường giao nhau cùng mức (sau đây gọi là nơi đường giao nhau) là nơi hai hay nhiều đường bộ gặp nhau trên cùng một mặt phẳng, gồm cả mặt bằng hình thành vị trí giao nhau đó.\\nTrong Luật này, các từ ngữ dưới đây được hiểu như sau:\\n12. Đường cao tốc là đường dành cho xe cơ giới, có dải phân cách chia đường cho xe chạy hai chiều riêng biệt; không giao nhau cùng mức với một hoặc các đường khác; được bố trí đầy đủ trang thiết bị phục vụ, bảo đảm giao thông liên tục, an toàn, rút ngắn thời gian hành trình và chỉ cho xe ra, vào ở những điểm nhất định.\\nTrong Luật này, các từ ngữ dưới đây được hiểu như sau:\\n13. Đường chính là đường bảo đảm giao thông chủ yếu trong khu vực.\\nTrong Luật này, các từ ngữ dưới đây được hiểu như sau:\\n14. Đường nhánh là đường nối vào đường chính.```'}, {'from': 'assistant', 'value': '4. Neutral/Irrelevant'}]}\n",
    "def pretty_print_nli_data(nli_data):\n",
    "    for conv in nli_data['conversations']:\n",
    "        print(conv['from'], '>>>', conv['value'])\n",
    "\n",
    "\n",
    "pretty_print(nli_data[10])"
   ]
  },
  {
   "cell_type": "code",
   "execution_count": 17,
   "metadata": {},
   "outputs": [
    {
     "data": {
      "text/plain": [
       "{'id': 'test_1001p1',\n",
       " 'question': 'Con trai đầu của Ngô Quyền tên gì',\n",
       " 'title': 'Nhà Ngô',\n",
       " 'text': 'Ngô Quyền hạ thành Đại La , giết Công Tiễn rồi bày trận trên sông Bạch Đằng đón quân Nam Hán .',\n",
       " 'label': False}"
      ]
     },
     "execution_count": 17,
     "metadata": {},
     "output_type": "execute_result"
    }
   ],
   "source": [
    "qac_test = load_by_ext('/anhvth5/data/qac-data/za_qac/qac_test.jsonl')\n",
    "qac_test[0]"
   ]
  },
  {
   "cell_type": "markdown",
   "metadata": {},
   "source": [
    "## Forward batches"
   ]
  },
  {
   "cell_type": "code",
   "execution_count": 19,
   "metadata": {},
   "outputs": [
    {
     "name": "stderr",
     "output_type": "stream",
     "text": [
      "100%|██████████| 110/110 [00:37<00:00,  2.91it/s]\n"
     ]
    }
   ],
   "source": [
    "\n",
    "documents = ['{} | {}'.format(item['title'], item['text'])\n",
    "            for item in qac_test]\n",
    "questions = [item['question'] for item in qac_test]\n",
    "outputs = qac.forward(questions, documents,\n",
    "                    template='5level', return_scores=True)\n"
   ]
  },
  {
   "cell_type": "code",
   "execution_count": 24,
   "metadata": {},
   "outputs": [
    {
     "name": "stdout",
     "output_type": "stream",
     "text": [
      "F1 score at threshold 0.2 is 0.4790610829554548\n",
      "F1 score at threshold 0.25 is 0.6556169429097607\n",
      "F1 score at threshold 0.3 is 0.8158878504672898\n",
      "F1 score at threshold 0.35 is 0.8454011741682974\n",
      "F1 score at threshold 0.39999999999999997 is 0.8657921291624621\n",
      "F1 score at threshold 0.44999999999999996 is 0.8736462093862816\n",
      "F1 score at threshold 0.49999999999999994 is 0.8812301166489926\n",
      "F1 score at threshold 0.5499999999999999 is 0.8833423765599565\n",
      "F1 score at threshold 0.5999999999999999 is 0.8845510317902956\n",
      "F1 score at threshold 0.6499999999999999 is 0.8748564867967853\n",
      "F1 score at threshold 0.7 is 0.8684365781710914\n",
      "F1 score at threshold 0.7499999999999998 is 0.8550548112058465\n",
      "F1 score at threshold 0.7999999999999998 is 0.8432229856339787\n",
      "Best F1 score is 0.8845510317902956\n"
     ]
    }
   ],
   "source": [
    "labels = [item['label'] for item in qac_test]\n",
    "evaluate(outputs, labels)"
   ]
  },
  {
   "cell_type": "markdown",
   "metadata": {},
   "source": [
    "# Use NLI as QAC"
   ]
  },
  {
   "cell_type": "code",
   "execution_count": 25,
   "metadata": {},
   "outputs": [],
   "source": [
    "squad_data = load_by_ext(\n",
    "    '/anhvth5/data/chat-data/za_chat/envi_squad_train.json'\n",
    ")"
   ]
  },
  {
   "cell_type": "code",
   "execution_count": 37,
   "metadata": {},
   "outputs": [
    {
     "data": {
      "text/html": [
       "<pre style='margin: 0px; padding: 0px; vertical-align: middle; padding-left: 8px; margin-left: -8px; border-radius: 0px; border-left: 1px solid rgba(127, 127, 127, 0.2); white-space: pre-wrap; font-family: ColfaxAI, Arial; font-size: 15px; line-height: 23px;'><div style='display: flex; border-bottom: 1px solid rgba(127, 127, 127, 0.2); align-items: center;'><div style='flex: 0 0 80px; opacity: 0.5;'>system</div><div style='flex-grow: 1; padding: 5px; padding-top: 10px; padding-bottom: 10px; margin-top: 0px; white-space: pre-wrap; margin-bottom: 0px;'>Task: Field in the blank</div></div><div style='display: flex; border-bottom: 1px solid rgba(127, 127, 127, 0.2); align-items: center;'><div style='flex: 0 0 80px; opacity: 0.5;'>user</div><div style='flex-grow: 1; padding: 5px; padding-top: 10px; padding-bottom: 10px; margin-top: 0px; white-space: pre-wrap; margin-bottom: 0px;'>{&quot;document&quot;: &quot;Thực vật có hoa | Trong phần lớn các hệ thống phân loại, thực vật có hoa được coi là một nhóm cố kết mạch lạc. Tên gọi mang tính miêu tả phổ biến nhất là Angiospermae (Angiospermae), với Anthophyta (\\&quot;thực vật có hoa\\&quot;) là lựa chọn thứ hai. Các tên gọi này không gắn kết cố định với bất kỳ cấp phân loại nào. Hệ thống Wettstein và hệ thống Engler sử dụng tên gọi Angiospermae với cấp bậc được gán là phân ngành. Hệ thống Reveal coi thực vật có hoa như là phân ngành Magnoliophytina, nhưng sau đó tách nó ra thành Magnoliopsida, Liliopsida và Rosopsida. Hệ thống Takhtadjan và hệ thống Cronquist coi nhóm này ở cấp ngành, dẫn tới tên gọi Magnoliophyta (từ tên gọi của họ Magnoliaceae). Hệ thống Dahlgren và hệ thống Thorne (1992) coi nhóm này ở cấp độ lớp, dẫn tới tên gọi Magnoliopsida. Tuy nhiên, hệ thống APG năm 1998 và hệ thống APG II năm 2003, không coi nó như là một đơn vị phân loại chính thức mà coi nó là một nhánh không có tên gọi thực vật học chính thức và sử dụng tên gọi angiosperms cho nhánh này.&quot;, &quot;question&quot;: &quot;&lt;blank&gt;&quot;, &quot;answer&quot;: &quot;Reveal&quot;, &quot;language&quot;: &quot;vi&quot;}</div></div><div style='display: flex; border-bottom: 1px solid rgba(127, 127, 127, 0.2); align-items: center;'><div style='flex: 0 0 80px; opacity: 0.5;'>assistant</div><div style='flex-grow: 1; padding: 5px; padding-top: 10px; padding-bottom: 10px; margin-top: 0px; white-space: pre-wrap; margin-bottom: 0px;'>question: Hệ thống nào đã phân chia thực vật có hoa thành ba nhóm khác nhau như Magnoliopsida, Liliopsida và Rosopsida?</div></div></pre>"
      ],
      "text/plain": [
       "<IPython.core.display.HTML object>"
      ]
     },
     "metadata": {},
     "output_type": "display_data"
    }
   ],
   "source": [
    "lm = pretty_print(squad_data[100])"
   ]
  },
  {
   "cell_type": "code",
   "execution_count": 60,
   "metadata": {},
   "outputs": [
    {
     "name": "stdout",
     "output_type": "stream",
     "text": [
      "Question: <blank\n",
      "Document: Nhà Lê sơ | Thời đại Lê sơ có 10 vị Hoàng đế thuộc 6 thế hệ , đây là thời kỳ các Hoàng đế nhà Lê nắm trọn được quyền hành , cũng là thời kỳ vĩ đại , hoàng kim của chế độ phong kiến Việt Nam . Đời Lê Thái Tổ ( Lê Lợi ) và đặc biệt là đời Lê Thái Tông , xã hội được đi vào ổn định , phát triển thịnh vượng một cách mau chóng sau thời kỳ chiến tranh trước đó .\n",
      ">>> question: Thời gian trị vì của triều đại nhà Hậu Lê là lúc nào ?\n"
     ]
    }
   ],
   "source": [
    "item = qac_test[13]\n",
    "question = item['question']\n",
    "document = '{} | {}'.format(item['title'], item['text'])\n",
    "# answer = item['answer']\n",
    "answer = 'thế kỷ XVI'\n",
    "question = '<blank'\n",
    "print('Question:', question)\n",
    "print('Document:', document)\n",
    "user_data = {\"document\": document, \"question\": question, \"answer\": answer, \"language\": \"vi\"}\n",
    "user_data = json.dumps(user_data, ensure_ascii=False, indent=4 )\n",
    "res = model.chat(tok, user_data, system='Task: Field in the blank', history=[], do_sample=True)[0]\n",
    "print('>>>', res)"
   ]
  },
  {
   "cell_type": "code",
   "execution_count": 107,
   "metadata": {},
   "outputs": [
    {
     "data": {
      "text/plain": [
       "'10'"
      ]
     },
     "execution_count": 107,
     "metadata": {},
     "output_type": "execute_result"
    }
   ],
   "source": [
    "\n",
    "# question = qac.generate_question(item['text'], '10 vị vua')\n",
    "qac.generate_answer(question, item['text'])"
   ]
  },
  {
   "cell_type": "code",
   "execution_count": 126,
   "metadata": {},
   "outputs": [
    {
     "data": {
      "text/plain": [
       "{'input_ids': tensor([[151644,   8948,    198,   2610,    525,    264,  10950,  17847,     13,\n",
       "          151645,    198, 151644,    872,    198,   5501,   8253,    279,   5025,\n",
       "            1948,    279,   2701,  40202,    323,  30078,    510,  41462,   1064,\n",
       "              25,  54275,  14582,     25, 133817,  92430, 128603,    489,  92704,\n",
       "             348, 132540, 128556,  85636,    521, 126303,  14854, 125238, 128882,\n",
       "            7777,   4076, 131491,  63478, 128336, 128283,  69086, 128327,    342,\n",
       "            1103, 128352,     30,    715,  16141,     25,    350,  13874,  19324,\n",
       "              39,  59300,  13189,     25,  54275,     45,    866,  35928, 128333,\n",
       "             220,     15,     20,     14,     17,     15,     16,     22,  20290,\n",
       "           40225,     12,   7123, 129888, 128356, 128556,  85636,    521, 126303,\n",
       "           14854, 125238, 128448, 132601, 128811, 128704, 129838, 128301,    272,\n",
       "          124428, 130027, 129838, 130027, 128324,  12236,   1143,  85375,   7946,\n",
       "             760,    220, 130406,    220,     16,     18,     13, 130390, 128884,\n",
       "          134634, 141840, 128675, 128595,    489,  92704,    348, 132540, 128556,\n",
       "           85636,    521, 126303,  14854, 125238,    198,     18,     13, 131431,\n",
       "          128319, 129122, 129582, 128370,  63478,  53037, 128319, 130554, 128291,\n",
       "          138117, 128281,    220,     15,     17, 128300, 128266, 128289, 130291,\n",
       "           94576, 128300, 128370,  63478, 129122, 129582,     11, 128322,    922,\n",
       "             276,  28776, 133024, 128918, 134634, 141840, 128282, 128846, 128653,\n",
       "          128251, 143281, 128643, 130509, 129122, 129582,    279,     78, 126370,\n",
       "          128333, 128272, 141127, 128333,  96535,     13, 129024, 129122, 129582,\n",
       "          128319, 130554, 128291,  69086, 128327, 129572,  53037, 128459,    220,\n",
       "              16,     15, 128300, 130291,  94576, 128300, 128370,  63478, 129122,\n",
       "          129582,     11, 128322,    922,    276,  28776, 133024, 128918, 134634,\n",
       "          141840, 128282,  28776, 128683, 128450, 134634, 141840, 128675, 128595,\n",
       "             489,  92704,    348, 132540, 128556,  85636,    521, 126303,  14854,\n",
       "          125238,  47742, 130506, 129372, 128424, 128263, 128251, 143281, 129122,\n",
       "          129582, 128475, 130506,  73525, 128457, 128573,    293, 125672, 128311,\n",
       "              26, 128331, 128319,  53037, 134634, 141840, 128282,  28776, 128683,\n",
       "          128450, 129477, 128814,  47742,    308, 124634, 129398, 128356,    653,\n",
       "             624,     19,     13, 134914, 128250, 128556,  85636,    521, 126303,\n",
       "           14854, 125238, 128882,   7777,   4076, 131491,     11, 128322,    922,\n",
       "             276,  28776, 133024, 128918, 128282, 126341, 128502, 134634, 141840,\n",
       "          128675, 128595,    489,  92704,    348, 132540,  69086, 128327, 129572,\n",
       "           53037, 128459,    220,     17,     19, 128626, 130291,  94576, 128327,\n",
       "          128406, 128370,  63478, 129122, 129582, 128319, 130554,     26, 128421,\n",
       "          128250, 128331, 128319, 126370, 128333, 128272, 128406,    264, 130042,\n",
       "             220,     19, 130406,    220,     16,     17, 128291, 128327, 129572,\n",
       "           96535,  53037, 128459,    220,     19,     23, 128626,     13,  73594,\n",
       "          151645,    198, 151644,  77091,    198,     44,  94963, 128368, 128542,\n",
       "             922,    276,    320,     16,     12,     20,   1648,    220]],\n",
       "        device='cuda:0'),\n",
       " 'target_logits': tensor([[ 0.7812,  0.2559, -3.5625,  ..., -5.0000, -5.0000, -5.0000]],\n",
       "        device='cuda:0', dtype=torch.bfloat16),\n",
       " 'scores': [0.6242206022143364]}"
      ]
     },
     "execution_count": 126,
     "metadata": {},
     "output_type": "execute_result"
    }
   ],
   "source": [
    "qac.forward_batch(\n",
    "    ['Việc thông báo trục vớt tài sản chìm đắm gây nguy hiểm được thực hiện trong thời gian nào? '],\n",
    "    ['''Nghị định 05/2017/NĐ-CP xử lý tài sản chìm đắm đường thủy nội địa vùng nước cảng biển vùng biển Việt ...\n",
    "Chương II |  Điều 13. Thủ tục phê duyệt phương án trục vớt tài sản chìm đắm\n",
    "3. Trường hợp hồ sơ nhận được không hợp lệ thì chậm nhất 02 ngày làm việc kể từ ngày nhận được hồ sơ, cơ quan có thẩm quyền phê duyệt phải hướng dẫn người nộp hoàn thiện hồ sơ theo quy định tại Nghị định này. Nếu hồ sơ hợp lệ thì trong thời hạn không quá 10 ngày kể từ ngày nhận được hồ sơ, cơ quan có thẩm quyền phê duyệt phải có văn bản phê duyệt phương án trục vớt tài sản chìm đắm và gửi trực tiếp đến người nộp hồ sơ hoặc gửi qua hệ thống bưu chính; trường hợp không phê duyệt phải có văn bản trả lời và nêu rõ lý do.\n",
    "4. Đối với tài sản chìm đắm gây nguy hiểm, cơ quan có thẩm quyền phải tổ chức phê duyệt phương án trục vớt trong thời hạn không quá 24 giờ kể từ thời điểm nhận được hồ sơ hợp lệ; đối với trường hợp quy định tại điểm a khoản 4 Điều 12 thì thời hạn này không quá 48 giờ.'''],\n",
    "'nli', return_scores=True, expected_answers='Theo Điều 279 Bộ luật Hàng hải Việt Nam 2015, chủ sở hữu tài sản chìm đắm gây nguy hiểm có nghĩa vụ thông báo ngay cho Giám đốc Cảng vụ hàng hải nơi gần nhất biết sự cố xảy ra và phải tiến hành trục vớt tài sản đó trong thời hạn theo quy định của Chính phủ.')"
   ]
  },
  {
   "cell_type": "code",
   "execution_count": 166,
   "metadata": {},
   "outputs": [
    {
     "data": {
      "text/html": [
       "<pre style='margin: 0px; padding: 0px; vertical-align: middle; padding-left: 8px; margin-left: -8px; border-radius: 0px; border-left: 1px solid rgba(127, 127, 127, 0.2); white-space: pre-wrap; font-family: ColfaxAI, Arial; font-size: 15px; line-height: 23px;'><div style='display: flex; border-bottom: 1px solid rgba(127, 127, 127, 0.2); align-items: center;'><div style='flex: 0 0 80px; opacity: 0.5;'>system</div><div style='flex-grow: 1; padding: 5px; padding-top: 10px; padding-bottom: 10px; margin-top: 0px; white-space: pre-wrap; margin-bottom: 0px;'>You are a helpful assistant.</div></div><div style='display: flex; border-bottom: 1px solid rgba(127, 127, 127, 0.2); align-items: center;'><div style='flex: 0 0 80px; opacity: 0.5;'>user</div><div style='flex-grow: 1; padding: 5px; padding-top: 10px; padding-bottom: 10px; margin-top: 0px; white-space: pre-wrap; margin-bottom: 0px;'>Please determine the relationship between the following premise and hypothesis:\n",
       "Premise: ```Question: Thi nâng hạng giấy phép lái xe cần đáp ứng những điều kiện gì? \n",
       "Answer: Điều kiện để thi nâng hạng giấy phép lái xe bao gồm: là công dân Việt Nam hoặc người nước ngoài được phép cư trú hoặc đang làm việc, học tập tại Việt Nam, đủ tuổi, sức khỏe, trình độ văn hóa theo quy định, và đủ thời gian lái xe hoặc hành nghề và số km lái xe an toàn theo quy định.\n",
       "```\n",
       "\n",
       "Hypothesis: ```Luật giao thông đường bộ 2008 23/2008/QH12 mới nhất\n",
       "CHƯƠNG V |  Điều 61. Đào tạo lái xe, sát hạch để cấp giấy phép lái xe\n",
       "4. Việc đào tạo để nâng hạng giấy phép lái xe thực hiện cho những trường hợp sau đây:\n",
       "a) Nâng hạng giấy phép lái xe từ hạng B1 lên hạng B2;\n",
       "b) Nâng hạng giấy phép lái xe từ hạng B2 lên hạng C hoặc lên hạng D;\n",
       "c) Nâng hạng giấy phép lái xe từ hạng C lên hạng D hoặc lên hạng E;\n",
       "d) Nâng hạng giấy phép lái xe từ hạng D lên hạng E;\n",
       "đ) Nâng hạng giấy phép lái xe từ các hạng B2, C, D, E lên các hạng giấy phép lái các xe tương ứng có kéo rơ moóc, sơ mi rơ moóc.\n",
       "5 . Người có nhu cầu được đào tạo nâng hạng giấy phép lái xe theo quy định tại khoản 4 Điều này còn phải có đủ thời gian và số ki-lô-mét lái xe an toàn quy định cho từng hạng giấy phép lái xe; người có nhu cầu được đào tạo nâng hạng giấy phép lái xe lên hạng D, E tối thiểu phải có trình độ văn hóa trung học cơ sở.\n",
       "6. Việc đào tạo lái xe ô tô chở người từ 10 chỗ ngồi trở lên và lái xe kéo rơ moóc chỉ được thực hiện bằng hình thức đào tạo nâng hạng với các điều kiện quy định tại khoản 4 và khoản 5 Điều này.```</div></div><div style='display: flex; border-bottom: 1px solid rgba(127, 127, 127, 0.2); align-items: center;'><div style='flex: 0 0 80px; opacity: 0.5;'>assistant</div><div style='flex-grow: 1; padding: 5px; padding-top: 10px; padding-bottom: 10px; margin-top: 0px; white-space: pre-wrap; margin-bottom: 0px;'>Mức độ liên quan (1-5): 5</div></div></pre>"
      ],
      "text/plain": [
       "<guidance.models.transformers._qwen.QwenChat at 0x7ffb59a49e20>"
      ]
     },
     "execution_count": 166,
     "metadata": {},
     "output_type": "execute_result"
    }
   ],
   "source": [
    "pretty_print(nli_data[32])"
   ]
  },
  {
   "cell_type": "code",
   "execution_count": 144,
   "metadata": {},
   "outputs": [
    {
     "data": {
      "text/plain": [
       "{'query_type': 'tra_cuu_quy_dinh',\n",
       " 'violation': 'có ma túy trong cơ thể',\n",
       " 'object': 'khong_ro',\n",
       " 'specific_inquiry': 'điều kiện để lái xe ô tô khi có ma túy trong cơ thể'}"
      ]
     },
     "execution_count": 144,
     "metadata": {},
     "output_type": "execute_result"
    }
   ],
   "source": [
    "eval(qac.query_parsing('trong cơ thể có ma tuý có được đi ô tô'))"
   ]
  },
  {
   "cell_type": "code",
   "execution_count": null,
   "metadata": {},
   "outputs": [],
   "source": []
  }
 ],
 "metadata": {
  "kernelspec": {
   "display_name": "py39",
   "language": "python",
   "name": "python3"
  },
  "language_info": {
   "codemirror_mode": {
    "name": "ipython",
    "version": 3
   },
   "file_extension": ".py",
   "mimetype": "text/x-python",
   "name": "python",
   "nbconvert_exporter": "python",
   "pygments_lexer": "ipython3",
   "version": "3.9.18"
  }
 },
 "nbformat": 4,
 "nbformat_minor": 2
}
