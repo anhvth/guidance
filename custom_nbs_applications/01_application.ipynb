{
 "cells": [
  {
   "cell_type": "code",
   "execution_count": 1,
   "metadata": {},
   "outputs": [],
   "source": [
    "# %%bash\n",
    "import os\n",
    "os.environ['http_proxy'] = 'http://localhost:8081'\n",
    "os.environ['https_proxy'] = 'http://localhost:8081'\n",
    "os.environ['NCCL_P2P_DISABLE'] = '1'\n",
    "os.environ['CUDA_VISIBLE_DEVICES'] = '0,3'"
   ]
  },
  {
   "cell_type": "code",
   "execution_count": 2,
   "metadata": {},
   "outputs": [
    {
     "name": "stdout",
     "output_type": "stream",
     "text": [
      "/mnt/nfs-data/users/anhvth5/projects/guidance\n"
     ]
    }
   ],
   "source": [
    "%cd '/mnt/nfs-data/users/anhvth5/projects/guidance/'"
   ]
  },
  {
   "cell_type": "code",
   "execution_count": 3,
   "metadata": {},
   "outputs": [],
   "source": [
    "from speedy import *\n",
    "from guidance import *"
   ]
  },
  {
   "cell_type": "code",
   "execution_count": 22,
   "metadata": {},
   "outputs": [
    {
     "name": "stderr",
     "output_type": "stream",
     "text": [
      "\u001b[32m2023-12-30 04:31:12.414\u001b[0m | \u001b[1mINFO    \u001b[0m | \u001b[36mspeedy.utils\u001b[0m:\u001b[36mmulti_process\u001b[0m:\u001b[36m261\u001b[0m - \u001b[1mMulti processing load_by_ext | Num samples: 6788\u001b[0m\n"
     ]
    },
    {
     "data": {
      "application/vnd.jupyter.widget-view+json": {
       "model_id": "699c74189e72459e8fe03b882b2e6203",
       "version_major": 2,
       "version_minor": 0
      },
      "text/plain": [
       "  0%|          | 0/6788 [00:00<?, ?it/s]"
      ]
     },
     "metadata": {},
     "output_type": "display_data"
    }
   ],
   "source": [
    "data = load_by_ext('../tvpl_crawler/data/tvpl_qa_short_answer_giaothong/qa_short_answer/*')\n",
    "questions = []\n",
    "for qa in data:\n",
    "    questions.extend(qa['questions'])"
   ]
  },
  {
   "cell_type": "code",
   "execution_count": 48,
   "metadata": {},
   "outputs": [
    {
     "name": "stderr",
     "output_type": "stream",
     "text": [
      "\u001b[32m2023-12-30 04:52:05.778\u001b[0m | \u001b[1mINFO    \u001b[0m | \u001b[36mguidance.models.transformers._qwen\u001b[0m:\u001b[36mget_qwen_guidance\u001b[0m:\u001b[36m238\u001b[0m - \u001b[1mLoad Qwen from \"/public-llm/Qwen-72B-Chat-Int4/\" with device_map \"0\"\u001b[0m\n"
     ]
    },
    {
     "name": "stderr",
     "output_type": "stream",
     "text": [
      "\u001b[32m2023-12-30 04:52:06.173\u001b[0m | \u001b[1mINFO    \u001b[0m | \u001b[36mguidance.models.transformers._qwen\u001b[0m:\u001b[36m__init__\u001b[0m:\u001b[36m47\u001b[0m - \u001b[1mSet tokenizer.eos_token_id = tokenizer.eod_id\u001b[0m\n"
     ]
    },
    {
     "name": "stdout",
     "output_type": "stream",
     "text": [
      "len(tokenizer)=151851\n"
     ]
    }
   ],
   "source": [
    "qwen = models.get_qwen_guidance(device_map=0, do_update_lm_head=True)"
   ]
  },
  {
   "cell_type": "code",
   "execution_count": 33,
   "metadata": {},
   "outputs": [],
   "source": [
    "import requests\n",
    "\n",
    "def search(query, k=3, port=19001):\n",
    "    url = f\"http://localhost:{port}/api/search\"\n",
    "    params = {\n",
    "        \"query\": query,\n",
    "        \"return_dict\": \"true\",\n",
    "        'k': k\n",
    "    }\n",
    "    response = requests.get(url, params=params, proxies={'http':'', 'https':''})\n",
    "    topk = response.json()['topk']\n",
    "    print(topk[0].keys())\n",
    "    docid_to_text = {t['pid']:f'{t[\"title\"]}| {t[\"text\"]}' for t in topk}\n",
    "    return docid_to_text\n"
   ]
  },
  {
   "cell_type": "code",
   "execution_count": 35,
   "metadata": {},
   "outputs": [],
   "source": [
    "# from IPython.display import clear_output\n",
    "\n",
    "# query = 'Thủ tục đăng ký biển số xe máy mới nhất'\n",
    "# search_results = search(query, k=3)\n",
    "# doc_ids = list(search_results.keys())\n",
    "\n",
    "# with system():\n",
    "#     lm = qwen + 'You are now tasked to answer user questions based on the retrieved documents\\nResponse language: Vietnamese'\n",
    "\n",
    "# with user():\n",
    "#     lm += '''Query: {}\n",
    "#     Retrieved documents: {}\n",
    "    \n",
    "#     - Hãy trả về danh sách tài liệu liên quan nhất cho câu hỏi này\n",
    "#     - Danh sách các tài liệu cần có thứ tự ưu tiên với tài liệu có độ liên quan cao nhất ở vị trí đầu tiên\n",
    "#     - Fomat: [id1, id2...]\n",
    "#     - Nếu không có hãy trả về []\n",
    "#     '''.format(query,json.dumps(search_results, indent=4, ensure_ascii=False))\n",
    "    \n",
    "# with assistant():\n",
    "#     lm += f'Câu hỏi: {query}'\n",
    "#     lm += f'\\nDanh sách các tài liệu liên quan: ['+gen(max_tokens=10000, name='relevant_docs', stop=']')+']'\n",
    "    \n",
    "# import json\n",
    "# relevant_docs = {id:search_results[id] for id in eval('['+lm['relevant_docs']+']')}"
   ]
  },
  {
   "cell_type": "code",
   "execution_count": 77,
   "metadata": {},
   "outputs": [
    {
     "data": {
      "text/plain": [
       "'<|im_start|>system\\nYou are now tasked to answer user questions based on the retrieved documents\\nResponse language: Vietnamese<|im_end|>\\n<|im_start|>user\\nQuery: Mẫu sổ theo dõi trong xử phạt vi phạm hành chính ngành giao thông vận tải là những mẫu nào?\\nRetrieved documents: {\\n  \"105499\": \"Thông tư 30/2022/TT-BGTVT biểu mẫu xử phạt vi phạm hành chính ngành Giao thông vận tải mới nhất |  Sổ theo dõi biểu mẫu xử phạt vi phạm hành chính trong lĩnh vực giao thông vận tải\\\\n2\\\\nMS02\\\\nSổ theo dõi xử phạt vi phạm hành chính\\\\n3\\\\nMS03\\\\nSổ theo dõi tạm giữ, giữ, trả lại tang vật, phương tiện, giấy phép, chứng chỉ hành nghề bị tạm giữ, giữ\\\\n\\\\nMẫu sổ 01\\\\nSỔ THEO DÕI BIỂU MẪU XỬ PHẠT VI PHẠM HÀNH CHÍNH TRONG NGÀNH GIAO THÔNG VẬN TẢI (*)\\\\nTT\\\\nNhập biểu mẫu\\\\nCấp phát biểu mẫu\\\\nTheo dõi sử dụng biểu mẫu\\\\nNgày nhập\\\\nSố lượng quyển\\\\nSố lượng tờ/số seri\\\\nKý nhận (ký, ghi rõ họ tên người nhận)\\\\nNgày cấp\\\\nSố lượng quyển\\\\nSố lượng tờ/số seri\\\\nĐơn vị (đội, bộ phận) nhận\\\\nKý nhận (ký, ghi rõ họ tên người nhận)\\\\nSố lượng quyển/số lượng tờ/số seri đã sử dụng\\\\nSố lượng quyển/số lượng tờ/số seri chưa sử dụng\\\\nSố lượng tờ/số seri hỏng\\\\nNguyên nhân hỏng\\\\n(1)\\\\n(2)\\\\n(3)\\\\n(4)\\\\n(5)\\\\n(6)\\\\n(7)\\\\n(8)\\\\n(9)\\\\n(10)\\\\n(11)\\\\n(12)\\\\n(13)\\\\n(14)\\\\n1\\\\n\\\\n\\\\n\\\\n\\\\n\\\\n\\\\n\\\\n\\\\n\\\\n\\\\n\\\\n\\\\n\\\\n2\\\\n\\\\n\\\\n\\\\n\\\\n\\\\n\\\\n\\\\n\\\\n\\\\n\\\\n\\\\n\\\\n\\\\n…\\\\n\\\\n\\\\n\\\\n\\\\n\\\\n\\\\n\\\\n\\\\n\\\\n\\\\n\\\\n\\\\n\\\\nGhi chú:\",\\n  \"141832\": \"Thông tư 30/2022/TT-BGTVT biểu mẫu xử phạt vi phạm hành chính ngành Giao thông vận tải mới nhất |  2\\\\nMBB02\\\\nBiên bản trả lại giấy phép, chứng chỉ hành nghề bị giữ\\\\n\\\\nMẫu biên bản số 01\\\\nCƠ QUAN (1) -------\\\\nCỘNG HÒA XÃ HỘI CHỦ NGHĨA VIỆT NAM Độc lập - Tự do - Hạnh phúc ---------------\\\\nSố: ....../BB-KNBBVPHC\\\\n\\\\n\\\\nBIÊN BẢN\\\\nVề việc không nhận biên bản vi phạm hành chính*\\\\nHôm nay, hồi…... giờ ...... phút, ngày ..……/……/……., tại (2) ...............................................................................................................................................\\\\nChúng tôi gồm:\\\\n2. Các cơ quan, đơn vị có thể bổ sung thêm nội dung theo quy chế quản lý nội bộ của cơ quan, đơn vị.\\\\n\\\\nMẫu sổ 02\\\\nSỔ THEO DÕI XỬ PHẠT VI PHẠM HÀNH CHÍNH\\\\nTT\\\\nBiên bản vi phạm hành chính\\\\nQuyết định xử phạt vi phạm hành chính\\\\nTheo dõi kết quả thực hiện\\\\nGhi chú\\\\nSố; ngày ban hành biên bản\\\\nHọ tên, chức vụ người lập biên bản\\\\nTên tổ chức/cá nhân vi phạm\\\\nHành vi vi phạm\\\\nSố; ngày ban hành quyết định\\\\nHọ tên, chức vụ người ra quyết định\\\\nHình thức xử phạt\\\\nPhạt tiền\\\\nPhạt bổ sung\\\\nKhắc phục hậu quả\\\\nVăn bản QPPL áp dụng để xử phạt\\\\nSố tiền\\\\nTước quyền sử dụng GP, CCHN\\\\nBiện pháp khắc phục hậu quả\\\\n(1)\\\\n(2)\\\\n(3)\\\\n(4)\\\\n(5)\\\\n(6)\\\\n(7)\\\\n(8)\\\\n(9)\\\\n(10)\\\\n(11)\\\\n(12)\\\\n(13)\\\\n(14)\\\\n(15)\\\\n\\\\n\\\\n\\\\n\\\\n\\\\n\\\\n\\\\n\\\\n\\\\n\\\\n\\\\n\\\\n\\\\n\\\\n\\\\nGhi chú:\\\\nCột (5): Ghi rõ từng hành vi vi phạm ghi trong biên bản vi phạm hành chính;\",\\n  \"135672\": \"Thông tư 30/2022/TT-BGTVT biểu mẫu xử phạt vi phạm hành chính ngành Giao thông vận tải mới nhất |  (15)\\\\nGhi chú:\\\\nCột (5): Ghi rõ từng hành vi vi phạm ghi trong biên bản vi phạm hành chính;\\\\nCột (8): Ghi rõ điểm, khoản, điều và tên văn bản quy phạm pháp luật áp dụng để xử phạt (ví dụ: điểm a khoản 1 Điều 24 NĐ100);\\\\nCột (10): Ghi rõ thời gian tước và loại giấy phép, chứng chỉ hành nghề bị tước (ví dụ: Tước quyền sử dụng GPLX 02 tháng);\\\\nCột (12), (13), (14): Đánh dấu (x) đối với trường hợp đối tượng vi phạm đã thực hiện xong;\\\\nCác cơ quan, đơn vị có thể bổ sung thêm nội dung theo quy chế quản lý nội bộ của cơ quan, đơn vị.\\\\n\\\\nMẫu sổ 03\\\\nSỔ THEO DÕI TẠM GIỮ, GIỮ, TRẢ LẠI TANG VẬT, PHƯƠNG TIỆN, GIẤY PHÉP, CHỨNG CHỈ HÀNH NGHỀ BỊ TẠM GIỮ, GIỮ\\\\nTT\\\\nTạm giữ, giữ tang vật, phương tiện, giấy phép, chứng chỉ hành nghề\\\\nTrả lại tang vật, phương tiện, giấy phép, chứng chỉ hành nghề bị tạm giữ, giữ\\\\nGhi chú\\\\nSố; ngày ban hành biên bản tạm giữ, giữ\\\\nTên, chức vụ người ký biên bản tạm giữ, giữ\\\\nLoại tang vật, phương tiện, giấy phép, chứng chỉ hành nghề bị tạm giữ, giữ\\\\nSố; ngày tháng ban hành quyết định tạm giữ\\\\nTên, chức vụ người ký quyết định tạm giữ\\\\nTên tổ chức/cá nhân vi phạm\\\\nThời hạn tạm giữ, giữ\\\\nLý do tạm giữ, giữ\",\\n  \"100466\": \"Thông tư 30/2022/TT-BGTVT biểu mẫu xử phạt vi phạm hành chính ngành Giao thông vận tải mới nhất |  Điều 5. Hiệu lực thi hành\\\\n2. Thông tư này bãi bỏ:\\\\nđ) Cụm từ “Sổ theo dõi xử lý vi phạm hành chính theo Mẫu số 2 quy định tại Phụ lục IV của Thông tư này” tại khoản 2 Điều 27 và Mẫu số 2 Phụ lục IV ban hành kèm theo Thông tư số 02/2014/TT-BGTVT ngày 25 tháng 02 năm 2014 của Bộ trưởng Bộ Giao thông vận tải quy định quy trình thanh chuyên ngành, xử phạt vi phạm hành chính; công tác lập kế hoạch, chế độ báo cáo và quản lý nội bộ của thanh tra ngành Giao thông vận tải (sau đây gọi là Thông tư số 02/2014/TT-BGTVT );\",\\n  \"16654\": \"Thông tư 30/2022/TT-BGTVT biểu mẫu xử phạt vi phạm hành chính ngành Giao thông vận tải mới nhất |  2\\\\nMBB02\\\\nBiên bản trả lại giấy phép, chứng chỉ hành nghề bị giữ\\\\n\\\\nMẫu biên bản số 01\\\\nCƠ QUAN (1) -------\\\\nCỘNG HÒA XÃ HỘI CHỦ NGHĨA VIỆT NAM Độc lập - Tự do - Hạnh phúc ---------------\\\\nSố: ....../BB-KNBBVPHC\\\\n\\\\n\\\\nBIÊN BẢN\\\\nVề việc không nhận biên bản vi phạm hành chính*\\\\nHôm nay, hồi…... giờ ...... phút, ngày ..……/……/……., tại (2) ...............................................................................................................................................\\\\nChúng tôi gồm:\\\\n1. (*): Ghi là biên bản vi phạm hành chính nếu là Sổ quản lý, theo dõi biểu mẫu biên bản vi phạm hành chính; quyết định xử phạt vi phạm hành chính nếu là Sổ quản lý, theo dõi biểu mẫu quyết định xử phạt vi phạm hành chính.\\\\n- Cột (4) và cột (8): Ghi số lượng tờ và liệt kê theo số seri. Ví dụ: 100 tờ, có số seri từ 00001 đến 00100; 100 tờ, có số seri từ 00001 đến 00050 và từ 00101 đến 00150.\\\\n- Cột (5): Người nhập/quản lý biểu mẫu của đơn vị ký xác nhận.\\\\n- Cột (11) và cột (12): Ghi số lượng quyển, số lượng tờ và liệt kê theo số seri. Ví dụ: 02 quyển, 100 tờ, có số seri từ 00001 đến 00100; 02 quyển, 100 tờ, có số seri từ 00001 đến 00050 và từ 00101 đến 00150.\\\\n- Cột (13): Ghi số lượng tờ và chi tiết theo số seri. Ví dụ: 03 tờ, gồm các seri 00001, 00035, 00070.\"\\n}\\nGuide:\\n    - Hãy phân tích sau đó đưa ra kết luận về câu hỏi này\\n    - \\n    - Response language: Vietnamese\\n<|im_end|>\\n<|im_start|>assistant\\n**Câu hỏi** Mẫu sổ theo dõi trong xử phạt vi phạm hành chính ngành giao thông vận tải là những mẫu nào?\\n\\n**Suy luận** Dựa trên tài liệu được cung cấp, có ba mẫu sổ theo dõi được đề cập đến trong xử phạt vi phạm hành chính ngành giao thông vận tải:\\n\\n1. Mẫu sổ 01: Sổ theo dõi xử phạt vi phạm hành chính\\n2. Mẫu sổ 02: Sổ theo dõi xử phạt vi phạm hành chính\\n3. Mẫu sổ 03: Sổ theo dõi tạm giữ, giữ, trả lại tang vật, phương tiện, giấy phép, chứng chỉ hành nghề bị tạm giữ, giữ\\n\\n\\n\\n**Kết luận** Mẫu sổ theo dõi trong xử phạt vi phạm hành chính ngành giao thông vận tải bao gồm ba mẫu: Sổ theo dõi xử phạt vi phạm hành chính (MS01 và MS02) và Sổ theo dõi tạm giữ, giữ, trả lại tang vật, phương tiện, giấy phép, chứng chỉ hành nghề bị tạm giữ, giữ (MS03).'"
      ]
     },
     "execution_count": 77,
     "metadata": {},
     "output_type": "execute_result"
    }
   ],
   "source": []
  },
  {
   "cell_type": "code",
   "execution_count": 42,
   "metadata": {},
   "outputs": [],
   "source": [
    "import guidance\n",
    "\n",
    "\n",
    "@guidance\n",
    "def giaothong_rag(lm, query, gt_answer=None, k=None, db='qa'):\n",
    "    port = 19003 if db == 'qa' else 19001\n",
    "    if k is None:\n",
    "        k = 3 if db == 'qa' else 5\n",
    "    relevant_docs = search(query, k=k, port=port)\n",
    "\n",
    "    with system():\n",
    "        lm = (\n",
    "            lm\n",
    "            + \"You are now tasked to answer user questions based on the retrieved documents\\nResponse language: Vietnamese\"\n",
    "        )\n",
    "\n",
    "    with user():\n",
    "        lm += \"\"\"Query: {}\n",
    "        Retrieved documents: {}\n",
    "        Guide:\n",
    "            - Hãy phân tích sau đó đưa ra kết luận về câu hỏi này\n",
    "            - \n",
    "            - Response language: Vietnamese\n",
    "        \"\"\".format(\n",
    "            query, json.dumps(relevant_docs, ensure_ascii=False, indent=2)\n",
    "        )\n",
    "\n",
    "    with assistant():\n",
    "        lm += f\"**Câu hỏi** {query}\"\n",
    "        lm += \"\\n\\n**Suy luận**\" + gen(max_tokens=2000, name='reasoning',stop=\"**\")\n",
    "        lm += \"\\n\\n**Kết luận**\" + gen(\n",
    "            max_tokens=2000, name=\"conclusion\", stop=\"<|im_end|>\"\n",
    "        )\n",
    "    return lm"
   ]
  },
  {
   "cell_type": "code",
   "execution_count": 73,
   "metadata": {},
   "outputs": [
    {
     "data": {
      "text/html": [
       "<pre style='margin: 0px; padding: 0px; vertical-align: middle; padding-left: 8px; margin-left: -8px; border-radius: 0px; border-left: 1px solid rgba(127, 127, 127, 0.2); white-space: pre-wrap; font-family: ColfaxAI, Arial; font-size: 15px; line-height: 23px;'><div style='display: flex; border-bottom: 1px solid rgba(127, 127, 127, 0.2); align-items: center;'><div style='flex: 0 0 80px; opacity: 0.5;'>system</div><div style='flex-grow: 1; padding: 5px; padding-top: 10px; padding-bottom: 10px; margin-top: 0px; white-space: pre-wrap; margin-bottom: 0px;'>You are now tasked to answer user questions based on the retrieved documents\n",
       "Response language: Vietnamese</div></div><div style='display: flex; border-bottom: 1px solid rgba(127, 127, 127, 0.2); align-items: center;'><div style='flex: 0 0 80px; opacity: 0.5;'>user</div><div style='flex-grow: 1; padding: 5px; padding-top: 10px; padding-bottom: 10px; margin-top: 0px; white-space: pre-wrap; margin-bottom: 0px;'>Query: Mẫu sổ theo dõi trong xử phạt vi phạm hành chính ngành giao thông vận tải là những mẫu nào?\n",
       "Retrieved documents: {\n",
       "  &quot;105499&quot;: &quot;Thông tư 30/2022/TT-BGTVT biểu mẫu xử phạt vi phạm hành chính ngành Giao thông vận tải mới nhất |  Sổ theo dõi biểu mẫu xử phạt vi phạm hành chính trong lĩnh vực giao thông vận tải\\n2\\nMS02\\nSổ theo dõi xử phạt vi phạm hành chính\\n3\\nMS03\\nSổ theo dõi tạm giữ, giữ, trả lại tang vật, phương tiện, giấy phép, chứng chỉ hành nghề bị tạm giữ, giữ\\n\\nMẫu sổ 01\\nSỔ THEO DÕI BIỂU MẪU XỬ PHẠT VI PHẠM HÀNH CHÍNH TRONG NGÀNH GIAO THÔNG VẬN TẢI (*)\\nTT\\nNhập biểu mẫu\\nCấp phát biểu mẫu\\nTheo dõi sử dụng biểu mẫu\\nNgày nhập\\nSố lượng quyển\\nSố lượng tờ/số seri\\nKý nhận (ký, ghi rõ họ tên người nhận)\\nNgày cấp\\nSố lượng quyển\\nSố lượng tờ/số seri\\nĐơn vị (đội, bộ phận) nhận\\nKý nhận (ký, ghi rõ họ tên người nhận)\\nSố lượng quyển/số lượng tờ/số seri đã sử dụng\\nSố lượng quyển/số lượng tờ/số seri chưa sử dụng\\nSố lượng tờ/số seri hỏng\\nNguyên nhân hỏng\\n(1)\\n(2)\\n(3)\\n(4)\\n(5)\\n(6)\\n(7)\\n(8)\\n(9)\\n(10)\\n(11)\\n(12)\\n(13)\\n(14)\\n1\\n\\n\\n\\n\\n\\n\\n\\n\\n\\n\\n\\n\\n\\n2\\n\\n\\n\\n\\n\\n\\n\\n\\n\\n\\n\\n\\n\\n…\\n\\n\\n\\n\\n\\n\\n\\n\\n\\n\\n\\n\\n\\nGhi chú:&quot;,\n",
       "  &quot;141832&quot;: &quot;Thông tư 30/2022/TT-BGTVT biểu mẫu xử phạt vi phạm hành chính ngành Giao thông vận tải mới nhất |  2\\nMBB02\\nBiên bản trả lại giấy phép, chứng chỉ hành nghề bị giữ\\n\\nMẫu biên bản số 01\\nCƠ QUAN (1) -------\\nCỘNG HÒA XÃ HỘI CHỦ NGHĨA VIỆT NAM Độc lập - Tự do - Hạnh phúc ---------------\\nSố: ....../BB-KNBBVPHC\\n\\n\\nBIÊN BẢN\\nVề việc không nhận biên bản vi phạm hành chính*\\nHôm nay, hồi…... giờ ...... phút, ngày ..……/……/……., tại (2) ...............................................................................................................................................\\nChúng tôi gồm:\\n2. Các cơ quan, đơn vị có thể bổ sung thêm nội dung theo quy chế quản lý nội bộ của cơ quan, đơn vị.\\n\\nMẫu sổ 02\\nSỔ THEO DÕI XỬ PHẠT VI PHẠM HÀNH CHÍNH\\nTT\\nBiên bản vi phạm hành chính\\nQuyết định xử phạt vi phạm hành chính\\nTheo dõi kết quả thực hiện\\nGhi chú\\nSố; ngày ban hành biên bản\\nHọ tên, chức vụ người lập biên bản\\nTên tổ chức/cá nhân vi phạm\\nHành vi vi phạm\\nSố; ngày ban hành quyết định\\nHọ tên, chức vụ người ra quyết định\\nHình thức xử phạt\\nPhạt tiền\\nPhạt bổ sung\\nKhắc phục hậu quả\\nVăn bản QPPL áp dụng để xử phạt\\nSố tiền\\nTước quyền sử dụng GP, CCHN\\nBiện pháp khắc phục hậu quả\\n(1)\\n(2)\\n(3)\\n(4)\\n(5)\\n(6)\\n(7)\\n(8)\\n(9)\\n(10)\\n(11)\\n(12)\\n(13)\\n(14)\\n(15)\\n\\n\\n\\n\\n\\n\\n\\n\\n\\n\\n\\n\\n\\n\\n\\nGhi chú:\\nCột (5): Ghi rõ từng hành vi vi phạm ghi trong biên bản vi phạm hành chính;&quot;,\n",
       "  &quot;135672&quot;: &quot;Thông tư 30/2022/TT-BGTVT biểu mẫu xử phạt vi phạm hành chính ngành Giao thông vận tải mới nhất |  (15)\\nGhi chú:\\nCột (5): Ghi rõ từng hành vi vi phạm ghi trong biên bản vi phạm hành chính;\\nCột (8): Ghi rõ điểm, khoản, điều và tên văn bản quy phạm pháp luật áp dụng để xử phạt (ví dụ: điểm a khoản 1 Điều 24 NĐ100);\\nCột (10): Ghi rõ thời gian tước và loại giấy phép, chứng chỉ hành nghề bị tước (ví dụ: Tước quyền sử dụng GPLX 02 tháng);\\nCột (12), (13), (14): Đánh dấu (x) đối với trường hợp đối tượng vi phạm đã thực hiện xong;\\nCác cơ quan, đơn vị có thể bổ sung thêm nội dung theo quy chế quản lý nội bộ của cơ quan, đơn vị.\\n\\nMẫu sổ 03\\nSỔ THEO DÕI TẠM GIỮ, GIỮ, TRẢ LẠI TANG VẬT, PHƯƠNG TIỆN, GIẤY PHÉP, CHỨNG CHỈ HÀNH NGHỀ BỊ TẠM GIỮ, GIỮ\\nTT\\nTạm giữ, giữ tang vật, phương tiện, giấy phép, chứng chỉ hành nghề\\nTrả lại tang vật, phương tiện, giấy phép, chứng chỉ hành nghề bị tạm giữ, giữ\\nGhi chú\\nSố; ngày ban hành biên bản tạm giữ, giữ\\nTên, chức vụ người ký biên bản tạm giữ, giữ\\nLoại tang vật, phương tiện, giấy phép, chứng chỉ hành nghề bị tạm giữ, giữ\\nSố; ngày tháng ban hành quyết định tạm giữ\\nTên, chức vụ người ký quyết định tạm giữ\\nTên tổ chức/cá nhân vi phạm\\nThời hạn tạm giữ, giữ\\nLý do tạm giữ, giữ&quot;,\n",
       "  &quot;100466&quot;: &quot;Thông tư 30/2022/TT-BGTVT biểu mẫu xử phạt vi phạm hành chính ngành Giao thông vận tải mới nhất |  Điều 5. Hiệu lực thi hành\\n2. Thông tư này bãi bỏ:\\nđ) Cụm từ “Sổ theo dõi xử lý vi phạm hành chính theo Mẫu số 2 quy định tại Phụ lục IV của Thông tư này” tại khoản 2 Điều 27 và Mẫu số 2 Phụ lục IV ban hành kèm theo Thông tư số 02/2014/TT-BGTVT ngày 25 tháng 02 năm 2014 của Bộ trưởng Bộ Giao thông vận tải quy định quy trình thanh chuyên ngành, xử phạt vi phạm hành chính; công tác lập kế hoạch, chế độ báo cáo và quản lý nội bộ của thanh tra ngành Giao thông vận tải (sau đây gọi là Thông tư số 02/2014/TT-BGTVT );&quot;,\n",
       "  &quot;16654&quot;: &quot;Thông tư 30/2022/TT-BGTVT biểu mẫu xử phạt vi phạm hành chính ngành Giao thông vận tải mới nhất |  2\\nMBB02\\nBiên bản trả lại giấy phép, chứng chỉ hành nghề bị giữ\\n\\nMẫu biên bản số 01\\nCƠ QUAN (1) -------\\nCỘNG HÒA XÃ HỘI CHỦ NGHĨA VIỆT NAM Độc lập - Tự do - Hạnh phúc ---------------\\nSố: ....../BB-KNBBVPHC\\n\\n\\nBIÊN BẢN\\nVề việc không nhận biên bản vi phạm hành chính*\\nHôm nay, hồi…... giờ ...... phút, ngày ..……/……/……., tại (2) ...............................................................................................................................................\\nChúng tôi gồm:\\n1. (*): Ghi là biên bản vi phạm hành chính nếu là Sổ quản lý, theo dõi biểu mẫu biên bản vi phạm hành chính; quyết định xử phạt vi phạm hành chính nếu là Sổ quản lý, theo dõi biểu mẫu quyết định xử phạt vi phạm hành chính.\\n- Cột (4) và cột (8): Ghi số lượng tờ và liệt kê theo số seri. Ví dụ: 100 tờ, có số seri từ 00001 đến 00100; 100 tờ, có số seri từ 00001 đến 00050 và từ 00101 đến 00150.\\n- Cột (5): Người nhập/quản lý biểu mẫu của đơn vị ký xác nhận.\\n- Cột (11) và cột (12): Ghi số lượng quyển, số lượng tờ và liệt kê theo số seri. Ví dụ: 02 quyển, 100 tờ, có số seri từ 00001 đến 00100; 02 quyển, 100 tờ, có số seri từ 00001 đến 00050 và từ 00101 đến 00150.\\n- Cột (13): Ghi số lượng tờ và chi tiết theo số seri. Ví dụ: 03 tờ, gồm các seri 00001, 00035, 00070.&quot;\n",
       "}\n",
       "Guide:\n",
       "    - Hãy phân tích sau đó đưa ra kết luận về câu hỏi này\n",
       "    - \n",
       "    - Response language: Vietnamese\n",
       "</div></div><div style='display: flex; border-bottom: 1px solid rgba(127, 127, 127, 0.2); align-items: center;'><div style='flex: 0 0 80px; opacity: 0.5;'>assistant</div><div style='flex-grow: 1; padding: 5px; padding-top: 10px; padding-bottom: 10px; margin-top: 0px; white-space: pre-wrap; margin-bottom: 0px;'>**Câu hỏi** Mẫu sổ theo dõi trong xử phạt vi phạm hành chính ngành giao thông vận tải là những mẫu nào?\n",
       "\n",
       "**Suy luận<span style='background-color: rgba(0.0, 165.0, 0, 0.15); border-radius: 3px;' title='1.0'>**</span><span style='background-color: rgba(0.0, 165.0, 0, 0.15); border-radius: 3px;' title='1.0'> D</span><span style='background-color: rgba(0.0, 165.0, 0, 0.15); border-radius: 3px;' title='1.0'>ựa</span><span style='background-color: rgba(0.0, 165.0, 0, 0.15); border-radius: 3px;' title='1.0'> trên</span><span style='background-color: rgba(0.0, 165.0, 0, 0.15); border-radius: 3px;' title='1.0'> tài</span><span style='background-color: rgba(0.0, 165.0, 0, 0.15); border-radius: 3px;' title='1.0'> liệu</span><span style='background-color: rgba(0.0, 165.0, 0, 0.15); border-radius: 3px;' title='1.0'> được</span><span style='background-color: rgba(0.0, 165.0, 0, 0.15); border-radius: 3px;' title='1.0'> c</span><span style='background-color: rgba(0.0, 165.0, 0, 0.15); border-radius: 3px;' title='1.0'>ung</span><span style='background-color: rgba(0.0, 165.0, 0, 0.15); border-radius: 3px;' title='1.0'> cấp</span><span style='background-color: rgba(0.0, 165.0, 0, 0.15); border-radius: 3px;' title='1.0'>,</span><span style='background-color: rgba(0.0, 165.0, 0, 0.15); border-radius: 3px;' title='1.0'> có</span><span style='background-color: rgba(0.0, 165.0, 0, 0.15); border-radius: 3px;' title='1.0'> ba</span><span style='background-color: rgba(0.0, 165.0, 0, 0.15); border-radius: 3px;' title='1.0'> mẫu</span><span style='background-color: rgba(0.0, 165.0, 0, 0.15); border-radius: 3px;' title='1.0'> sổ</span><span style='background-color: rgba(0.0, 165.0, 0, 0.15); border-radius: 3px;' title='1.0'> the</span><span style='background-color: rgba(0.0, 165.0, 0, 0.15); border-radius: 3px;' title='1.0'>o</span><span style='background-color: rgba(0.0, 165.0, 0, 0.15); border-radius: 3px;' title='1.0'> dõi</span><span style='background-color: rgba(0.0, 165.0, 0, 0.15); border-radius: 3px;' title='1.0'> được</span><span style='background-color: rgba(0.0, 165.0, 0, 0.15); border-radius: 3px;' title='1.0'> đề</span><span style='background-color: rgba(0.0, 165.0, 0, 0.15); border-radius: 3px;' title='1.0'> cập</span><span style='background-color: rgba(0.0, 165.0, 0, 0.15); border-radius: 3px;' title='1.0'> đến</span><span style='background-color: rgba(0.0, 165.0, 0, 0.15); border-radius: 3px;' title='1.0'> trong</span><span style='background-color: rgba(0.0, 165.0, 0, 0.15); border-radius: 3px;' title='1.0'> xử</span><span style='background-color: rgba(0.0, 165.0, 0, 0.15); border-radius: 3px;' title='1.0'> phạt</span><span style='background-color: rgba(0.0, 165.0, 0, 0.15); border-radius: 3px;' title='1.0'> vi</span><span style='background-color: rgba(0.0, 165.0, 0, 0.15); border-radius: 3px;' title='1.0'> phạm</span><span style='background-color: rgba(0.0, 165.0, 0, 0.15); border-radius: 3px;' title='1.0'> hành</span><span style='background-color: rgba(0.0, 165.0, 0, 0.15); border-radius: 3px;' title='1.0'> chính</span><span style='background-color: rgba(0.0, 165.0, 0, 0.15); border-radius: 3px;' title='1.0'> ngành</span><span style='background-color: rgba(0.0, 165.0, 0, 0.15); border-radius: 3px;' title='1.0'> g</span><span style='background-color: rgba(0.0, 165.0, 0, 0.15); border-radius: 3px;' title='1.0'>iao</span><span style='background-color: rgba(0.0, 165.0, 0, 0.15); border-radius: 3px;' title='1.0'> thông</span><span style='background-color: rgba(0.0, 165.0, 0, 0.15); border-radius: 3px;' title='1.0'> vận</span><span style='background-color: rgba(0.0, 165.0, 0, 0.15); border-radius: 3px;' title='1.0'> tải</span><span style='background-color: rgba(0.0, 165.0, 0, 0.15); border-radius: 3px;' title='1.0'>:\n",
       "\n",
       "</span><span style='background-color: rgba(0.0, 165.0, 0, 0.15); border-radius: 3px;' title='1.0'>1</span><span style='background-color: rgba(0.0, 165.0, 0, 0.15); border-radius: 3px;' title='1.0'>.</span><span style='background-color: rgba(0.0, 165.0, 0, 0.15); border-radius: 3px;' title='1.0'> M</span><span style='background-color: rgba(0.0, 165.0, 0, 0.15); border-radius: 3px;' title='1.0'>ẫu</span><span style='background-color: rgba(0.0, 165.0, 0, 0.15); border-radius: 3px;' title='1.0'> sổ</span><span style='background-color: rgba(0.0, 165.0, 0, 0.15); border-radius: 3px;' title='1.0'> </span><span style='background-color: rgba(0.0, 165.0, 0, 0.15); border-radius: 3px;' title='1.0'>0</span><span style='background-color: rgba(0.0, 165.0, 0, 0.15); border-radius: 3px;' title='1.0'>1</span><span style='background-color: rgba(0.0, 165.0, 0, 0.15); border-radius: 3px;' title='1.0'>:</span><span style='background-color: rgba(0.0, 165.0, 0, 0.15); border-radius: 3px;' title='1.0'> S</span><span style='background-color: rgba(0.0, 165.0, 0, 0.15); border-radius: 3px;' title='1.0'>ổ</span><span style='background-color: rgba(0.0, 165.0, 0, 0.15); border-radius: 3px;' title='1.0'> the</span><span style='background-color: rgba(0.0, 165.0, 0, 0.15); border-radius: 3px;' title='1.0'>o</span><span style='background-color: rgba(0.0, 165.0, 0, 0.15); border-radius: 3px;' title='1.0'> dõi</span><span style='background-color: rgba(0.0, 165.0, 0, 0.15); border-radius: 3px;' title='1.0'> xử</span><span style='background-color: rgba(0.0, 165.0, 0, 0.15); border-radius: 3px;' title='1.0'> phạt</span><span style='background-color: rgba(0.0, 165.0, 0, 0.15); border-radius: 3px;' title='1.0'> vi</span><span style='background-color: rgba(0.0, 165.0, 0, 0.15); border-radius: 3px;' title='1.0'> phạm</span><span style='background-color: rgba(0.0, 165.0, 0, 0.15); border-radius: 3px;' title='1.0'> hành</span><span style='background-color: rgba(0.0, 165.0, 0, 0.15); border-radius: 3px;' title='1.0'> chính</span><span style='background-color: rgba(0.0, 165.0, 0, 0.15); border-radius: 3px;' title='1.0'>\n",
       "</span><span style='background-color: rgba(0.0, 165.0, 0, 0.15); border-radius: 3px;' title='1.0'>2</span><span style='background-color: rgba(0.0, 165.0, 0, 0.15); border-radius: 3px;' title='1.0'>.</span><span style='background-color: rgba(0.0, 165.0, 0, 0.15); border-radius: 3px;' title='1.0'> M</span><span style='background-color: rgba(0.0, 165.0, 0, 0.15); border-radius: 3px;' title='1.0'>ẫu</span><span style='background-color: rgba(0.0, 165.0, 0, 0.15); border-radius: 3px;' title='1.0'> sổ</span><span style='background-color: rgba(0.0, 165.0, 0, 0.15); border-radius: 3px;' title='1.0'> </span><span style='background-color: rgba(0.0, 165.0, 0, 0.15); border-radius: 3px;' title='1.0'>0</span><span style='background-color: rgba(0.0, 165.0, 0, 0.15); border-radius: 3px;' title='1.0'>2</span><span style='background-color: rgba(0.0, 165.0, 0, 0.15); border-radius: 3px;' title='1.0'>:</span><span style='background-color: rgba(0.0, 165.0, 0, 0.15); border-radius: 3px;' title='1.0'> S</span><span style='background-color: rgba(0.0, 165.0, 0, 0.15); border-radius: 3px;' title='1.0'>ổ</span><span style='background-color: rgba(0.0, 165.0, 0, 0.15); border-radius: 3px;' title='1.0'> the</span><span style='background-color: rgba(0.0, 165.0, 0, 0.15); border-radius: 3px;' title='1.0'>o</span><span style='background-color: rgba(0.0, 165.0, 0, 0.15); border-radius: 3px;' title='1.0'> dõi</span><span style='background-color: rgba(0.0, 165.0, 0, 0.15); border-radius: 3px;' title='1.0'> xử</span><span style='background-color: rgba(0.0, 165.0, 0, 0.15); border-radius: 3px;' title='1.0'> phạt</span><span style='background-color: rgba(0.0, 165.0, 0, 0.15); border-radius: 3px;' title='1.0'> vi</span><span style='background-color: rgba(0.0, 165.0, 0, 0.15); border-radius: 3px;' title='1.0'> phạm</span><span style='background-color: rgba(0.0, 165.0, 0, 0.15); border-radius: 3px;' title='1.0'> hành</span><span style='background-color: rgba(0.0, 165.0, 0, 0.15); border-radius: 3px;' title='1.0'> chính</span><span style='background-color: rgba(0.0, 165.0, 0, 0.15); border-radius: 3px;' title='1.0'>\n",
       "</span><span style='background-color: rgba(0.0, 165.0, 0, 0.15); border-radius: 3px;' title='1.0'>3</span><span style='background-color: rgba(0.0, 165.0, 0, 0.15); border-radius: 3px;' title='1.0'>.</span><span style='background-color: rgba(0.0, 165.0, 0, 0.15); border-radius: 3px;' title='1.0'> M</span><span style='background-color: rgba(0.0, 165.0, 0, 0.15); border-radius: 3px;' title='1.0'>ẫu</span><span style='background-color: rgba(0.0, 165.0, 0, 0.15); border-radius: 3px;' title='1.0'> sổ</span><span style='background-color: rgba(0.0, 165.0, 0, 0.15); border-radius: 3px;' title='1.0'> </span><span style='background-color: rgba(0.0, 165.0, 0, 0.15); border-radius: 3px;' title='1.0'>0</span><span style='background-color: rgba(0.0, 165.0, 0, 0.15); border-radius: 3px;' title='1.0'>3</span><span style='background-color: rgba(0.0, 165.0, 0, 0.15); border-radius: 3px;' title='1.0'>:</span><span style='background-color: rgba(0.0, 165.0, 0, 0.15); border-radius: 3px;' title='1.0'> S</span><span style='background-color: rgba(0.0, 165.0, 0, 0.15); border-radius: 3px;' title='1.0'>ổ</span><span style='background-color: rgba(0.0, 165.0, 0, 0.15); border-radius: 3px;' title='1.0'> the</span><span style='background-color: rgba(0.0, 165.0, 0, 0.15); border-radius: 3px;' title='1.0'>o</span><span style='background-color: rgba(0.0, 165.0, 0, 0.15); border-radius: 3px;' title='1.0'> dõi</span><span style='background-color: rgba(0.0, 165.0, 0, 0.15); border-radius: 3px;' title='1.0'> tạm</span><span style='background-color: rgba(0.0, 165.0, 0, 0.15); border-radius: 3px;' title='1.0'> giữ</span><span style='background-color: rgba(0.0, 165.0, 0, 0.15); border-radius: 3px;' title='1.0'>,</span><span style='background-color: rgba(0.0, 165.0, 0, 0.15); border-radius: 3px;' title='1.0'> giữ</span><span style='background-color: rgba(0.0, 165.0, 0, 0.15); border-radius: 3px;' title='1.0'>,</span><span style='background-color: rgba(0.0, 165.0, 0, 0.15); border-radius: 3px;' title='1.0'> trả</span><span style='background-color: rgba(0.0, 165.0, 0, 0.15); border-radius: 3px;' title='1.0'> lại</span><span style='background-color: rgba(0.0, 165.0, 0, 0.15); border-radius: 3px;' title='1.0'> tang</span><span style='background-color: rgba(0.0, 165.0, 0, 0.15); border-radius: 3px;' title='1.0'> vật</span><span style='background-color: rgba(0.0, 165.0, 0, 0.15); border-radius: 3px;' title='1.0'>,</span><span style='background-color: rgba(0.0, 165.0, 0, 0.15); border-radius: 3px;' title='1.0'> phương</span><span style='background-color: rgba(0.0, 165.0, 0, 0.15); border-radius: 3px;' title='1.0'> tiện</span><span style='background-color: rgba(0.0, 165.0, 0, 0.15); border-radius: 3px;' title='1.0'>,</span><span style='background-color: rgba(0.0, 165.0, 0, 0.15); border-radius: 3px;' title='1.0'> giấy</span><span style='background-color: rgba(0.0, 165.0, 0, 0.15); border-radius: 3px;' title='1.0'> phép</span><span style='background-color: rgba(0.0, 165.0, 0, 0.15); border-radius: 3px;' title='1.0'>,</span><span style='background-color: rgba(0.0, 165.0, 0, 0.15); border-radius: 3px;' title='1.0'> chứng</span><span style='background-color: rgba(0.0, 165.0, 0, 0.15); border-radius: 3px;' title='1.0'> chỉ</span><span style='background-color: rgba(0.0, 165.0, 0, 0.15); border-radius: 3px;' title='1.0'> hành</span><span style='background-color: rgba(0.0, 165.0, 0, 0.15); border-radius: 3px;' title='1.0'> nghề</span><span style='background-color: rgba(0.0, 165.0, 0, 0.15); border-radius: 3px;' title='1.0'> bị</span><span style='background-color: rgba(0.0, 165.0, 0, 0.15); border-radius: 3px;' title='1.0'> tạm</span><span style='background-color: rgba(0.0, 165.0, 0, 0.15); border-radius: 3px;' title='1.0'> giữ</span><span style='background-color: rgba(0.0, 165.0, 0, 0.15); border-radius: 3px;' title='1.0'>,</span><span style='background-color: rgba(0.0, 165.0, 0, 0.15); border-radius: 3px;' title='1.0'> giữ</span><span style='background-color: rgba(0.0, 165.0, 0, 0.15); border-radius: 3px;' title='1.0'>\n",
       "\n",
       "</span>\n",
       "\n",
       "**Kết luận<span style='background-color: rgba(0.0, 165.0, 0, 0.15); border-radius: 3px;' title='1.0'>**</span><span style='background-color: rgba(0.0, 165.0, 0, 0.15); border-radius: 3px;' title='1.0'> M</span><span style='background-color: rgba(0.0, 165.0, 0, 0.15); border-radius: 3px;' title='1.0'>ẫu</span><span style='background-color: rgba(0.0, 165.0, 0, 0.15); border-radius: 3px;' title='1.0'> sổ</span><span style='background-color: rgba(0.0, 165.0, 0, 0.15); border-radius: 3px;' title='1.0'> the</span><span style='background-color: rgba(0.0, 165.0, 0, 0.15); border-radius: 3px;' title='1.0'>o</span><span style='background-color: rgba(0.0, 165.0, 0, 0.15); border-radius: 3px;' title='1.0'> dõi</span><span style='background-color: rgba(0.0, 165.0, 0, 0.15); border-radius: 3px;' title='1.0'> trong</span><span style='background-color: rgba(0.0, 165.0, 0, 0.15); border-radius: 3px;' title='1.0'> xử</span><span style='background-color: rgba(0.0, 165.0, 0, 0.15); border-radius: 3px;' title='1.0'> phạt</span><span style='background-color: rgba(0.0, 165.0, 0, 0.15); border-radius: 3px;' title='1.0'> vi</span><span style='background-color: rgba(0.0, 165.0, 0, 0.15); border-radius: 3px;' title='1.0'> phạm</span><span style='background-color: rgba(0.0, 165.0, 0, 0.15); border-radius: 3px;' title='1.0'> hành</span><span style='background-color: rgba(0.0, 165.0, 0, 0.15); border-radius: 3px;' title='1.0'> chính</span><span style='background-color: rgba(0.0, 165.0, 0, 0.15); border-radius: 3px;' title='1.0'> ngành</span><span style='background-color: rgba(0.0, 165.0, 0, 0.15); border-radius: 3px;' title='1.0'> g</span><span style='background-color: rgba(0.0, 165.0, 0, 0.15); border-radius: 3px;' title='1.0'>iao</span><span style='background-color: rgba(0.0, 165.0, 0, 0.15); border-radius: 3px;' title='1.0'> thông</span><span style='background-color: rgba(0.0, 165.0, 0, 0.15); border-radius: 3px;' title='1.0'> vận</span><span style='background-color: rgba(0.0, 165.0, 0, 0.15); border-radius: 3px;' title='1.0'> tải</span><span style='background-color: rgba(0.0, 165.0, 0, 0.15); border-radius: 3px;' title='1.0'> b</span><span style='background-color: rgba(0.0, 165.0, 0, 0.15); border-radius: 3px;' title='1.0'>ao</span><span style='background-color: rgba(0.0, 165.0, 0, 0.15); border-radius: 3px;' title='1.0'> gồm</span><span style='background-color: rgba(0.0, 165.0, 0, 0.15); border-radius: 3px;' title='1.0'> ba</span><span style='background-color: rgba(0.0, 165.0, 0, 0.15); border-radius: 3px;' title='1.0'> mẫu</span><span style='background-color: rgba(0.0, 165.0, 0, 0.15); border-radius: 3px;' title='1.0'>:</span><span style='background-color: rgba(0.0, 165.0, 0, 0.15); border-radius: 3px;' title='1.0'> S</span><span style='background-color: rgba(0.0, 165.0, 0, 0.15); border-radius: 3px;' title='1.0'>ổ</span><span style='background-color: rgba(0.0, 165.0, 0, 0.15); border-radius: 3px;' title='1.0'> the</span><span style='background-color: rgba(0.0, 165.0, 0, 0.15); border-radius: 3px;' title='1.0'>o</span><span style='background-color: rgba(0.0, 165.0, 0, 0.15); border-radius: 3px;' title='1.0'> dõi</span><span style='background-color: rgba(0.0, 165.0, 0, 0.15); border-radius: 3px;' title='1.0'> xử</span><span style='background-color: rgba(0.0, 165.0, 0, 0.15); border-radius: 3px;' title='1.0'> phạt</span><span style='background-color: rgba(0.0, 165.0, 0, 0.15); border-radius: 3px;' title='1.0'> vi</span><span style='background-color: rgba(0.0, 165.0, 0, 0.15); border-radius: 3px;' title='1.0'> phạm</span><span style='background-color: rgba(0.0, 165.0, 0, 0.15); border-radius: 3px;' title='1.0'> hành</span><span style='background-color: rgba(0.0, 165.0, 0, 0.15); border-radius: 3px;' title='1.0'> chính</span><span style='background-color: rgba(0.0, 165.0, 0, 0.15); border-radius: 3px;' title='1.0'> (</span><span style='background-color: rgba(0.0, 165.0, 0, 0.15); border-radius: 3px;' title='1.0'>MS</span><span style='background-color: rgba(0.0, 165.0, 0, 0.15); border-radius: 3px;' title='1.0'>0</span><span style='background-color: rgba(0.0, 165.0, 0, 0.15); border-radius: 3px;' title='1.0'>1</span><span style='background-color: rgba(0.0, 165.0, 0, 0.15); border-radius: 3px;' title='1.0'> và</span><span style='background-color: rgba(0.0, 165.0, 0, 0.15); border-radius: 3px;' title='1.0'> MS</span><span style='background-color: rgba(0.0, 165.0, 0, 0.15); border-radius: 3px;' title='1.0'>0</span><span style='background-color: rgba(0.0, 165.0, 0, 0.15); border-radius: 3px;' title='1.0'>2</span><span style='background-color: rgba(0.0, 165.0, 0, 0.15); border-radius: 3px;' title='1.0'>)</span><span style='background-color: rgba(0.0, 165.0, 0, 0.15); border-radius: 3px;' title='1.0'> và</span><span style='background-color: rgba(0.0, 165.0, 0, 0.15); border-radius: 3px;' title='1.0'> S</span><span style='background-color: rgba(0.0, 165.0, 0, 0.15); border-radius: 3px;' title='1.0'>ổ</span><span style='background-color: rgba(0.0, 165.0, 0, 0.15); border-radius: 3px;' title='1.0'> the</span><span style='background-color: rgba(0.0, 165.0, 0, 0.15); border-radius: 3px;' title='1.0'>o</span><span style='background-color: rgba(0.0, 165.0, 0, 0.15); border-radius: 3px;' title='1.0'> dõi</span><span style='background-color: rgba(0.0, 165.0, 0, 0.15); border-radius: 3px;' title='1.0'> tạm</span><span style='background-color: rgba(0.0, 165.0, 0, 0.15); border-radius: 3px;' title='1.0'> giữ</span><span style='background-color: rgba(0.0, 165.0, 0, 0.15); border-radius: 3px;' title='1.0'>,</span><span style='background-color: rgba(0.0, 165.0, 0, 0.15); border-radius: 3px;' title='1.0'> giữ</span><span style='background-color: rgba(0.0, 165.0, 0, 0.15); border-radius: 3px;' title='1.0'>,</span><span style='background-color: rgba(0.0, 165.0, 0, 0.15); border-radius: 3px;' title='1.0'> trả</span><span style='background-color: rgba(0.0, 165.0, 0, 0.15); border-radius: 3px;' title='1.0'> lại</span><span style='background-color: rgba(0.0, 165.0, 0, 0.15); border-radius: 3px;' title='1.0'> tang</span><span style='background-color: rgba(0.0, 165.0, 0, 0.15); border-radius: 3px;' title='1.0'> vật</span><span style='background-color: rgba(0.0, 165.0, 0, 0.15); border-radius: 3px;' title='1.0'>,</span><span style='background-color: rgba(0.0, 165.0, 0, 0.15); border-radius: 3px;' title='1.0'> phương</span><span style='background-color: rgba(0.0, 165.0, 0, 0.15); border-radius: 3px;' title='1.0'> tiện</span><span style='background-color: rgba(0.0, 165.0, 0, 0.15); border-radius: 3px;' title='1.0'>,</span><span style='background-color: rgba(0.0, 165.0, 0, 0.15); border-radius: 3px;' title='1.0'> giấy</span><span style='background-color: rgba(0.0, 165.0, 0, 0.15); border-radius: 3px;' title='1.0'> phép</span><span style='background-color: rgba(0.0, 165.0, 0, 0.15); border-radius: 3px;' title='1.0'>,</span><span style='background-color: rgba(0.0, 165.0, 0, 0.15); border-radius: 3px;' title='1.0'> chứng</span><span style='background-color: rgba(0.0, 165.0, 0, 0.15); border-radius: 3px;' title='1.0'> chỉ</span><span style='background-color: rgba(0.0, 165.0, 0, 0.15); border-radius: 3px;' title='1.0'> hành</span><span style='background-color: rgba(0.0, 165.0, 0, 0.15); border-radius: 3px;' title='1.0'> nghề</span><span style='background-color: rgba(0.0, 165.0, 0, 0.15); border-radius: 3px;' title='1.0'> bị</span><span style='background-color: rgba(0.0, 165.0, 0, 0.15); border-radius: 3px;' title='1.0'> tạm</span><span style='background-color: rgba(0.0, 165.0, 0, 0.15); border-radius: 3px;' title='1.0'> giữ</span><span style='background-color: rgba(0.0, 165.0, 0, 0.15); border-radius: 3px;' title='1.0'>,</span><span style='background-color: rgba(0.0, 165.0, 0, 0.15); border-radius: 3px;' title='1.0'> giữ</span><span style='background-color: rgba(0.0, 165.0, 0, 0.15); border-radius: 3px;' title='1.0'> (</span><span style='background-color: rgba(0.0, 165.0, 0, 0.15); border-radius: 3px;' title='1.0'>MS</span><span style='background-color: rgba(0.0, 165.0, 0, 0.15); border-radius: 3px;' title='1.0'>0</span><span style='background-color: rgba(0.0, 165.0, 0, 0.15); border-radius: 3px;' title='1.0'>3</span><span style='background-color: rgba(0.0, 165.0, 0, 0.15); border-radius: 3px;' title='1.0'>).</span></div></div></pre>"
      ],
      "text/plain": [
       "<IPython.core.display.HTML object>"
      ]
     },
     "metadata": {},
     "output_type": "display_data"
    }
   ],
   "source": [
    "qa = questions[11]\n",
    "lm = qwen+giaothong_rag(query = qa['question'], db='docs')"
   ]
  },
  {
   "cell_type": "code",
   "execution_count": 75,
   "metadata": {},
   "outputs": [
    {
     "data": {
      "text/html": [
       "<pre style='margin: 0px; padding: 0px; vertical-align: middle; padding-left: 8px; margin-left: -8px; border-radius: 0px; border-left: 1px solid rgba(127, 127, 127, 0.2); white-space: pre-wrap; font-family: ColfaxAI, Arial; font-size: 15px; line-height: 23px;'><div style='display: flex; border-bottom: 1px solid rgba(127, 127, 127, 0.2); align-items: center;'><div style='flex: 0 0 80px; opacity: 0.5;'>system</div><div style='flex-grow: 1; padding: 5px; padding-top: 10px; padding-bottom: 10px; margin-top: 0px; white-space: pre-wrap; margin-bottom: 0px;'>You are now task to do the NLI task. You are given a question, a conclusion and an answer. \n",
       "Your task is to compare the conclusion with the answer and give the correct answer. \n",
       "Response with a single word: &quot;correct&quot; if the conclusion aligns with the answer, &quot;incorrect&quot; otherwise.</div></div><div style='display: flex; border-bottom: 1px solid rgba(127, 127, 127, 0.2); align-items: center;'><div style='flex: 0 0 80px; opacity: 0.5;'>user</div><div style='flex-grow: 1; padding: 5px; padding-top: 10px; padding-bottom: 10px; margin-top: 0px; white-space: pre-wrap; margin-bottom: 0px;'>**Question** Mẫu sổ theo dõi trong xử phạt vi phạm hành chính ngành giao thông vận tải là những mẫu nào?\n",
       "\n",
       "**Conclusion**  Mẫu sổ theo dõi trong xử phạt vi phạm hành chính ngành giao thông vận tải bao gồm ba mẫu: Sổ theo dõi xử phạt vi phạm hành chính (MS01 và MS02) và Sổ theo dõi tạm giữ, giữ, trả lại tang vật, phương tiện, giấy phép, chứng chỉ hành nghề bị tạm giữ, giữ (MS03).\n",
       "\n",
       "**Answer** Mẫu sổ theo dõi trong xử phạt vi phạm hành chính ngành giao thông vận tải bao gồm ba mẫu: Sổ theo dõi biểu mẫu xử phạt vi phạm hành chính trong lĩnh vực giao thông vận tải (MS01), Sổ theo dõi xử phạt vi phạm hành chính (MS02), và Sổ theo dõi tạm giữ, giữ, trả lại tang vật, phương tiện, giấy phép, chứng chỉ hành nghề bị tạm giữ, giữ (MS03).\n",
       "</div></div><div style='display: flex; border-bottom: 1px solid rgba(127, 127, 127, 0.2); align-items: center;'><div style='flex: 0 0 80px; opacity: 0.5;'>assistant</div><div style='flex-grow: 1; padding: 5px; padding-top: 10px; padding-bottom: 10px; margin-top: 0px; white-space: pre-wrap; margin-bottom: 0px;'>The conclusion is<span style='background-color: rgba(0.0, 165.0, 0, 0.15); border-radius: 3px;' title='1.0'> correct</span></div></div></pre>"
      ],
      "text/plain": [
       "<IPython.core.display.HTML object>"
      ]
     },
     "metadata": {},
     "output_type": "display_data"
    }
   ],
   "source": [
    "@guidance\n",
    "def compare_with_answer(lm, question, conclusion, answer):\n",
    "    with system():\n",
    "        lm = lm + '''You are now task to do the NLI task. You are given a question, a conclusion and an answer. \n",
    "        Your task is to compare the conclusion with the answer and give the correct answer. \n",
    "        Response with a single word: \"correct\" if the conclusion aligns with the answer, \"incorrect\" otherwise.'''\n",
    "    with user():\n",
    "        lm += f\"**Question** {question}\"\n",
    "        lm += f\"\\n\\n**Conclusion** {conclusion}\"\n",
    "        lm += f\"\\n\\n**Answer** {answer}\"\n",
    "    with assistant():\n",
    "        lm += \"The conclusion is \" + select([\"correct\", \"incorrect\"], name=\"correctness\")\n",
    "    return lm\n",
    "\n",
    "compare_lm = qwen+compare_with_answer(qa['question'], lm['conclusion'], qa['short_answer'])"
   ]
  },
  {
   "cell_type": "code",
   "execution_count": null,
   "metadata": {},
   "outputs": [],
   "source": []
  },
  {
   "cell_type": "code",
   "execution_count": null,
   "metadata": {},
   "outputs": [],
   "source": []
  },
  {
   "cell_type": "code",
   "execution_count": null,
   "metadata": {},
   "outputs": [],
   "source": []
  },
  {
   "cell_type": "code",
   "execution_count": null,
   "metadata": {},
   "outputs": [],
   "source": []
  }
 ],
 "metadata": {
  "kernelspec": {
   "display_name": "py39",
   "language": "python",
   "name": "python3"
  },
  "language_info": {
   "codemirror_mode": {
    "name": "ipython",
    "version": 3
   },
   "file_extension": ".py",
   "mimetype": "text/x-python",
   "name": "python",
   "nbconvert_exporter": "python",
   "pygments_lexer": "ipython3",
   "version": "3.9.18"
  }
 },
 "nbformat": 4,
 "nbformat_minor": 2
}
