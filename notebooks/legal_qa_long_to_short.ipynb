{
 "cells": [
  {
   "cell_type": "code",
   "execution_count": 1,
   "id": "660a10c5-54dc-448a-a6a4-c53f11bc2be5",
   "metadata": {},
   "outputs": [],
   "source": [
    "# %load_ext autoreload\n",
    "# %autoreload 2"
   ]
  },
  {
   "cell_type": "code",
   "execution_count": 2,
   "id": "7f883cd8-bc22-4b92-b7c4-5009ba82769f",
   "metadata": {},
   "outputs": [
    {
     "name": "stdout",
     "output_type": "stream",
     "text": [
      "/mnt/nfs-data/users/anhvth5/projects/guidance\n"
     ]
    },
    {
     "name": "stderr",
     "output_type": "stream",
     "text": [
      "/home/ubuntu/miniconda3/envs/py39/lib/python3.9/site-packages/IPython/core/magics/osm.py:417: UserWarning: using dhist requires you to install the `pickleshare` library.\n",
      "  self.shell.db['dhist'] = compress_dhist(dhist)[-100:]\n"
     ]
    }
   ],
   "source": [
    "cd .."
   ]
  },
  {
   "cell_type": "code",
   "execution_count": null,
   "id": "a8545257-09a3-4153-9edc-7fd29b822d14",
   "metadata": {},
   "outputs": [],
   "source": [
    "from speedy import *\n",
    "from guidance import *\n",
    "\n",
    "os.environ['CUDA_VISIBLE_DEVICES'] = '0'\n",
    "# qwen = models.prepare_model_guidance('../kilm-finetuning/output/q14_all_chat_data_v3_more_data_from_v1/')\n",
    "qwen = models.prepare_model_guidance()\n",
    "\n",
    "qas = []\n",
    "for path in glob('../tvpl_crawler/data/tvpl_qa_giaothong/qa/*'):\n",
    "    data = load_by_ext(path)\n",
    "    for q in data['questions']:\n",
    "        qas.append(json.dumps({'question': q['question'], 'answer': q['answer']}, ensure_ascii=False))\n",
    "\n",
    "\n",
    "\n",
    "\n",
    "\n",
    "examples = pd.read_csv('/tmp/qa.csv', names=['input:', 'output:'])\n",
    "examples\n",
    "import guidance\n",
    "@guidance\n",
    "def generate_short_answer(lm):\n",
    "    with system():\n",
    "        lm = qwen + '''\n",
    "Please restructure the provided answer according to these guidelines:\n",
    "- Extract short and succinct quote to answer the user question\n",
    "\n",
    "Input data:\n",
    "\n",
    "{\"question\": \"Từ ngày 27/11/2023, thủ tục cấp giấy xác nhận phù hợp về tuyển dụng, cung ứng thuyền viên hàng hải được thực hiện thế nào?\", \"answer\": [\"Căn cứ theo quy định tại khoản 7 Điều 3 Nghị định 74/2023/NĐ-CP sửa đổi bổ sung sửa đổi, bổ sung Điều 13 Nghị định 29/2017/NĐ-CP quy định về trình tự, thủ tục cấp giấy xác nhận phù hợp về tuyển dụng, cung ứng thuyền viên hàng hải được thực hiện theo các bước như sau:\", \"Bước 1: Nộp hồ sơ\", \"Tổ chức tuyển dụng, cung ứng thuyền viên hàng hải gửi trực tiếp hoặc qua hệ thống bưu chính hoặc qua hệ thống dịch vụ công trực tuyến đến Chi cục Hàng hải Việt Nam 01 bộ hồ sơ. Hồ sơ bao gồm:\", \"- Tờ khai theo Mẫu số 04 tại đây.\", \"- Bản sao có chứng thực hoặc bản sao kèm bản chính để đối chiếu hoặc bản sao điện tử hoặc bản sao điện tử từ sổ gốc hoặc bản sao điện tử có chứng thực từ bản chính giấy phép đưa thuyền viên đi làm việc ở nước ngoài hoặc giấy phép cho thuê hoặc cho thuê lại thuyền viên làm việc trên tàu biển dưới hình thức cho thuê, cho thuê lại lao động hoặc đưa người lao động đi làm việc ở nước ngoài theo quy định của pháp luật;\", \"- Bản sao có chứng thực hoặc bản sao kèm bản chính để đối chiếu hoặc bản sao điện tử hoặc bản sao điện tử từ sổ gốc hoặc bản sao điện tử có chứng thực từ bản chính Giấy chứng nhận phù hợp hệ thống quản lý chất lượng theo tiêu chuẩn ISO 9001 và Quy định 1.4 của Công ước MLC về dịch vụ tuyển dụng và cung ứng thuyền viên.\", \"Bước 2: Tiếp nhận hồ sơ, cấp giấy xác nhận\", \"Chi cục Hàng hải Việt Nam tiếp nhận hồ sơ, nếu hồ sơ chưa hợp lệ thì trong thời hạn 03 ngày làm việc kể từ ngày nhận được hồ sơ, Chi cục Hàng hải Việt Nam có văn bản thông báo và hướng dẫn tổ chức tuyển dụng, cung ứng thuyền viên hàng hải hoàn thiện hồ sơ theo quy định tại Nghị định 29/2017/NĐ-CP.\", \"Nếu hồ sơ hợp lệ thì trong thời hạn 03 ngày làm việc kể từ ngày nhận được hồ sơ, Chi cục Hàng hải Việt Nam phải cấp Giấy xác nhận theo Mẫu 05 quy định tại Phụ lục ban hành kèm theo Nghị định 29/2017/NĐ-CP; trường hợp không cấp phải có văn bản trả lời và nêu rõ lý do.\", \"Bước 3: Thông báo thông tin\", \"Chi cục Hàng hải Việt Nam thông báo thông tin về tổ chức tuyển dụng, cung ứng thuyền viên hàng hải được cấp Giấy xác nhận trên Cổng thông tin điện tử của Chi cục Hàng hải Việt Nam.\", \"Từ ngày 27/11/2023, thủ tục cấp giấy xác nhận phù hợp về tuyển dụng, cung ứng thuyền viên hàng hải được thực hiện thế nào? (Hình từ internet)\"]},\n",
    "Response :\n",
    "```quote\n",
    "Từ ngày 27/11/2023, thủ tục cấp giấy xác nhận phù hợp về tuyển dụng, cung ứng thuyền viên hàng hải bao gồm ba bước chính: Nộp hồ sơ, tiếp nhận hồ sơ và cấp giấy xác nhận, và thông báo thông tin.\n",
    "```\n",
    "'''\n",
    "    return lm\n",
    "\n",
    "app = qwen + generate_short_answer()\n",
    "q = qas[2]\n",
    "with user():\n",
    "    lm = app + q\n",
    "with assistant():\n",
    "    temp= lm +'```quote\\n'+gen('quote', suffix='```')\n",
    "\n"
   ]
  },
  {
   "cell_type": "code",
   "execution_count": 58,
   "id": "efd8b4ae-0edc-44cc-b55d-9f49fb513850",
   "metadata": {},
   "outputs": [
    {
     "data": {
      "text/html": [
       "<pre style='margin: 0px; padding: 0px; vertical-align: middle; padding-left: 8px; margin-left: -8px; border-radius: 0px; border-left: 1px solid rgba(127, 127, 127, 0.2); white-space: pre-wrap; font-family: ColfaxAI, Arial; font-size: 15px; line-height: 23px;'><div style='display: flex; border-bottom: 1px solid rgba(127, 127, 127, 0.2); align-items: center;'><div style='flex: 0 0 80px; opacity: 0.5;'>system</div><div style='flex-grow: 1; padding: 5px; padding-top: 10px; padding-bottom: 10px; margin-top: 0px; white-space: pre-wrap; margin-bottom: 0px;'>\n",
       "Please restructure the provided answer according to these guidelines:\n",
       "- Extract short and succinct quote to answer the user question\n",
       "\n",
       "Input data:\n",
       "\n",
       "{&quot;question&quot;: &quot;Từ ngày 27/11/2023, thủ tục cấp giấy xác nhận phù hợp về tuyển dụng, cung ứng thuyền viên hàng hải được thực hiện thế nào?&quot;, &quot;answer&quot;: [&quot;Căn cứ theo quy định tại khoản 7 Điều 3 Nghị định 74/2023/NĐ-CP sửa đổi bổ sung sửa đổi, bổ sung Điều 13 Nghị định 29/2017/NĐ-CP quy định về trình tự, thủ tục cấp giấy xác nhận phù hợp về tuyển dụng, cung ứng thuyền viên hàng hải được thực hiện theo các bước như sau:&quot;, &quot;Bước 1: Nộp hồ sơ&quot;, &quot;Tổ chức tuyển dụng, cung ứng thuyền viên hàng hải gửi trực tiếp hoặc qua hệ thống bưu chính hoặc qua hệ thống dịch vụ công trực tuyến đến Chi cục Hàng hải Việt Nam 01 bộ hồ sơ. Hồ sơ bao gồm:&quot;, &quot;- Tờ khai theo Mẫu số 04 tại đây.&quot;, &quot;- Bản sao có chứng thực hoặc bản sao kèm bản chính để đối chiếu hoặc bản sao điện tử hoặc bản sao điện tử từ sổ gốc hoặc bản sao điện tử có chứng thực từ bản chính giấy phép đưa thuyền viên đi làm việc ở nước ngoài hoặc giấy phép cho thuê hoặc cho thuê lại thuyền viên làm việc trên tàu biển dưới hình thức cho thuê, cho thuê lại lao động hoặc đưa người lao động đi làm việc ở nước ngoài theo quy định của pháp luật;&quot;, &quot;- Bản sao có chứng thực hoặc bản sao kèm bản chính để đối chiếu hoặc bản sao điện tử hoặc bản sao điện tử từ sổ gốc hoặc bản sao điện tử có chứng thực từ bản chính Giấy chứng nhận phù hợp hệ thống quản lý chất lượng theo tiêu chuẩn ISO 9001 và Quy định 1.4 của Công ước MLC về dịch vụ tuyển dụng và cung ứng thuyền viên.&quot;, &quot;Bước 2: Tiếp nhận hồ sơ, cấp giấy xác nhận&quot;, &quot;Chi cục Hàng hải Việt Nam tiếp nhận hồ sơ, nếu hồ sơ chưa hợp lệ thì trong thời hạn 03 ngày làm việc kể từ ngày nhận được hồ sơ, Chi cục Hàng hải Việt Nam có văn bản thông báo và hướng dẫn tổ chức tuyển dụng, cung ứng thuyền viên hàng hải hoàn thiện hồ sơ theo quy định tại Nghị định 29/2017/NĐ-CP.&quot;, &quot;Nếu hồ sơ hợp lệ thì trong thời hạn 03 ngày làm việc kể từ ngày nhận được hồ sơ, Chi cục Hàng hải Việt Nam phải cấp Giấy xác nhận theo Mẫu 05 quy định tại Phụ lục ban hành kèm theo Nghị định 29/2017/NĐ-CP; trường hợp không cấp phải có văn bản trả lời và nêu rõ lý do.&quot;, &quot;Bước 3: Thông báo thông tin&quot;, &quot;Chi cục Hàng hải Việt Nam thông báo thông tin về tổ chức tuyển dụng, cung ứng thuyền viên hàng hải được cấp Giấy xác nhận trên Cổng thông tin điện tử của Chi cục Hàng hải Việt Nam.&quot;, &quot;Từ ngày 27/11/2023, thủ tục cấp giấy xác nhận phù hợp về tuyển dụng, cung ứng thuyền viên hàng hải được thực hiện thế nào? (Hình từ internet)&quot;]},\n",
       "Response :\n",
       "```quote\n",
       "Từ ngày 27/11/2023, thủ tục cấp giấy xác nhận phù hợp về tuyển dụng, cung ứng thuyền viên hàng hải bao gồm ba bước chính: Nộp hồ sơ, tiếp nhận hồ sơ và cấp giấy xác nhận, và thông báo thông tin.\n",
       "```\n",
       "</div></div><div style='display: flex; border-bottom: 1px solid rgba(127, 127, 127, 0.2); align-items: center;'><div style='flex: 0 0 80px; opacity: 0.5;'>user</div><div style='flex-grow: 1; padding: 5px; padding-top: 10px; padding-bottom: 10px; margin-top: 0px; white-space: pre-wrap; margin-bottom: 0px;'>{&quot;question&quot;: &quot;Thuế tiêu thụ đặc biệt được hoàn lại trong trường hợp nào?&quot;, &quot;answer&quot;: [&quot;Việc hoàn thuế tiêu thụ đặc biệt được quy định tại khoản 4 Điều 7 Thông tư 195/2015/TT-BTC như sau:&quot;, &quot;Hoàn thuế&quot;, &quot;...&quot;, &quot;Việc hoàn thuế TTĐB theo quy định tại khoản 1, khoản 2 Điều này chỉ thực hiện đối với hàng hóa thực tế xuất khẩu và thủ tục, hồ sơ, trình tự, thẩm quyền giải quyết hoàn thuế TTĐB đối với hàng nhập khẩu được thực hiện theo quy định như đối với việc giải quyết hoàn thuế nhập khẩu theo quy định của pháp luật về thuế xuất khẩu, thuế nhập khẩu.&quot;, &quot;3. Cơ sở sản xuất, kinh doanh quyết toán thuế khi sáp nhập, chia, tách, giải thể, phá sản, chuyển đổi hình thức sở hữu, giao, bán, khoán, cho thuê doanh nghiệp nhà nước có số thuế TTĐB nộp thừa, cơ sở có quyền đề nghị cơ quan thuế hoàn lại số thuế TTĐB nộp thừa.&quot;, &quot;4. Hoàn thuế TTĐB trong các trường hợp:&quot;, &quot;a) Hoàn thuế theo quyết định của cơ quan có thẩm quyền theo quy định của pháp luật.&quot;, &quot;b) Hoàn thuế theo điều ước quốc tế mà Cộng hoà xã hội chủ nghĩa Việt Nam là thành viên.&quot;, &quot;c) Hoàn thuế trong trường hợp có số tiền thuế TTĐB đã nộp lớn hơn số tiền thuế TTĐB phải nộp theo quy định.&quot;, &quot;Thủ tục, hồ sơ, trình tự, thẩm quyền giải quyết hoàn thuế TTĐB theo quy định tại khoản 3, khoản 4 Điều này được thực hiện theo quy định của Luật quản lý thuế và các văn bản hướng dẫn thi hành.&quot;, &quot;Như vậy, theo quy định, thuế tiêu thụ đặc biệt có thể được hoàn lại trong các trường hợp sau đây:&quot;, &quot;(1) Hoàn thuế theo quyết định của cơ quan có thẩm quyền theo quy định của pháp luật.&quot;, &quot;(2) Hoàn thuế theo điều ước quốc tế mà Cộng hoà xã hội chủ nghĩa Việt Nam là thành viên.&quot;, &quot;(3) Hoàn thuế trong trường hợp có số tiền thuế tiêu thụ đặc biệt đã nộp lớn hơn số tiền thuế tiêu thụ đặc biệt phải nộp theo quy định.&quot;]}</div></div><div style='display: flex; border-bottom: 1px solid rgba(127, 127, 127, 0.2); align-items: center;'><div style='flex: 0 0 80px; opacity: 0.5;'>assistant</div><div style='flex-grow: 1; padding: 5px; padding-top: 10px; padding-bottom: 10px; margin-top: 0px; white-space: pre-wrap; margin-bottom: 0px;'>```quote\n",
       "<span style='background-color: rgba(0.0, 165.0, 0, 0.15); border-radius: 3px;' title='1.0'>Thu</span><span style='background-color: rgba(0.0, 165.0, 0, 0.15); border-radius: 3px;' title='1.0'>ế</span><span style='background-color: rgba(0.0, 165.0, 0, 0.15); border-radius: 3px;' title='1.0'> tiêu</span><span style='background-color: rgba(0.0, 165.0, 0, 0.15); border-radius: 3px;' title='1.0'> thụ</span><span style='background-color: rgba(0.0, 165.0, 0, 0.15); border-radius: 3px;' title='1.0'> đặc</span><span style='background-color: rgba(0.0, 165.0, 0, 0.15); border-radius: 3px;' title='1.0'> biệt</span><span style='background-color: rgba(0.0, 165.0, 0, 0.15); border-radius: 3px;' title='1.0'> được</span><span style='background-color: rgba(0.0, 165.0, 0, 0.15); border-radius: 3px;' title='1.0'> hoàn</span><span style='background-color: rgba(0.0, 165.0, 0, 0.15); border-radius: 3px;' title='1.0'> lại</span><span style='background-color: rgba(0.0, 165.0, 0, 0.15); border-radius: 3px;' title='1.0'> trong</span><span style='background-color: rgba(0.0, 165.0, 0, 0.15); border-radius: 3px;' title='1.0'> các</span><span style='background-color: rgba(0.0, 165.0, 0, 0.15); border-radius: 3px;' title='1.0'> trường</span><span style='background-color: rgba(0.0, 165.0, 0, 0.15); border-radius: 3px;' title='1.0'> hợp</span><span style='background-color: rgba(0.0, 165.0, 0, 0.15); border-radius: 3px;' title='1.0'>:</span><span style='background-color: rgba(0.0, 165.0, 0, 0.15); border-radius: 3px;' title='1.0'> (</span><span style='background-color: rgba(0.0, 165.0, 0, 0.15); border-radius: 3px;' title='1.0'>1</span><span style='background-color: rgba(0.0, 165.0, 0, 0.15); border-radius: 3px;' title='1.0'>)</span><span style='background-color: rgba(0.0, 165.0, 0, 0.15); border-radius: 3px;' title='1.0'> Ho</span><span style='background-color: rgba(0.0, 165.0, 0, 0.15); border-radius: 3px;' title='1.0'>àn</span><span style='background-color: rgba(0.0, 165.0, 0, 0.15); border-radius: 3px;' title='1.0'> thuế</span><span style='background-color: rgba(0.0, 165.0, 0, 0.15); border-radius: 3px;' title='1.0'> the</span><span style='background-color: rgba(0.0, 165.0, 0, 0.15); border-radius: 3px;' title='1.0'>o</span><span style='background-color: rgba(0.0, 165.0, 0, 0.15); border-radius: 3px;' title='1.0'> quyết</span><span style='background-color: rgba(0.0, 165.0, 0, 0.15); border-radius: 3px;' title='1.0'> định</span><span style='background-color: rgba(0.0, 165.0, 0, 0.15); border-radius: 3px;' title='1.0'> của</span><span style='background-color: rgba(0.0, 165.0, 0, 0.15); border-radius: 3px;' title='1.0'> cơ</span><span style='background-color: rgba(0.0, 165.0, 0, 0.15); border-radius: 3px;' title='1.0'> qu</span><span style='background-color: rgba(0.0, 165.0, 0, 0.15); border-radius: 3px;' title='1.0'>an</span><span style='background-color: rgba(0.0, 165.0, 0, 0.15); border-radius: 3px;' title='1.0'> có</span><span style='background-color: rgba(0.0, 165.0, 0, 0.15); border-radius: 3px;' title='1.0'> thẩm</span><span style='background-color: rgba(0.0, 165.0, 0, 0.15); border-radius: 3px;' title='1.0'> quyền</span><span style='background-color: rgba(0.0, 165.0, 0, 0.15); border-radius: 3px;' title='1.0'> the</span><span style='background-color: rgba(0.0, 165.0, 0, 0.15); border-radius: 3px;' title='1.0'>o</span><span style='background-color: rgba(0.0, 165.0, 0, 0.15); border-radius: 3px;' title='1.0'> quy</span><span style='background-color: rgba(0.0, 165.0, 0, 0.15); border-radius: 3px;' title='1.0'> định</span><span style='background-color: rgba(0.0, 165.0, 0, 0.15); border-radius: 3px;' title='1.0'> của</span><span style='background-color: rgba(0.0, 165.0, 0, 0.15); border-radius: 3px;' title='1.0'> pháp</span><span style='background-color: rgba(0.0, 165.0, 0, 0.15); border-radius: 3px;' title='1.0'> luật</span><span style='background-color: rgba(0.0, 165.0, 0, 0.15); border-radius: 3px;' title='1.0'>;</span><span style='background-color: rgba(0.0, 165.0, 0, 0.15); border-radius: 3px;' title='1.0'> (</span><span style='background-color: rgba(0.0, 165.0, 0, 0.15); border-radius: 3px;' title='1.0'>2</span><span style='background-color: rgba(0.0, 165.0, 0, 0.15); border-radius: 3px;' title='1.0'>)</span><span style='background-color: rgba(0.0, 165.0, 0, 0.15); border-radius: 3px;' title='1.0'> Ho</span><span style='background-color: rgba(0.0, 165.0, 0, 0.15); border-radius: 3px;' title='1.0'>àn</span><span style='background-color: rgba(0.0, 165.0, 0, 0.15); border-radius: 3px;' title='1.0'> thuế</span><span style='background-color: rgba(0.0, 165.0, 0, 0.15); border-radius: 3px;' title='1.0'> the</span><span style='background-color: rgba(0.0, 165.0, 0, 0.15); border-radius: 3px;' title='1.0'>o</span><span style='background-color: rgba(0.0, 165.0, 0, 0.15); border-radius: 3px;' title='1.0'> điều</span><span style='background-color: rgba(0.0, 165.0, 0, 0.15); border-radius: 3px;' title='1.0'> </span><span style='background-color: rgba(0.0, 165.0, 0, 0.15); border-radius: 3px;' title='1.0'>ước</span><span style='background-color: rgba(0.0, 165.0, 0, 0.15); border-radius: 3px;' title='1.0'> quốc</span><span style='background-color: rgba(0.0, 165.0, 0, 0.15); border-radius: 3px;' title='1.0'> tế</span><span style='background-color: rgba(0.0, 165.0, 0, 0.15); border-radius: 3px;' title='1.0'> mà</span><span style='background-color: rgba(0.0, 165.0, 0, 0.15); border-radius: 3px;' title='1.0'> Cộng</span><span style='background-color: rgba(0.0, 165.0, 0, 0.15); border-radius: 3px;' title='1.0'> ho</span><span style='background-color: rgba(0.0, 165.0, 0, 0.15); border-radius: 3px;' title='1.0'>à</span><span style='background-color: rgba(0.0, 165.0, 0, 0.15); border-radius: 3px;' title='1.0'> xã</span><span style='background-color: rgba(0.0, 165.0, 0, 0.15); border-radius: 3px;' title='1.0'> hội</span><span style='background-color: rgba(0.0, 165.0, 0, 0.15); border-radius: 3px;' title='1.0'> chủ</span><span style='background-color: rgba(0.0, 165.0, 0, 0.15); border-radius: 3px;' title='1.0'> nghĩa</span><span style='background-color: rgba(0.0, 165.0, 0, 0.15); border-radius: 3px;' title='1.0'> Việt</span><span style='background-color: rgba(0.0, 165.0, 0, 0.15); border-radius: 3px;' title='1.0'> Nam</span><span style='background-color: rgba(0.0, 165.0, 0, 0.15); border-radius: 3px;' title='1.0'> là</span><span style='background-color: rgba(0.0, 165.0, 0, 0.15); border-radius: 3px;' title='1.0'> thành</span><span style='background-color: rgba(0.0, 165.0, 0, 0.15); border-radius: 3px;' title='1.0'> viên</span><span style='background-color: rgba(0.0, 165.0, 0, 0.15); border-radius: 3px;' title='1.0'>;</span><span style='background-color: rgba(0.0, 165.0, 0, 0.15); border-radius: 3px;' title='1.0'> (</span><span style='background-color: rgba(0.0, 165.0, 0, 0.15); border-radius: 3px;' title='1.0'>3</span><span style='background-color: rgba(0.0, 165.0, 0, 0.15); border-radius: 3px;' title='1.0'>)</span><span style='background-color: rgba(0.0, 165.0, 0, 0.15); border-radius: 3px;' title='1.0'> Ho</span><span style='background-color: rgba(0.0, 165.0, 0, 0.15); border-radius: 3px;' title='1.0'>àn</span><span style='background-color: rgba(0.0, 165.0, 0, 0.15); border-radius: 3px;' title='1.0'> thuế</span><span style='background-color: rgba(0.0, 165.0, 0, 0.15); border-radius: 3px;' title='1.0'> trong</span><span style='background-color: rgba(0.0, 165.0, 0, 0.15); border-radius: 3px;' title='1.0'> trường</span><span style='background-color: rgba(0.0, 165.0, 0, 0.15); border-radius: 3px;' title='1.0'> hợp</span><span style='background-color: rgba(0.0, 165.0, 0, 0.15); border-radius: 3px;' title='1.0'> có</span><span style='background-color: rgba(0.0, 165.0, 0, 0.15); border-radius: 3px;' title='1.0'> số</span><span style='background-color: rgba(0.0, 165.0, 0, 0.15); border-radius: 3px;' title='1.0'> tiền</span><span style='background-color: rgba(0.0, 165.0, 0, 0.15); border-radius: 3px;' title='1.0'> thuế</span><span style='background-color: rgba(0.0, 165.0, 0, 0.15); border-radius: 3px;' title='1.0'> tiêu</span><span style='background-color: rgba(0.0, 165.0, 0, 0.15); border-radius: 3px;' title='1.0'> thụ</span><span style='background-color: rgba(0.0, 165.0, 0, 0.15); border-radius: 3px;' title='1.0'> đặc</span><span style='background-color: rgba(0.0, 165.0, 0, 0.15); border-radius: 3px;' title='1.0'> biệt</span><span style='background-color: rgba(0.0, 165.0, 0, 0.15); border-radius: 3px;' title='1.0'> đã</span><span style='background-color: rgba(0.0, 165.0, 0, 0.15); border-radius: 3px;' title='1.0'> nộp</span><span style='background-color: rgba(0.0, 165.0, 0, 0.15); border-radius: 3px;' title='1.0'> lớn</span><span style='background-color: rgba(0.0, 165.0, 0, 0.15); border-radius: 3px;' title='1.0'> hơn</span><span style='background-color: rgba(0.0, 165.0, 0, 0.15); border-radius: 3px;' title='1.0'> số</span><span style='background-color: rgba(0.0, 165.0, 0, 0.15); border-radius: 3px;' title='1.0'> tiền</span><span style='background-color: rgba(0.0, 165.0, 0, 0.15); border-radius: 3px;' title='1.0'> thuế</span><span style='background-color: rgba(0.0, 165.0, 0, 0.15); border-radius: 3px;' title='1.0'> tiêu</span><span style='background-color: rgba(0.0, 165.0, 0, 0.15); border-radius: 3px;' title='1.0'> thụ</span><span style='background-color: rgba(0.0, 165.0, 0, 0.15); border-radius: 3px;' title='1.0'> đặc</span><span style='background-color: rgba(0.0, 165.0, 0, 0.15); border-radius: 3px;' title='1.0'> biệt</span><span style='background-color: rgba(0.0, 165.0, 0, 0.15); border-radius: 3px;' title='1.0'> phải</span><span style='background-color: rgba(0.0, 165.0, 0, 0.15); border-radius: 3px;' title='1.0'> nộp</span><span style='background-color: rgba(0.0, 165.0, 0, 0.15); border-radius: 3px;' title='1.0'> the</span><span style='background-color: rgba(0.0, 165.0, 0, 0.15); border-radius: 3px;' title='1.0'>o</span><span style='background-color: rgba(0.0, 165.0, 0, 0.15); border-radius: 3px;' title='1.0'> quy</span><span style='background-color: rgba(0.0, 165.0, 0, 0.15); border-radius: 3px;' title='1.0'> định</span><span style='background-color: rgba(0.0, 165.0, 0, 0.15); border-radius: 3px;' title='1.0'>.\n",
       "</span><span style='background-color: rgba(0.0, 165.0, 0, 0.15); border-radius: 3px;' title='1.0'>```</span></div></div></pre>"
      ],
      "text/plain": [
       "<IPython.core.display.HTML object>"
      ]
     },
     "metadata": {},
     "output_type": "display_data"
    },
    {
     "name": "stdout",
     "output_type": "stream",
     "text": [
      "CPU times: user 6.96 s, sys: 571 ms, total: 7.54 s\n",
      "Wall time: 7.53 s\n"
     ]
    }
   ],
   "source": []
  },
  {
   "cell_type": "code",
   "execution_count": 59,
   "id": "f02e59ac-a00c-4124-8878-c4e6f1620008",
   "metadata": {},
   "outputs": [
    {
     "data": {
      "text/html": [
       "<pre style='margin: 0px; padding: 0px; vertical-align: middle; padding-left: 8px; margin-left: -8px; border-radius: 0px; border-left: 1px solid rgba(127, 127, 127, 0.2); white-space: pre-wrap; font-family: ColfaxAI, Arial; font-size: 15px; line-height: 23px;'><div style='display: flex; border-bottom: 1px solid rgba(127, 127, 127, 0.2); align-items: center;'><div style='flex: 0 0 80px; opacity: 0.5;'>user</div><div style='flex-grow: 1; padding: 5px; padding-top: 10px; padding-bottom: 10px; margin-top: 0px; white-space: pre-wrap; margin-bottom: 0px;'>Please answer the question given document: \n",
       "Question:Thuế tiêu thụ đặc biệt được hoàn lại trong trường hợp nào?\n",
       "Document:Thuế tiêu thụ đặc biệt được hoàn lại trong các trường hợp: (1) Hoàn thuế theo quyết định của cơ quan có thẩm quyền theo quy định của pháp luật; (2) Hoàn thuế theo điều ước quốc tế mà Cộng hoà xã hội chủ nghĩa Việt Nam là thành viên; (3) Hoàn thuế trong trường hợp có số tiền thuế tiêu thụ đặc biệt đã nộp lớn hơn số tiền thuế tiêu thụ đặc biệt phải nộp theo quy định.\n",
       "</div></div><div style='display: flex; border-bottom: 1px solid rgba(127, 127, 127, 0.2); align-items: center;'><div style='flex: 0 0 80px; opacity: 0.5;'>assistant</div><div style='flex-grow: 1; padding: 5px; padding-top: 10px; padding-bottom: 10px; margin-top: 0px; white-space: pre-wrap; margin-bottom: 0px;'>Kết luận<span style='background-color: rgba(0.0, 165.0, 0, 0.15); border-radius: 3px;' title='1.0'>:</span><span style='background-color: rgba(0.0, 165.0, 0, 0.15); border-radius: 3px;' title='1.0'> Thu</span><span style='background-color: rgba(0.0, 165.0, 0, 0.15); border-radius: 3px;' title='1.0'>ế</span><span style='background-color: rgba(0.0, 165.0, 0, 0.15); border-radius: 3px;' title='1.0'> tiêu</span><span style='background-color: rgba(0.0, 165.0, 0, 0.15); border-radius: 3px;' title='1.0'> thụ</span><span style='background-color: rgba(0.0, 165.0, 0, 0.15); border-radius: 3px;' title='1.0'> đặc</span><span style='background-color: rgba(0.0, 165.0, 0, 0.15); border-radius: 3px;' title='1.0'> biệt</span><span style='background-color: rgba(0.0, 165.0, 0, 0.15); border-radius: 3px;' title='1.0'> được</span><span style='background-color: rgba(0.0, 165.0, 0, 0.15); border-radius: 3px;' title='1.0'> hoàn</span><span style='background-color: rgba(0.0, 165.0, 0, 0.15); border-radius: 3px;' title='1.0'> lại</span><span style='background-color: rgba(0.0, 165.0, 0, 0.15); border-radius: 3px;' title='1.0'> trong</span><span style='background-color: rgba(0.0, 165.0, 0, 0.15); border-radius: 3px;' title='1.0'> các</span><span style='background-color: rgba(0.0, 165.0, 0, 0.15); border-radius: 3px;' title='1.0'> trường</span><span style='background-color: rgba(0.0, 165.0, 0, 0.15); border-radius: 3px;' title='1.0'> hợp</span><span style='background-color: rgba(0.0, 165.0, 0, 0.15); border-radius: 3px;' title='1.0'>:</span><span style='background-color: rgba(0.0, 165.0, 0, 0.15); border-radius: 3px;' title='1.0'> (</span><span style='background-color: rgba(0.0, 165.0, 0, 0.15); border-radius: 3px;' title='1.0'>1</span><span style='background-color: rgba(0.0, 165.0, 0, 0.15); border-radius: 3px;' title='1.0'>)</span><span style='background-color: rgba(0.0, 165.0, 0, 0.15); border-radius: 3px;' title='1.0'> Ho</span><span style='background-color: rgba(0.0, 165.0, 0, 0.15); border-radius: 3px;' title='1.0'>àn</span><span style='background-color: rgba(0.0, 165.0, 0, 0.15); border-radius: 3px;' title='1.0'> thuế</span><span style='background-color: rgba(0.0, 165.0, 0, 0.15); border-radius: 3px;' title='1.0'> the</span><span style='background-color: rgba(0.0, 165.0, 0, 0.15); border-radius: 3px;' title='1.0'>o</span><span style='background-color: rgba(0.0, 165.0, 0, 0.15); border-radius: 3px;' title='1.0'> quyết</span><span style='background-color: rgba(0.0, 165.0, 0, 0.15); border-radius: 3px;' title='1.0'> định</span><span style='background-color: rgba(0.0, 165.0, 0, 0.15); border-radius: 3px;' title='1.0'> của</span><span style='background-color: rgba(0.0, 165.0, 0, 0.15); border-radius: 3px;' title='1.0'> cơ</span><span style='background-color: rgba(0.0, 165.0, 0, 0.15); border-radius: 3px;' title='1.0'> qu</span><span style='background-color: rgba(0.0, 165.0, 0, 0.15); border-radius: 3px;' title='1.0'>an</span><span style='background-color: rgba(0.0, 165.0, 0, 0.15); border-radius: 3px;' title='1.0'> có</span><span style='background-color: rgba(0.0, 165.0, 0, 0.15); border-radius: 3px;' title='1.0'> thẩm</span><span style='background-color: rgba(0.0, 165.0, 0, 0.15); border-radius: 3px;' title='1.0'> quyền</span><span style='background-color: rgba(0.0, 165.0, 0, 0.15); border-radius: 3px;' title='1.0'> the</span><span style='background-color: rgba(0.0, 165.0, 0, 0.15); border-radius: 3px;' title='1.0'>o</span><span style='background-color: rgba(0.0, 165.0, 0, 0.15); border-radius: 3px;' title='1.0'> quy</span><span style='background-color: rgba(0.0, 165.0, 0, 0.15); border-radius: 3px;' title='1.0'> định</span><span style='background-color: rgba(0.0, 165.0, 0, 0.15); border-radius: 3px;' title='1.0'> của</span><span style='background-color: rgba(0.0, 165.0, 0, 0.15); border-radius: 3px;' title='1.0'> pháp</span><span style='background-color: rgba(0.0, 165.0, 0, 0.15); border-radius: 3px;' title='1.0'> luật</span><span style='background-color: rgba(0.0, 165.0, 0, 0.15); border-radius: 3px;' title='1.0'>;</span><span style='background-color: rgba(0.0, 165.0, 0, 0.15); border-radius: 3px;' title='1.0'> (</span><span style='background-color: rgba(0.0, 165.0, 0, 0.15); border-radius: 3px;' title='1.0'>2</span><span style='background-color: rgba(0.0, 165.0, 0, 0.15); border-radius: 3px;' title='1.0'>)</span><span style='background-color: rgba(0.0, 165.0, 0, 0.15); border-radius: 3px;' title='1.0'> Ho</span><span style='background-color: rgba(0.0, 165.0, 0, 0.15); border-radius: 3px;' title='1.0'>àn</span><span style='background-color: rgba(0.0, 165.0, 0, 0.15); border-radius: 3px;' title='1.0'> thuế</span><span style='background-color: rgba(0.0, 165.0, 0, 0.15); border-radius: 3px;' title='1.0'> the</span><span style='background-color: rgba(0.0, 165.0, 0, 0.15); border-radius: 3px;' title='1.0'>o</span><span style='background-color: rgba(0.0, 165.0, 0, 0.15); border-radius: 3px;' title='1.0'> điều</span><span style='background-color: rgba(0.0, 165.0, 0, 0.15); border-radius: 3px;' title='1.0'> </span><span style='background-color: rgba(0.0, 165.0, 0, 0.15); border-radius: 3px;' title='1.0'>ước</span><span style='background-color: rgba(0.0, 165.0, 0, 0.15); border-radius: 3px;' title='1.0'> quốc</span><span style='background-color: rgba(0.0, 165.0, 0, 0.15); border-radius: 3px;' title='1.0'> tế</span><span style='background-color: rgba(0.0, 165.0, 0, 0.15); border-radius: 3px;' title='1.0'> mà</span><span style='background-color: rgba(0.0, 165.0, 0, 0.15); border-radius: 3px;' title='1.0'> Cộng</span><span style='background-color: rgba(0.0, 165.0, 0, 0.15); border-radius: 3px;' title='1.0'> ho</span><span style='background-color: rgba(0.0, 165.0, 0, 0.15); border-radius: 3px;' title='1.0'>à</span><span style='background-color: rgba(0.0, 165.0, 0, 0.15); border-radius: 3px;' title='1.0'> xã</span><span style='background-color: rgba(0.0, 165.0, 0, 0.15); border-radius: 3px;' title='1.0'> hội</span><span style='background-color: rgba(0.0, 165.0, 0, 0.15); border-radius: 3px;' title='1.0'> chủ</span><span style='background-color: rgba(0.0, 165.0, 0, 0.15); border-radius: 3px;' title='1.0'> nghĩa</span><span style='background-color: rgba(0.0, 165.0, 0, 0.15); border-radius: 3px;' title='1.0'> Việt</span><span style='background-color: rgba(0.0, 165.0, 0, 0.15); border-radius: 3px;' title='1.0'> Nam</span><span style='background-color: rgba(0.0, 165.0, 0, 0.15); border-radius: 3px;' title='1.0'> là</span><span style='background-color: rgba(0.0, 165.0, 0, 0.15); border-radius: 3px;' title='1.0'> thành</span><span style='background-color: rgba(0.0, 165.0, 0, 0.15); border-radius: 3px;' title='1.0'> viên</span><span style='background-color: rgba(0.0, 165.0, 0, 0.15); border-radius: 3px;' title='1.0'>;</span><span style='background-color: rgba(0.0, 165.0, 0, 0.15); border-radius: 3px;' title='1.0'> (</span><span style='background-color: rgba(0.0, 165.0, 0, 0.15); border-radius: 3px;' title='1.0'>3</span><span style='background-color: rgba(0.0, 165.0, 0, 0.15); border-radius: 3px;' title='1.0'>)</span><span style='background-color: rgba(0.0, 165.0, 0, 0.15); border-radius: 3px;' title='1.0'> Ho</span><span style='background-color: rgba(0.0, 165.0, 0, 0.15); border-radius: 3px;' title='1.0'>àn</span><span style='background-color: rgba(0.0, 165.0, 0, 0.15); border-radius: 3px;' title='1.0'> thuế</span><span style='background-color: rgba(0.0, 165.0, 0, 0.15); border-radius: 3px;' title='1.0'> trong</span><span style='background-color: rgba(0.0, 165.0, 0, 0.15); border-radius: 3px;' title='1.0'> trường</span><span style='background-color: rgba(0.0, 165.0, 0, 0.15); border-radius: 3px;' title='1.0'> hợp</span><span style='background-color: rgba(0.0, 165.0, 0, 0.15); border-radius: 3px;' title='1.0'> có</span><span style='background-color: rgba(0.0, 165.0, 0, 0.15); border-radius: 3px;' title='1.0'> số</span><span style='background-color: rgba(0.0, 165.0, 0, 0.15); border-radius: 3px;' title='1.0'> tiền</span><span style='background-color: rgba(0.0, 165.0, 0, 0.15); border-radius: 3px;' title='1.0'> thuế</span><span style='background-color: rgba(0.0, 165.0, 0, 0.15); border-radius: 3px;' title='1.0'> tiêu</span><span style='background-color: rgba(0.0, 165.0, 0, 0.15); border-radius: 3px;' title='1.0'> thụ</span><span style='background-color: rgba(0.0, 165.0, 0, 0.15); border-radius: 3px;' title='1.0'> đặc</span><span style='background-color: rgba(0.0, 165.0, 0, 0.15); border-radius: 3px;' title='1.0'> biệt</span><span style='background-color: rgba(0.0, 165.0, 0, 0.15); border-radius: 3px;' title='1.0'> đã</span><span style='background-color: rgba(0.0, 165.0, 0, 0.15); border-radius: 3px;' title='1.0'> nộp</span><span style='background-color: rgba(0.0, 165.0, 0, 0.15); border-radius: 3px;' title='1.0'> lớn</span><span style='background-color: rgba(0.0, 165.0, 0, 0.15); border-radius: 3px;' title='1.0'> hơn</span><span style='background-color: rgba(0.0, 165.0, 0, 0.15); border-radius: 3px;' title='1.0'> số</span><span style='background-color: rgba(0.0, 165.0, 0, 0.15); border-radius: 3px;' title='1.0'> tiền</span><span style='background-color: rgba(0.0, 165.0, 0, 0.15); border-radius: 3px;' title='1.0'> thuế</span><span style='background-color: rgba(0.0, 165.0, 0, 0.15); border-radius: 3px;' title='1.0'> tiêu</span><span style='background-color: rgba(0.0, 165.0, 0, 0.15); border-radius: 3px;' title='1.0'> thụ</span><span style='background-color: rgba(0.0, 165.0, 0, 0.15); border-radius: 3px;' title='1.0'> đặc</span><span style='background-color: rgba(0.0, 165.0, 0, 0.15); border-radius: 3px;' title='1.0'> biệt</span><span style='background-color: rgba(0.0, 165.0, 0, 0.15); border-radius: 3px;' title='1.0'> phải</span><span style='background-color: rgba(0.0, 165.0, 0, 0.15); border-radius: 3px;' title='1.0'> nộp</span><span style='background-color: rgba(0.0, 165.0, 0, 0.15); border-radius: 3px;' title='1.0'> the</span><span style='background-color: rgba(0.0, 165.0, 0, 0.15); border-radius: 3px;' title='1.0'>o</span><span style='background-color: rgba(0.0, 165.0, 0, 0.15); border-radius: 3px;' title='1.0'> quy</span><span style='background-color: rgba(0.0, 165.0, 0, 0.15); border-radius: 3px;' title='1.0'> định</span><span style='background-color: rgba(0.0, 165.0, 0, 0.15); border-radius: 3px;' title='1.0'>.</span></div></div></pre>"
      ],
      "text/plain": [
       "<IPython.core.display.HTML object>"
      ]
     },
     "metadata": {},
     "output_type": "display_data"
    }
   ],
   "source": [
    "with user():\n",
    "    question = eval(q)['question']\n",
    "    lm = qwen + 'Please answer the question given document: \\nQuestion:{}\\nDocument:{}'.format(question, temp['quote'])\n",
    "with assistant():\n",
    "    lm += 'Kết luận:' + gen()"
   ]
  },
  {
   "cell_type": "code",
   "execution_count": 26,
   "id": "9f4ac9b1-0921-405b-9ee5-6585f372553f",
   "metadata": {},
   "outputs": [],
   "source": [
    "# qas[-1]"
   ]
  },
  {
   "cell_type": "code",
   "execution_count": 27,
   "id": "4e4bd110-fbdd-466f-bc6d-5f70d0bdd928",
   "metadata": {},
   "outputs": [],
   "source": [
    "# %%time\n",
    "# with user():\n",
    "#     lm = app + qas[1]\n",
    "# with assistant():\n",
    "#     lm += gen()"
   ]
  },
  {
   "cell_type": "code",
   "execution_count": null,
   "id": "8fbdb076-1257-4ea5-9fba-93ef417279d2",
   "metadata": {},
   "outputs": [],
   "source": []
  },
  {
   "cell_type": "code",
   "execution_count": null,
   "id": "ce4aea39-f612-4790-bafe-1465a0e79c94",
   "metadata": {},
   "outputs": [],
   "source": []
  },
  {
   "cell_type": "code",
   "execution_count": null,
   "id": "5faebf73-dfc1-43ac-b97b-98773f3114e1",
   "metadata": {},
   "outputs": [],
   "source": []
  }
 ],
 "metadata": {
  "kernelspec": {
   "display_name": "Python 3 (ipykernel)",
   "language": "python",
   "name": "python3"
  },
  "language_info": {
   "codemirror_mode": {
    "name": "ipython",
    "version": 3
   },
   "file_extension": ".py",
   "mimetype": "text/x-python",
   "name": "python",
   "nbconvert_exporter": "python",
   "pygments_lexer": "ipython3",
   "version": "3.9.18"
  }
 },
 "nbformat": 4,
 "nbformat_minor": 5
}
